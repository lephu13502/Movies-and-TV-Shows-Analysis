{
 "cells": [
  {
   "attachments": {},
   "cell_type": "markdown",
   "metadata": {},
   "source": [
    "## Import library"
   ]
  },
  {
   "cell_type": "code",
   "execution_count": 1,
   "metadata": {},
   "outputs": [],
   "source": [
    "import pandas as pd\n",
    "import numpy as np\n",
    "# visualization\n",
    "import matplotlib\n",
    "import matplotlib.pyplot as plt\n",
    "import seaborn as sns"
   ]
  },
  {
   "attachments": {},
   "cell_type": "markdown",
   "metadata": {},
   "source": [
    "# 1. Collecting data"
   ]
  },
  {
   "attachments": {},
   "cell_type": "markdown",
   "metadata": {},
   "source": [
    "## What subject is your data about? What is the source of your data?"
   ]
  },
  {
   "attachments": {},
   "cell_type": "markdown",
   "metadata": {},
   "source": [
    "The subject of our data is about movies and TV shows on Netflix. The source of our data is from [Kaggle](https://www.kaggle.com/datasets/victorsoeiro/netflix-tv-shows-and-movies?select=credits.csv)"
   ]
  },
  {
   "attachments": {},
   "cell_type": "markdown",
   "metadata": {},
   "source": [
    "## Do authors of this data allow you to use like this?"
   ]
  },
  {
   "attachments": {},
   "cell_type": "markdown",
   "metadata": {},
   "source": [
    "Yes, the authors of this data allow us to use like this, because they have a license of CC0: Public Domain."
   ]
  },
  {
   "attachments": {},
   "cell_type": "markdown",
   "metadata": {},
   "source": [
    "## How did authors collect data?"
   ]
  },
  {
   "attachments": {},
   "cell_type": "markdown",
   "metadata": {},
   "source": [
    "The author collected data from the API of JustWatch website, to get the data all he had to do was the requests package. ([Source](https://github.com/victor-soeiro/WebScraping-Projects/blob/main/08%20-%20justwatch/main.ipynb))"
   ]
  },
  {
   "attachments": {},
   "cell_type": "markdown",
   "metadata": {},
   "source": [
    "# 2. Exploring data"
   ]
  },
  {
   "attachments": {},
   "cell_type": "markdown",
   "metadata": {},
   "source": [
    "* How many rows and how many columns?\n",
    "* What is the meaning of each row?\n",
    "* Are there duplicated rows?\n",
    "* What is the meaning of each column?\n",
    "* What is the current data type of each column? Are there\n",
    "columns having inappropriate data types?\n",
    "* With each numerical column, how are values distributed?\n",
    "* What is the percentage of missing values?\n",
    "* Min? max? Are they abnormal?\n",
    "* With each categorical column, how are values distributed?\n",
    "* What is the percentage of missing values?\n",
    "* How many different values? Show a few\n",
    "* Are they abnormal?"
   ]
  },
  {
   "attachments": {},
   "cell_type": "markdown",
   "metadata": {},
   "source": [
    "### Load Dataset"
   ]
  },
  {
   "cell_type": "code",
   "execution_count": 2,
   "metadata": {},
   "outputs": [],
   "source": [
    "credits_df = pd.read_csv('credits.csv')\n",
    "titles_df = pd.read_csv('titles.csv')"
   ]
  },
  {
   "attachments": {},
   "cell_type": "markdown",
   "metadata": {},
   "source": [
    "### How many rows and how many columns?"
   ]
  },
  {
   "cell_type": "code",
   "execution_count": 3,
   "metadata": {},
   "outputs": [
    {
     "data": {
      "text/plain": [
       "(77801, 5)"
      ]
     },
     "execution_count": 3,
     "metadata": {},
     "output_type": "execute_result"
    }
   ],
   "source": [
    "credits_df.shape"
   ]
  },
  {
   "cell_type": "code",
   "execution_count": 4,
   "metadata": {},
   "outputs": [
    {
     "data": {
      "text/plain": [
       "(5850, 15)"
      ]
     },
     "execution_count": 4,
     "metadata": {},
     "output_type": "execute_result"
    }
   ],
   "source": [
    "titles_df.shape"
   ]
  },
  {
   "attachments": {},
   "cell_type": "markdown",
   "metadata": {},
   "source": [
    "### What is the meaning of each row?"
   ]
  },
  {
   "cell_type": "code",
   "execution_count": 5,
   "metadata": {},
   "outputs": [
    {
     "name": "stdout",
     "output_type": "stream",
     "text": [
      "<class 'pandas.core.frame.DataFrame'>\n",
      "RangeIndex: 77801 entries, 0 to 77800\n",
      "Data columns (total 5 columns):\n",
      " #   Column     Non-Null Count  Dtype \n",
      "---  ------     --------------  ----- \n",
      " 0   person_id  77801 non-null  int64 \n",
      " 1   id         77801 non-null  object\n",
      " 2   name       77801 non-null  object\n",
      " 3   character  68029 non-null  object\n",
      " 4   role       77801 non-null  object\n",
      "dtypes: int64(1), object(4)\n",
      "memory usage: 3.0+ MB\n"
     ]
    }
   ],
   "source": [
    "credits_df.info()"
   ]
  },
  {
   "cell_type": "code",
   "execution_count": 6,
   "metadata": {},
   "outputs": [
    {
     "name": "stdout",
     "output_type": "stream",
     "text": [
      "<class 'pandas.core.frame.DataFrame'>\n",
      "RangeIndex: 5850 entries, 0 to 5849\n",
      "Data columns (total 15 columns):\n",
      " #   Column                Non-Null Count  Dtype  \n",
      "---  ------                --------------  -----  \n",
      " 0   id                    5850 non-null   object \n",
      " 1   title                 5849 non-null   object \n",
      " 2   type                  5850 non-null   object \n",
      " 3   description           5832 non-null   object \n",
      " 4   release_year          5850 non-null   int64  \n",
      " 5   age_certification     3231 non-null   object \n",
      " 6   runtime               5850 non-null   int64  \n",
      " 7   genres                5850 non-null   object \n",
      " 8   production_countries  5850 non-null   object \n",
      " 9   seasons               2106 non-null   float64\n",
      " 10  imdb_id               5447 non-null   object \n",
      " 11  imdb_score            5368 non-null   float64\n",
      " 12  imdb_votes            5352 non-null   float64\n",
      " 13  tmdb_popularity       5759 non-null   float64\n",
      " 14  tmdb_score            5539 non-null   float64\n",
      "dtypes: float64(5), int64(2), object(8)\n",
      "memory usage: 685.7+ KB\n"
     ]
    }
   ],
   "source": [
    "titles_df.info()"
   ]
  },
  {
   "attachments": {},
   "cell_type": "markdown",
   "metadata": {},
   "source": [
    "### Are there duplicated rows?"
   ]
  },
  {
   "cell_type": "code",
   "execution_count": 7,
   "metadata": {},
   "outputs": [
    {
     "name": "stdout",
     "output_type": "stream",
     "text": [
      "Duplicated date in credits_df: 0\n",
      "Duplicated date in titles_df: 0\n"
     ]
    }
   ],
   "source": [
    "print('Duplicated date in credits_df:', credits_df.duplicated().sum())\n",
    "print('Duplicated date in titles_df:', titles_df.duplicated().sum())"
   ]
  },
  {
   "attachments": {},
   "cell_type": "markdown",
   "metadata": {},
   "source": [
    "### What is the meaning of each column?"
   ]
  },
  {
   "attachments": {},
   "cell_type": "markdown",
   "metadata": {},
   "source": [
    "1. Credit's column information "
   ]
  },
  {
   "attachments": {},
   "cell_type": "markdown",
   "metadata": {},
   "source": [
    "\n",
    "| Colunm Name | Information             |\n",
    "|-------------|-------------------------|\n",
    "| person_id   | The id of this person   |\n",
    "| id          | The id                  |\n",
    "| name        | The name of this person |\n",
    "| character   | The character in film   |\n",
    "| role        | The role of this person | "
   ]
  },
  {
   "attachments": {},
   "cell_type": "markdown",
   "metadata": {},
   "source": [
    "2. Title's column information"
   ]
  },
  {
   "attachments": {},
   "cell_type": "markdown",
   "metadata": {},
   "source": [
    "| Column name          | Information                                   |\n",
    "|----------------------|-----------------------------------------------|\n",
    "| id                   | The ID of movie                               |\n",
    "| title                | The name of movie                             |\n",
    "| type                 | The type of movie                             |\n",
    "| description          | The description of movie                      |\n",
    "| release_year         | The year release of movie                     |\n",
    "| age_certification    | The age limit of movie                        |\n",
    "| runtime              | Movie duration                                |\n",
    "| genres               | The genres of movie                           |\n",
    "| production_countries | The country product movie                     |\n",
    "| seasons              | The season of movie or TV shows               |\n",
    "| imdb_id              | The ID of movie on Internet Movie Database    |\n",
    "| imdb_score           | The score of movie on Internet Movie Database |\n",
    "| imdb_votes           | The vote of movie on Internet Movie Database  |\n",
    "| tmdb_popularity      | The popularity of movie on The Movie Database |\n",
    "| tmdb_score           | The score of movie on The Movie Database      |\n"
   ]
  },
  {
   "attachments": {},
   "cell_type": "markdown",
   "metadata": {},
   "source": [
    "### What is the current data type of each column? Are there columns having inappropriate data types?\n"
   ]
  },
  {
   "cell_type": "code",
   "execution_count": 8,
   "metadata": {},
   "outputs": [
    {
     "data": {
      "text/plain": [
       "person_id     int64\n",
       "id           object\n",
       "name         object\n",
       "character    object\n",
       "role         object\n",
       "dtype: object"
      ]
     },
     "execution_count": 8,
     "metadata": {},
     "output_type": "execute_result"
    }
   ],
   "source": [
    "credits_df.dtypes"
   ]
  },
  {
   "cell_type": "code",
   "execution_count": 9,
   "metadata": {},
   "outputs": [
    {
     "data": {
      "text/plain": [
       "id                       object\n",
       "title                    object\n",
       "type                     object\n",
       "description              object\n",
       "release_year              int64\n",
       "age_certification        object\n",
       "runtime                   int64\n",
       "genres                   object\n",
       "production_countries     object\n",
       "seasons                 float64\n",
       "imdb_id                  object\n",
       "imdb_score              float64\n",
       "imdb_votes              float64\n",
       "tmdb_popularity         float64\n",
       "tmdb_score              float64\n",
       "dtype: object"
      ]
     },
     "execution_count": 9,
     "metadata": {},
     "output_type": "execute_result"
    }
   ],
   "source": [
    "titles_df.dtypes"
   ]
  },
  {
   "attachments": {},
   "cell_type": "markdown",
   "metadata": {},
   "source": [
    "Convert realease_year to datetime and person_id, id to string"
   ]
  },
  {
   "cell_type": "code",
   "execution_count": 10,
   "metadata": {},
   "outputs": [],
   "source": [
    "titles_df['release_year'] = pd.to_datetime(titles_df['release_year'])\n",
    "credits_df['person_id'] = credits_df['person_id'].astype('str')\n",
    "titles_df['id'] = titles_df['id'].astype('str')"
   ]
  },
  {
   "cell_type": "code",
   "execution_count": 11,
   "metadata": {},
   "outputs": [
    {
     "data": {
      "text/plain": [
       "id                              object\n",
       "title                           object\n",
       "type                            object\n",
       "description                     object\n",
       "release_year            datetime64[ns]\n",
       "age_certification               object\n",
       "runtime                          int64\n",
       "genres                          object\n",
       "production_countries            object\n",
       "seasons                        float64\n",
       "imdb_id                         object\n",
       "imdb_score                     float64\n",
       "imdb_votes                     float64\n",
       "tmdb_popularity                float64\n",
       "tmdb_score                     float64\n",
       "dtype: object"
      ]
     },
     "execution_count": 11,
     "metadata": {},
     "output_type": "execute_result"
    }
   ],
   "source": [
    "titles_df.dtypes"
   ]
  },
  {
   "cell_type": "code",
   "execution_count": 12,
   "metadata": {},
   "outputs": [
    {
     "data": {
      "text/plain": [
       "person_id    object\n",
       "id           object\n",
       "name         object\n",
       "character    object\n",
       "role         object\n",
       "dtype: object"
      ]
     },
     "execution_count": 12,
     "metadata": {},
     "output_type": "execute_result"
    }
   ],
   "source": [
    "credits_df.dtypes"
   ]
  },
  {
   "attachments": {},
   "cell_type": "markdown",
   "metadata": {},
   "source": [
    "As we can see, the data type of each column is appropriate."
   ]
  },
  {
   "attachments": {},
   "cell_type": "markdown",
   "metadata": {},
   "source": [
    "### With each numerical column, how are values distributed?"
   ]
  },
  {
   "attachments": {},
   "cell_type": "markdown",
   "metadata": {},
   "source": [
    "In titles dataset, we have 2 numerical columns: release_year, runtime, seasons. In credits dataset, we have no numerical columns."
   ]
  },
  {
   "cell_type": "code",
   "execution_count": 13,
   "metadata": {},
   "outputs": [
    {
     "data": {
      "text/html": [
       "<div>\n",
       "<style scoped>\n",
       "    .dataframe tbody tr th:only-of-type {\n",
       "        vertical-align: middle;\n",
       "    }\n",
       "\n",
       "    .dataframe tbody tr th {\n",
       "        vertical-align: top;\n",
       "    }\n",
       "\n",
       "    .dataframe thead th {\n",
       "        text-align: right;\n",
       "    }\n",
       "</style>\n",
       "<table border=\"1\" class=\"dataframe\">\n",
       "  <thead>\n",
       "    <tr style=\"text-align: right;\">\n",
       "      <th></th>\n",
       "      <th>runtime</th>\n",
       "      <th>seasons</th>\n",
       "      <th>imdb_score</th>\n",
       "      <th>imdb_votes</th>\n",
       "      <th>tmdb_popularity</th>\n",
       "      <th>tmdb_score</th>\n",
       "    </tr>\n",
       "  </thead>\n",
       "  <tbody>\n",
       "    <tr>\n",
       "      <th>count</th>\n",
       "      <td>5850.000000</td>\n",
       "      <td>2106.000000</td>\n",
       "      <td>5368.000000</td>\n",
       "      <td>5.352000e+03</td>\n",
       "      <td>5759.000000</td>\n",
       "      <td>5539.000000</td>\n",
       "    </tr>\n",
       "    <tr>\n",
       "      <th>mean</th>\n",
       "      <td>76.888889</td>\n",
       "      <td>2.162868</td>\n",
       "      <td>6.510861</td>\n",
       "      <td>2.343938e+04</td>\n",
       "      <td>22.637925</td>\n",
       "      <td>6.829175</td>\n",
       "    </tr>\n",
       "    <tr>\n",
       "      <th>std</th>\n",
       "      <td>39.002509</td>\n",
       "      <td>2.689041</td>\n",
       "      <td>1.163826</td>\n",
       "      <td>9.582047e+04</td>\n",
       "      <td>81.680263</td>\n",
       "      <td>1.170391</td>\n",
       "    </tr>\n",
       "    <tr>\n",
       "      <th>min</th>\n",
       "      <td>0.000000</td>\n",
       "      <td>1.000000</td>\n",
       "      <td>1.500000</td>\n",
       "      <td>5.000000e+00</td>\n",
       "      <td>0.009442</td>\n",
       "      <td>0.500000</td>\n",
       "    </tr>\n",
       "    <tr>\n",
       "      <th>25%</th>\n",
       "      <td>44.000000</td>\n",
       "      <td>1.000000</td>\n",
       "      <td>5.800000</td>\n",
       "      <td>5.167500e+02</td>\n",
       "      <td>2.728500</td>\n",
       "      <td>6.100000</td>\n",
       "    </tr>\n",
       "    <tr>\n",
       "      <th>50%</th>\n",
       "      <td>83.000000</td>\n",
       "      <td>1.000000</td>\n",
       "      <td>6.600000</td>\n",
       "      <td>2.233500e+03</td>\n",
       "      <td>6.821000</td>\n",
       "      <td>6.900000</td>\n",
       "    </tr>\n",
       "    <tr>\n",
       "      <th>75%</th>\n",
       "      <td>104.000000</td>\n",
       "      <td>2.000000</td>\n",
       "      <td>7.300000</td>\n",
       "      <td>9.494000e+03</td>\n",
       "      <td>16.590000</td>\n",
       "      <td>7.537500</td>\n",
       "    </tr>\n",
       "    <tr>\n",
       "      <th>max</th>\n",
       "      <td>240.000000</td>\n",
       "      <td>42.000000</td>\n",
       "      <td>9.600000</td>\n",
       "      <td>2.294231e+06</td>\n",
       "      <td>2274.044000</td>\n",
       "      <td>10.000000</td>\n",
       "    </tr>\n",
       "  </tbody>\n",
       "</table>\n",
       "</div>"
      ],
      "text/plain": [
       "           runtime      seasons   imdb_score    imdb_votes  tmdb_popularity  \\\n",
       "count  5850.000000  2106.000000  5368.000000  5.352000e+03      5759.000000   \n",
       "mean     76.888889     2.162868     6.510861  2.343938e+04        22.637925   \n",
       "std      39.002509     2.689041     1.163826  9.582047e+04        81.680263   \n",
       "min       0.000000     1.000000     1.500000  5.000000e+00         0.009442   \n",
       "25%      44.000000     1.000000     5.800000  5.167500e+02         2.728500   \n",
       "50%      83.000000     1.000000     6.600000  2.233500e+03         6.821000   \n",
       "75%     104.000000     2.000000     7.300000  9.494000e+03        16.590000   \n",
       "max     240.000000    42.000000     9.600000  2.294231e+06      2274.044000   \n",
       "\n",
       "        tmdb_score  \n",
       "count  5539.000000  \n",
       "mean      6.829175  \n",
       "std       1.170391  \n",
       "min       0.500000  \n",
       "25%       6.100000  \n",
       "50%       6.900000  \n",
       "75%       7.537500  \n",
       "max      10.000000  "
      ]
     },
     "execution_count": 13,
     "metadata": {},
     "output_type": "execute_result"
    }
   ],
   "source": [
    "#not include release_year\n",
    "titles_df.describe(include=[np.number])"
   ]
  },
  {
   "attachments": {},
   "cell_type": "markdown",
   "metadata": {},
   "source": [
    "### What is the percentage of missing values?"
   ]
  },
  {
   "cell_type": "code",
   "execution_count": 14,
   "metadata": {},
   "outputs": [
    {
     "data": {
      "text/html": [
       "<div>\n",
       "<style scoped>\n",
       "    .dataframe tbody tr th:only-of-type {\n",
       "        vertical-align: middle;\n",
       "    }\n",
       "\n",
       "    .dataframe tbody tr th {\n",
       "        vertical-align: top;\n",
       "    }\n",
       "\n",
       "    .dataframe thead th {\n",
       "        text-align: right;\n",
       "    }\n",
       "</style>\n",
       "<table border=\"1\" class=\"dataframe\">\n",
       "  <thead>\n",
       "    <tr style=\"text-align: right;\">\n",
       "      <th></th>\n",
       "      <th>The_percentage_of_missing_value</th>\n",
       "    </tr>\n",
       "  </thead>\n",
       "  <tbody>\n",
       "    <tr>\n",
       "      <th>id</th>\n",
       "      <td>0.00</td>\n",
       "    </tr>\n",
       "    <tr>\n",
       "      <th>title</th>\n",
       "      <td>0.02</td>\n",
       "    </tr>\n",
       "    <tr>\n",
       "      <th>type</th>\n",
       "      <td>0.00</td>\n",
       "    </tr>\n",
       "    <tr>\n",
       "      <th>description</th>\n",
       "      <td>0.31</td>\n",
       "    </tr>\n",
       "    <tr>\n",
       "      <th>release_year</th>\n",
       "      <td>0.00</td>\n",
       "    </tr>\n",
       "    <tr>\n",
       "      <th>age_certification</th>\n",
       "      <td>44.77</td>\n",
       "    </tr>\n",
       "    <tr>\n",
       "      <th>runtime</th>\n",
       "      <td>0.00</td>\n",
       "    </tr>\n",
       "    <tr>\n",
       "      <th>genres</th>\n",
       "      <td>0.00</td>\n",
       "    </tr>\n",
       "    <tr>\n",
       "      <th>production_countries</th>\n",
       "      <td>0.00</td>\n",
       "    </tr>\n",
       "    <tr>\n",
       "      <th>seasons</th>\n",
       "      <td>64.00</td>\n",
       "    </tr>\n",
       "    <tr>\n",
       "      <th>imdb_id</th>\n",
       "      <td>6.89</td>\n",
       "    </tr>\n",
       "    <tr>\n",
       "      <th>imdb_score</th>\n",
       "      <td>8.24</td>\n",
       "    </tr>\n",
       "    <tr>\n",
       "      <th>imdb_votes</th>\n",
       "      <td>8.51</td>\n",
       "    </tr>\n",
       "    <tr>\n",
       "      <th>tmdb_popularity</th>\n",
       "      <td>1.56</td>\n",
       "    </tr>\n",
       "    <tr>\n",
       "      <th>tmdb_score</th>\n",
       "      <td>5.32</td>\n",
       "    </tr>\n",
       "  </tbody>\n",
       "</table>\n",
       "</div>"
      ],
      "text/plain": [
       "                      The_percentage_of_missing_value\n",
       "id                                               0.00\n",
       "title                                            0.02\n",
       "type                                             0.00\n",
       "description                                      0.31\n",
       "release_year                                     0.00\n",
       "age_certification                               44.77\n",
       "runtime                                          0.00\n",
       "genres                                           0.00\n",
       "production_countries                             0.00\n",
       "seasons                                         64.00\n",
       "imdb_id                                          6.89\n",
       "imdb_score                                       8.24\n",
       "imdb_votes                                       8.51\n",
       "tmdb_popularity                                  1.56\n",
       "tmdb_score                                       5.32"
      ]
     },
     "execution_count": 14,
     "metadata": {},
     "output_type": "execute_result"
    }
   ],
   "source": [
    "\n",
    "missing_value_titles_df = pd.DataFrame(\n",
    "    {'The_percentage_of_missing_value': (titles_df.isnull().sum()/titles_df.shape[0]) * 100}\n",
    ")\n",
    "missing_value_titles_df.round(2)"
   ]
  },
  {
   "cell_type": "code",
   "execution_count": 15,
   "metadata": {},
   "outputs": [
    {
     "data": {
      "text/html": [
       "<div>\n",
       "<style scoped>\n",
       "    .dataframe tbody tr th:only-of-type {\n",
       "        vertical-align: middle;\n",
       "    }\n",
       "\n",
       "    .dataframe tbody tr th {\n",
       "        vertical-align: top;\n",
       "    }\n",
       "\n",
       "    .dataframe thead th {\n",
       "        text-align: right;\n",
       "    }\n",
       "</style>\n",
       "<table border=\"1\" class=\"dataframe\">\n",
       "  <thead>\n",
       "    <tr style=\"text-align: right;\">\n",
       "      <th></th>\n",
       "      <th>The_percentage_of_missing_value</th>\n",
       "    </tr>\n",
       "  </thead>\n",
       "  <tbody>\n",
       "    <tr>\n",
       "      <th>person_id</th>\n",
       "      <td>0.00</td>\n",
       "    </tr>\n",
       "    <tr>\n",
       "      <th>id</th>\n",
       "      <td>0.00</td>\n",
       "    </tr>\n",
       "    <tr>\n",
       "      <th>name</th>\n",
       "      <td>0.00</td>\n",
       "    </tr>\n",
       "    <tr>\n",
       "      <th>character</th>\n",
       "      <td>12.56</td>\n",
       "    </tr>\n",
       "    <tr>\n",
       "      <th>role</th>\n",
       "      <td>0.00</td>\n",
       "    </tr>\n",
       "  </tbody>\n",
       "</table>\n",
       "</div>"
      ],
      "text/plain": [
       "           The_percentage_of_missing_value\n",
       "person_id                             0.00\n",
       "id                                    0.00\n",
       "name                                  0.00\n",
       "character                            12.56\n",
       "role                                  0.00"
      ]
     },
     "execution_count": 15,
     "metadata": {},
     "output_type": "execute_result"
    }
   ],
   "source": [
    "missing_value_credits_df = pd.DataFrame(\n",
    "    {'The_percentage_of_missing_value': (credits_df.isnull().sum()/credits_df.shape[0]) * 100}\n",
    ")\n",
    "missing_value_credits_df.round(2)"
   ]
  },
  {
   "attachments": {},
   "cell_type": "markdown",
   "metadata": {},
   "source": [
    "### With each categorical column, how are values distributed?"
   ]
  },
  {
   "cell_type": "code",
   "execution_count": 16,
   "metadata": {},
   "outputs": [
    {
     "data": {
      "text/html": [
       "<div>\n",
       "<style scoped>\n",
       "    .dataframe tbody tr th:only-of-type {\n",
       "        vertical-align: middle;\n",
       "    }\n",
       "\n",
       "    .dataframe tbody tr th {\n",
       "        vertical-align: top;\n",
       "    }\n",
       "\n",
       "    .dataframe thead th {\n",
       "        text-align: right;\n",
       "    }\n",
       "</style>\n",
       "<table border=\"1\" class=\"dataframe\">\n",
       "  <thead>\n",
       "    <tr style=\"text-align: right;\">\n",
       "      <th></th>\n",
       "      <th>person_id</th>\n",
       "      <th>id</th>\n",
       "      <th>name</th>\n",
       "      <th>character</th>\n",
       "      <th>role</th>\n",
       "    </tr>\n",
       "  </thead>\n",
       "  <tbody>\n",
       "    <tr>\n",
       "      <th>0</th>\n",
       "      <td>3748</td>\n",
       "      <td>tm84618</td>\n",
       "      <td>Robert De Niro</td>\n",
       "      <td>Travis Bickle</td>\n",
       "      <td>ACTOR</td>\n",
       "    </tr>\n",
       "    <tr>\n",
       "      <th>1</th>\n",
       "      <td>14658</td>\n",
       "      <td>tm84618</td>\n",
       "      <td>Jodie Foster</td>\n",
       "      <td>Iris Steensma</td>\n",
       "      <td>ACTOR</td>\n",
       "    </tr>\n",
       "    <tr>\n",
       "      <th>2</th>\n",
       "      <td>7064</td>\n",
       "      <td>tm84618</td>\n",
       "      <td>Albert Brooks</td>\n",
       "      <td>Tom</td>\n",
       "      <td>ACTOR</td>\n",
       "    </tr>\n",
       "    <tr>\n",
       "      <th>3</th>\n",
       "      <td>3739</td>\n",
       "      <td>tm84618</td>\n",
       "      <td>Harvey Keitel</td>\n",
       "      <td>Matthew 'Sport' Higgins</td>\n",
       "      <td>ACTOR</td>\n",
       "    </tr>\n",
       "    <tr>\n",
       "      <th>4</th>\n",
       "      <td>48933</td>\n",
       "      <td>tm84618</td>\n",
       "      <td>Cybill Shepherd</td>\n",
       "      <td>Betsy</td>\n",
       "      <td>ACTOR</td>\n",
       "    </tr>\n",
       "  </tbody>\n",
       "</table>\n",
       "</div>"
      ],
      "text/plain": [
       "  person_id       id             name                character   role\n",
       "0      3748  tm84618   Robert De Niro            Travis Bickle  ACTOR\n",
       "1     14658  tm84618     Jodie Foster            Iris Steensma  ACTOR\n",
       "2      7064  tm84618    Albert Brooks                      Tom  ACTOR\n",
       "3      3739  tm84618    Harvey Keitel  Matthew 'Sport' Higgins  ACTOR\n",
       "4     48933  tm84618  Cybill Shepherd                    Betsy  ACTOR"
      ]
     },
     "execution_count": 16,
     "metadata": {},
     "output_type": "execute_result"
    }
   ],
   "source": [
    "credits_nonnumeric_df = credits_df.select_dtypes(exclude=[np.number])\n",
    "credits_nonnumeric_df.head()"
   ]
  },
  {
   "cell_type": "code",
   "execution_count": 17,
   "metadata": {},
   "outputs": [
    {
     "data": {
      "text/html": [
       "<div>\n",
       "<style scoped>\n",
       "    .dataframe tbody tr th:only-of-type {\n",
       "        vertical-align: middle;\n",
       "    }\n",
       "\n",
       "    .dataframe tbody tr th {\n",
       "        vertical-align: top;\n",
       "    }\n",
       "\n",
       "    .dataframe thead th {\n",
       "        text-align: right;\n",
       "    }\n",
       "</style>\n",
       "<table border=\"1\" class=\"dataframe\">\n",
       "  <thead>\n",
       "    <tr style=\"text-align: right;\">\n",
       "      <th></th>\n",
       "      <th>person_id</th>\n",
       "      <th>id</th>\n",
       "      <th>name</th>\n",
       "      <th>character</th>\n",
       "      <th>role</th>\n",
       "    </tr>\n",
       "  </thead>\n",
       "  <tbody>\n",
       "    <tr>\n",
       "      <th>missing_percentage</th>\n",
       "      <td>0.0</td>\n",
       "      <td>0.0</td>\n",
       "      <td>0.0</td>\n",
       "      <td>12.56025</td>\n",
       "      <td>0.0</td>\n",
       "    </tr>\n",
       "    <tr>\n",
       "      <th>num_values</th>\n",
       "      <td>68029</td>\n",
       "      <td>68029</td>\n",
       "      <td>68029</td>\n",
       "      <td>68029</td>\n",
       "      <td>68029</td>\n",
       "    </tr>\n",
       "    <tr>\n",
       "      <th>value_counts</th>\n",
       "      <td>38636      25\n",
       "48004      25\n",
       "38632      23\n",
       "138 ...</td>\n",
       "      <td>tm32982      208\n",
       "tm244149     174\n",
       "tm39888     ...</td>\n",
       "      <td>Kareena Kapoor Khan    25\n",
       "Boman Irani         ...</td>\n",
       "      <td>Self                      1950\n",
       "Himself        ...</td>\n",
       "      <td>ACTOR       73251\n",
       "DIRECTOR     4550\n",
       "dtype: int64</td>\n",
       "    </tr>\n",
       "  </tbody>\n",
       "</table>\n",
       "</div>"
      ],
      "text/plain": [
       "                                                            person_id  \\\n",
       "missing_percentage                                                0.0   \n",
       "num_values                                                      68029   \n",
       "value_counts        38636      25\n",
       "48004      25\n",
       "38632      23\n",
       "138 ...   \n",
       "\n",
       "                                                                   id  \\\n",
       "missing_percentage                                                0.0   \n",
       "num_values                                                      68029   \n",
       "value_counts        tm32982      208\n",
       "tm244149     174\n",
       "tm39888     ...   \n",
       "\n",
       "                                                                 name  \\\n",
       "missing_percentage                                                0.0   \n",
       "num_values                                                      68029   \n",
       "value_counts        Kareena Kapoor Khan    25\n",
       "Boman Irani         ...   \n",
       "\n",
       "                                                            character  \\\n",
       "missing_percentage                                           12.56025   \n",
       "num_values                                                      68029   \n",
       "value_counts        Self                      1950\n",
       "Himself        ...   \n",
       "\n",
       "                                                                role  \n",
       "missing_percentage                                               0.0  \n",
       "num_values                                                     68029  \n",
       "value_counts        ACTOR       73251\n",
       "DIRECTOR     4550\n",
       "dtype: int64  "
      ]
     },
     "execution_count": 17,
     "metadata": {},
     "output_type": "execute_result"
    }
   ],
   "source": [
    "non_nummeric_col_info_credit = pd.DataFrame({\n",
    "     'missing_percentage': ((credits_nonnumeric_df.isnull().sum()/credits_nonnumeric_df.shape[0]) * 100),\n",
    "     'num_values': len(credits_nonnumeric_df.value_counts().keys()),\n",
    "     'value_counts': {'person_id': pd.Series(credits_nonnumeric_df['person_id'].value_counts().to_dict()), \\\n",
    "                      'id': pd.Series(credits_nonnumeric_df['id'].value_counts().to_dict()), \\\n",
    "                      'name': pd.Series(credits_nonnumeric_df['name'].value_counts().to_dict()), \\\n",
    "                      'character': pd.Series(credits_nonnumeric_df['character'].value_counts().to_dict()), \\\n",
    "                      'role': pd.Series(credits_nonnumeric_df['role'].value_counts().to_dict())}}).T\n",
    "non_nummeric_col_info_credit"
   ]
  },
  {
   "attachments": {},
   "cell_type": "markdown",
   "metadata": {},
   "source": [
    "### Check the correction of relationship between dataset\n"
   ]
  },
  {
   "cell_type": "code",
   "execution_count": 18,
   "metadata": {},
   "outputs": [
    {
     "name": "stdout",
     "output_type": "stream",
     "text": [
      "The number of id not in titles_df: 0\n"
     ]
    }
   ],
   "source": [
    "#check if the id in credits_df is in titles_df\n",
    "id_not_in_titles_df = credits_df[~credits_df['id'].isin(titles_df['id'])]\n",
    "print('The number of id not in titles_df:', id_not_in_titles_df.shape[0])"
   ]
  },
  {
   "attachments": {},
   "cell_type": "markdown",
   "metadata": {},
   "source": [
    "# 3. Asking meaningful questions"
   ]
  },
  {
   "attachments": {},
   "cell_type": "markdown",
   "metadata": {},
   "source": [
    "Which TV shows having one season have the highest and lowest IMDb score and popularity?\n",
    "<br/> Answer this question will help Netflix know which TV shows that need to produce more seasons or be canceled. This will help Netflix avoid losing money on TV shows that have low popularity and score."
   ]
  },
  {
   "attachments": {},
   "cell_type": "markdown",
   "metadata": {},
   "source": [
    "Which actors/actresses have acted in the most genres in Netflix movies and TV shows? \n",
    "<br/> Answer this question will help us to know which actor/actress is the most versatile actor/actress. This will help Netflix know which actor/actress they should hire to play in their movies and TV shows."
   ]
  },
  {
   "cell_type": "code",
   "execution_count": null,
   "metadata": {},
   "outputs": [],
   "source": []
  },
  {
   "cell_type": "code",
   "execution_count": null,
   "metadata": {},
   "outputs": [],
   "source": []
  },
  {
   "attachments": {},
   "cell_type": "markdown",
   "metadata": {},
   "source": [
    "# 4. Preprocessing and analyzing data to answer each question"
   ]
  },
  {
   "attachments": {},
   "cell_type": "markdown",
   "metadata": {},
   "source": [
    "Which TV shows having one season have the highest and lowest IMDb score and popularity?\n",
    "<br/> This question will need to preprocess the data:\n",
    "* Fill the TV shows having null value in seasons column with 1.\n"
   ]
  },
  {
   "cell_type": "code",
   "execution_count": 19,
   "metadata": {},
   "outputs": [],
   "source": [
    "titles_df['seasons'] = titles_df['seasons'].fillna(1)"
   ]
  },
  {
   "attachments": {},
   "cell_type": "markdown",
   "metadata": {},
   "source": [
    "Analyzing data to answer this question:\n",
    "* Filter the data having seasons is 1 and type is TV Show\n",
    "* Sort the data by imdb_score and tmdb_popularity by highest to lowest and lowest to highest"
   ]
  },
  {
   "cell_type": "code",
   "execution_count": 20,
   "metadata": {},
   "outputs": [],
   "source": [
    "#Filter the data having seasons is 1 and type is TV Show\n",
    "show_df = titles_df[titles_df['type'] == 'SHOW']\n",
    "show_df= show_df[show_df['seasons'] == 1]\n",
    "#Sort the data by imdb_score and tmdb_popularity by highest to lowest and lowest to highest\n",
    "highest_show_imdb_score_df = show_df[['title', 'imdb_score']].sort_values(by='imdb_score', ascending=False).reset_index(drop=True)\n",
    "highest_show_tmdb_popularity_df = show_df[['title', 'tmdb_popularity']].sort_values(by='tmdb_popularity', ascending=False).reset_index(drop=True)\n",
    "lowest_show_imdb_score_df = show_df[['title', 'imdb_score']].sort_values(by='imdb_score', ascending=True).reset_index(drop=True)\n",
    "lowest_show_tmdb_popularity_df = show_df[['title', 'tmdb_popularity']].sort_values(by='tmdb_popularity', ascending=True).reset_index(drop=True)"
   ]
  },
  {
   "attachments": {},
   "cell_type": "markdown",
   "metadata": {},
   "source": [
    "Visualize the data to answer this question:"
   ]
  },
  {
   "cell_type": "code",
   "execution_count": 21,
   "metadata": {},
   "outputs": [
    {
     "name": "stderr",
     "output_type": "stream",
     "text": [
      "/home/lephu13502/miniconda3/envs/min_ds-env/lib/python3.8/site-packages/matplotlib/backends/backend_agg.py:240: RuntimeWarning: Glyph 47560 missing from current font.\n",
      "  font.set_text(s, 0.0, flags=flags)\n",
      "/home/lephu13502/miniconda3/envs/min_ds-env/lib/python3.8/site-packages/matplotlib/backends/backend_agg.py:240: RuntimeWarning: Glyph 48277 missing from current font.\n",
      "  font.set_text(s, 0.0, flags=flags)\n",
      "/home/lephu13502/miniconda3/envs/min_ds-env/lib/python3.8/site-packages/matplotlib/backends/backend_agg.py:240: RuntimeWarning: Glyph 48260 missing from current font.\n",
      "  font.set_text(s, 0.0, flags=flags)\n",
      "/home/lephu13502/miniconda3/envs/min_ds-env/lib/python3.8/site-packages/matplotlib/backends/backend_agg.py:240: RuntimeWarning: Glyph 49828 missing from current font.\n",
      "  font.set_text(s, 0.0, flags=flags)\n",
      "/home/lephu13502/miniconda3/envs/min_ds-env/lib/python3.8/site-packages/matplotlib/backends/backend_agg.py:240: RuntimeWarning: Glyph 53440 missing from current font.\n",
      "  font.set_text(s, 0.0, flags=flags)\n",
      "/home/lephu13502/miniconda3/envs/min_ds-env/lib/python3.8/site-packages/matplotlib/backends/backend_agg.py:240: RuntimeWarning: Glyph 50836 missing from current font.\n",
      "  font.set_text(s, 0.0, flags=flags)\n",
      "/home/lephu13502/miniconda3/envs/min_ds-env/lib/python3.8/site-packages/matplotlib/backends/backend_agg.py:240: RuntimeWarning: Glyph 31958 missing from current font.\n",
      "  font.set_text(s, 0.0, flags=flags)\n",
      "/home/lephu13502/miniconda3/envs/min_ds-env/lib/python3.8/site-packages/matplotlib/backends/backend_agg.py:240: RuntimeWarning: Glyph 48960 missing from current font.\n",
      "  font.set_text(s, 0.0, flags=flags)\n",
      "/home/lephu13502/miniconda3/envs/min_ds-env/lib/python3.8/site-packages/matplotlib/backends/backend_agg.py:240: RuntimeWarning: Glyph 47196 missing from current font.\n",
      "  font.set_text(s, 0.0, flags=flags)\n",
      "/home/lephu13502/miniconda3/envs/min_ds-env/lib/python3.8/site-packages/matplotlib/backends/backend_agg.py:240: RuntimeWarning: Glyph 46041 missing from current font.\n",
      "  font.set_text(s, 0.0, flags=flags)\n",
      "/home/lephu13502/miniconda3/envs/min_ds-env/lib/python3.8/site-packages/matplotlib/backends/backend_agg.py:240: RuntimeWarning: Glyph 54868 missing from current font.\n",
      "  font.set_text(s, 0.0, flags=flags)\n",
      "/home/lephu13502/miniconda3/envs/min_ds-env/lib/python3.8/site-packages/matplotlib/backends/backend_agg.py:240: RuntimeWarning: Glyph 45208 missing from current font.\n",
      "  font.set_text(s, 0.0, flags=flags)\n",
      "/home/lephu13502/miniconda3/envs/min_ds-env/lib/python3.8/site-packages/matplotlib/backends/backend_agg.py:240: RuntimeWarning: Glyph 46972 missing from current font.\n",
      "  font.set_text(s, 0.0, flags=flags)\n",
      "/home/lephu13502/miniconda3/envs/min_ds-env/lib/python3.8/site-packages/matplotlib/backends/backend_agg.py:203: RuntimeWarning: Glyph 47560 missing from current font.\n",
      "  font.set_text(s, 0, flags=flags)\n",
      "/home/lephu13502/miniconda3/envs/min_ds-env/lib/python3.8/site-packages/matplotlib/backends/backend_agg.py:203: RuntimeWarning: Glyph 48277 missing from current font.\n",
      "  font.set_text(s, 0, flags=flags)\n",
      "/home/lephu13502/miniconda3/envs/min_ds-env/lib/python3.8/site-packages/matplotlib/backends/backend_agg.py:203: RuntimeWarning: Glyph 48260 missing from current font.\n",
      "  font.set_text(s, 0, flags=flags)\n",
      "/home/lephu13502/miniconda3/envs/min_ds-env/lib/python3.8/site-packages/matplotlib/backends/backend_agg.py:203: RuntimeWarning: Glyph 49828 missing from current font.\n",
      "  font.set_text(s, 0, flags=flags)\n",
      "/home/lephu13502/miniconda3/envs/min_ds-env/lib/python3.8/site-packages/matplotlib/backends/backend_agg.py:203: RuntimeWarning: Glyph 53440 missing from current font.\n",
      "  font.set_text(s, 0, flags=flags)\n",
      "/home/lephu13502/miniconda3/envs/min_ds-env/lib/python3.8/site-packages/matplotlib/backends/backend_agg.py:203: RuntimeWarning: Glyph 50836 missing from current font.\n",
      "  font.set_text(s, 0, flags=flags)\n",
      "/home/lephu13502/miniconda3/envs/min_ds-env/lib/python3.8/site-packages/matplotlib/backends/backend_agg.py:203: RuntimeWarning: Glyph 31958 missing from current font.\n",
      "  font.set_text(s, 0, flags=flags)\n",
      "/home/lephu13502/miniconda3/envs/min_ds-env/lib/python3.8/site-packages/matplotlib/backends/backend_agg.py:203: RuntimeWarning: Glyph 48960 missing from current font.\n",
      "  font.set_text(s, 0, flags=flags)\n",
      "/home/lephu13502/miniconda3/envs/min_ds-env/lib/python3.8/site-packages/matplotlib/backends/backend_agg.py:203: RuntimeWarning: Glyph 47196 missing from current font.\n",
      "  font.set_text(s, 0, flags=flags)\n",
      "/home/lephu13502/miniconda3/envs/min_ds-env/lib/python3.8/site-packages/matplotlib/backends/backend_agg.py:203: RuntimeWarning: Glyph 46041 missing from current font.\n",
      "  font.set_text(s, 0, flags=flags)\n",
      "/home/lephu13502/miniconda3/envs/min_ds-env/lib/python3.8/site-packages/matplotlib/backends/backend_agg.py:203: RuntimeWarning: Glyph 54868 missing from current font.\n",
      "  font.set_text(s, 0, flags=flags)\n",
      "/home/lephu13502/miniconda3/envs/min_ds-env/lib/python3.8/site-packages/matplotlib/backends/backend_agg.py:203: RuntimeWarning: Glyph 45208 missing from current font.\n",
      "  font.set_text(s, 0, flags=flags)\n",
      "/home/lephu13502/miniconda3/envs/min_ds-env/lib/python3.8/site-packages/matplotlib/backends/backend_agg.py:203: RuntimeWarning: Glyph 46972 missing from current font.\n",
      "  font.set_text(s, 0, flags=flags)\n"
     ]
    },
    {
     "data": {
      "image/png": "[encoded data removed]",
      "text/plain": [
       "<Figure size 2000x2000 with 4 Axes>"
      ]
     },
     "metadata": {},
     "output_type": "display_data"
    }
   ],
   "source": [
    "#visualize horizontal bar chart\n",
    "fig, ax = plt.subplots(2, 2, figsize=(20, 20))\n",
    "sns.barplot(x='imdb_score', y='title', data=highest_show_imdb_score_df.head(10), ax=ax[0, 0])\n",
    "sns.barplot(x='tmdb_popularity', y='title', data=highest_show_tmdb_popularity_df.head(10), ax=ax[0, 1])\n",
    "sns.barplot(x='imdb_score', y='title', data=lowest_show_imdb_score_df.head(10), ax=ax[1, 0])\n",
    "sns.barplot(x='tmdb_popularity', y='title', data=lowest_show_tmdb_popularity_df.head(10), ax=ax[1, 1])\n",
    "ax[0, 0].set_title('Top 10 highest imdb score of TV show having 1 season')\n",
    "ax[0, 1].set_title('Top 10 highest tmdb popularity of TV show having 1 season')\n",
    "ax[1, 0].set_title('Top 10 lowest imdb score of TV show having 1 season')\n",
    "ax[1, 1].set_title('Top 10 lowest tmdb popularity of TV show having 1 season')\n",
    "#increase the space between subplots\n",
    "plt.subplots_adjust(wspace=0.6)\n"
   ]
  },
  {
   "attachments": {},
   "cell_type": "markdown",
   "metadata": {},
   "source": [
    "Which actors/actresses have acted in the most genres in Netflix movies and TV shows? \n"
   ]
  },
  {
   "attachments": {},
   "cell_type": "markdown",
   "metadata": {},
   "source": [
    "This question doesn't need to preprocess the data because there is no missing value in the 'role' and 'genres' columns."
   ]
  },
  {
   "attachments": {},
   "cell_type": "markdown",
   "metadata": {},
   "source": [
    "To analyze the data to answer this question, we need to:\n",
    "* Filter the data having role is Actor\n",
    "* Group the data by person_id and sum the genres\n",
    "* Sort the data by genres by highest to lowest"
   ]
  },
  {
   "cell_type": "code",
   "execution_count": 58,
   "metadata": {},
   "outputs": [
    {
     "data": {
      "text/html": [
       "<div>\n",
       "<style scoped>\n",
       "    .dataframe tbody tr th:only-of-type {\n",
       "        vertical-align: middle;\n",
       "    }\n",
       "\n",
       "    .dataframe tbody tr th {\n",
       "        vertical-align: top;\n",
       "    }\n",
       "\n",
       "    .dataframe thead th {\n",
       "        text-align: right;\n",
       "    }\n",
       "</style>\n",
       "<table border=\"1\" class=\"dataframe\">\n",
       "  <thead>\n",
       "    <tr style=\"text-align: right;\">\n",
       "      <th></th>\n",
       "      <th>person_id</th>\n",
       "      <th>genres</th>\n",
       "      <th>name</th>\n",
       "    </tr>\n",
       "  </thead>\n",
       "  <tbody>\n",
       "    <tr>\n",
       "      <th>0</th>\n",
       "      <td>11283</td>\n",
       "      <td>82</td>\n",
       "      <td>Yuki Kaji</td>\n",
       "    </tr>\n",
       "    <tr>\n",
       "      <th>19</th>\n",
       "      <td>138</td>\n",
       "      <td>81</td>\n",
       "      <td>Takahiro Sakurai</td>\n",
       "    </tr>\n",
       "    <tr>\n",
       "      <th>40</th>\n",
       "      <td>6821</td>\n",
       "      <td>71</td>\n",
       "      <td>Fred Tatasciore</td>\n",
       "    </tr>\n",
       "    <tr>\n",
       "      <th>58</th>\n",
       "      <td>75908</td>\n",
       "      <td>69</td>\n",
       "      <td>Kenjiro Tsuda</td>\n",
       "    </tr>\n",
       "    <tr>\n",
       "      <th>75</th>\n",
       "      <td>30778</td>\n",
       "      <td>66</td>\n",
       "      <td>Junichi Suwabe</td>\n",
       "    </tr>\n",
       "    <tr>\n",
       "      <th>94</th>\n",
       "      <td>14142</td>\n",
       "      <td>63</td>\n",
       "      <td>Grey DeLisle</td>\n",
       "    </tr>\n",
       "    <tr>\n",
       "      <th>109</th>\n",
       "      <td>38636</td>\n",
       "      <td>62</td>\n",
       "      <td>Boman Irani</td>\n",
       "    </tr>\n",
       "    <tr>\n",
       "      <th>134</th>\n",
       "      <td>20372</td>\n",
       "      <td>62</td>\n",
       "      <td>Tara Strong</td>\n",
       "    </tr>\n",
       "    <tr>\n",
       "      <th>147</th>\n",
       "      <td>14143</td>\n",
       "      <td>61</td>\n",
       "      <td>Kari Wahlgren</td>\n",
       "    </tr>\n",
       "    <tr>\n",
       "      <th>164</th>\n",
       "      <td>85702</td>\n",
       "      <td>60</td>\n",
       "      <td>Mamoru Miyano</td>\n",
       "    </tr>\n",
       "  </tbody>\n",
       "</table>\n",
       "</div>"
      ],
      "text/plain": [
       "    person_id  genres              name\n",
       "0       11283      82         Yuki Kaji\n",
       "19        138      81  Takahiro Sakurai\n",
       "40       6821      71   Fred Tatasciore\n",
       "58      75908      69     Kenjiro Tsuda\n",
       "75      30778      66    Junichi Suwabe\n",
       "94      14142      63      Grey DeLisle\n",
       "109     38636      62       Boman Irani\n",
       "134     20372      62       Tara Strong\n",
       "147     14143      61     Kari Wahlgren\n",
       "164     85702      60     Mamoru Miyano"
      ]
     },
     "execution_count": 58,
     "metadata": {},
     "output_type": "execute_result"
    }
   ],
   "source": [
    "most_genres_actor = credits_df[credits_df['role'] == 'ACTOR']\n",
    "#with each id of actor, find the movie name in titles_df and get the genres of each movie\n",
    "most_genres_actor = most_genres_actor.merge(titles_df[['id', 'genres']], on='id', how='left')\n",
    "#group by person_id and sum the genres of each actor\n",
    "most_genres_actor = most_genres_actor.groupby('person_id')['genres'].sum().reset_index()\n",
    "#count the number of genres of each actor\n",
    "most_genres_actor['genres'] = most_genres_actor['genres'].apply(lambda x: len(x.split(',')))\n",
    "#sort the data by genres by highest to lowest\n",
    "most_genres_actor = most_genres_actor.sort_values(by='genres', ascending=False).reset_index(drop=True)\n",
    "#merge the data with credits_df to get the name of actor\n",
    "most_genres_actor = most_genres_actor.merge(credits_df[['person_id', 'name']], on='person_id', how='left')\n",
    "#drop the duplicate name\n",
    "most_genres_actor = most_genres_actor.drop_duplicates(subset=['name'])\n",
    "most_genres_actor.head(10)"
   ]
  },
  {
   "attachments": {},
   "cell_type": "markdown",
   "metadata": {},
   "source": [
    "Visualize the data to answer this question:"
   ]
  },
  {
   "cell_type": "code",
   "execution_count": 59,
   "metadata": {},
   "outputs": [
    {
     "data": {
      "text/plain": [
       "Text(0.5, 1.0, 'Top 10 actors who have acted in the most genres')"
      ]
     },
     "execution_count": 59,
     "metadata": {},
     "output_type": "execute_result"
    },
    {
     "data": {
      "image/png": "[encoded data removed]",
      "text/plain": [
       "<Figure size 2000x1000 with 1 Axes>"
      ]
     },
     "metadata": {},
     "output_type": "display_data"
    }
   ],
   "source": [
    "#visualize vertical bar chart\n",
    "fig, ax = plt.subplots(figsize=(20, 10))\n",
    "sns.barplot(x='name', y='genres', data=most_genres_actor.head(10), ax=ax)\n",
    "ax.set_title('Top 10 actors who have acted in the most genres')\n"
   ]
  },
  {
   "attachments": {},
   "cell_type": "markdown",
   "metadata": {},
   "source": [
    "# 5. Reflection"
   ]
  },
  {
   "cell_type": "markdown",
   "metadata": {},
   "source": []
  },
  {
   "attachments": {},
   "cell_type": "markdown",
   "metadata": {},
   "source": [
    "# 6. References"
   ]
  },
  {
   "cell_type": "markdown",
   "metadata": {},
   "source": []
  }
 ],
 "metadata": {
  "kernelspec": {
   "display_name": "min_ds-env",
   "language": "python",
   "name": "python3"
  },
  "language_info": {
   "codemirror_mode": {
    "name": "ipython",
    "version": 3
   },
   "file_extension": ".py",
   "mimetype": "text/x-python",
   "name": "python",
   "nbconvert_exporter": "python",
   "pygments_lexer": "ipython3",
   "version": "3.8.8"
  },
  "orig_nbformat": 4,
  "vscode": {
   "interpreter": {
    "hash": "490007576caec611db8bba55271708dff6d4b8311d3b4443a8e2690ac0c6843b"
   }
  }
 },
 "nbformat": 4,
 "nbformat_minor": 2
}
