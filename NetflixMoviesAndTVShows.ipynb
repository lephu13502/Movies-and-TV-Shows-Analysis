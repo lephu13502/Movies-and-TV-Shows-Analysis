{
 "cells": [
  {
   "attachments": {},
   "cell_type": "markdown",
   "metadata": {},
   "source": [
    "\n",
    "# ĐỒ ÁN CUỐI KÌ MÔN LẬP TRÌNH CHO KHOA HỌC DỮ LIỆU"
   ]
  },
  {
   "attachments": {},
   "cell_type": "markdown",
   "metadata": {},
   "source": [
    "## Table of Content\n",
    "* [1. Student information](#1)\n",
    "* [2. Import Library](#2)\n",
    "* [3. Collecting data](#3)\n",
    "* [4. Exploring data](#4)\n",
    "    * [Question 1](#q1)\n",
    "    * [Question 2](#q2)\n",
    "    * [Question 3](#q3)\n",
    "    * [Question 4](#q4)\n",
    "* [5. Asking meaningful questions](#5)\n",
    "* [6. Preprocessing and analyzing data to answer each question](#6)\n",
    "* [7. Reflection](#7)\n",
    "* [8. References](#8)"
   ]
  },
  {
   "attachments": {},
   "cell_type": "markdown",
   "metadata": {},
   "source": [
    "## <b> 1. Student information <a class=\"anchor\" id=\"1\"></a>"
   ]
  },
  {
   "attachments": {},
   "cell_type": "markdown",
   "metadata": {},
   "source": [
    "| Student ID | Student name       | Contribution rate (%)|\n",
    "|------------|--------------------|----------------------|\n",
    "| 20127275   | Lê Nguyễn Nhật Phú | 100%                 |\n",
    "| 20127681   | Nguyễn Thiên Phúc  | 100%                 |"
   ]
  },
  {
   "attachments": {},
   "cell_type": "markdown",
   "metadata": {},
   "source": [
    "## <b> 2. Import library <a class=\"anchor\" id=\"2\"></a>"
   ]
  },
  {
   "cell_type": "code",
   "execution_count": 2,
   "metadata": {},
   "outputs": [
    {
     "name": "stdout",
     "output_type": "stream",
     "text": [
      "Requirement already satisfied: country_converter in /home/lephu13502/miniconda3/envs/min_ds-env/lib/python3.8/site-packages (0.8.0)\n",
      "Requirement already satisfied: pandas>=1.0 in /home/lephu13502/miniconda3/envs/min_ds-env/lib/python3.8/site-packages (from country_converter) (1.2.4)\n",
      "Requirement already satisfied: python-dateutil>=2.7.3 in /home/lephu13502/miniconda3/envs/min_ds-env/lib/python3.8/site-packages (from pandas>=1.0->country_converter) (2.8.2)\n",
      "Requirement already satisfied: pytz>=2017.3 in /home/lephu13502/miniconda3/envs/min_ds-env/lib/python3.8/site-packages (from pandas>=1.0->country_converter) (2022.5)\n",
      "Requirement already satisfied: numpy>=1.16.5 in /home/lephu13502/miniconda3/envs/min_ds-env/lib/python3.8/site-packages (from pandas>=1.0->country_converter) (1.20.2)\n",
      "Requirement already satisfied: six>=1.5 in /home/lephu13502/miniconda3/envs/min_ds-env/lib/python3.8/site-packages (from python-dateutil>=2.7.3->pandas>=1.0->country_converter) (1.16.0)\n",
      "Requirement already satisfied: plotly.express in /home/lephu13502/miniconda3/envs/min_ds-env/lib/python3.8/site-packages (0.4.1)\n",
      "Requirement already satisfied: numpy>=1.11 in /home/lephu13502/miniconda3/envs/min_ds-env/lib/python3.8/site-packages (from plotly.express) (1.20.2)\n",
      "Requirement already satisfied: pandas>=0.20.0 in /home/lephu13502/miniconda3/envs/min_ds-env/lib/python3.8/site-packages (from plotly.express) (1.2.4)\n",
      "Requirement already satisfied: plotly>=4.1.0 in /home/lephu13502/miniconda3/envs/min_ds-env/lib/python3.8/site-packages (from plotly.express) (5.11.0)\n",
      "Requirement already satisfied: statsmodels>=0.9.0 in /home/lephu13502/miniconda3/envs/min_ds-env/lib/python3.8/site-packages (from plotly.express) (0.13.2)\n",
      "Requirement already satisfied: scipy>=0.18 in /home/lephu13502/miniconda3/envs/min_ds-env/lib/python3.8/site-packages (from plotly.express) (1.9.1)\n",
      "Requirement already satisfied: patsy>=0.5 in /home/lephu13502/miniconda3/envs/min_ds-env/lib/python3.8/site-packages (from plotly.express) (0.5.3)\n",
      "Requirement already satisfied: python-dateutil>=2.7.3 in /home/lephu13502/miniconda3/envs/min_ds-env/lib/python3.8/site-packages (from pandas>=0.20.0->plotly.express) (2.8.2)\n",
      "Requirement already satisfied: pytz>=2017.3 in /home/lephu13502/miniconda3/envs/min_ds-env/lib/python3.8/site-packages (from pandas>=0.20.0->plotly.express) (2022.5)\n",
      "Requirement already satisfied: six in /home/lephu13502/miniconda3/envs/min_ds-env/lib/python3.8/site-packages (from patsy>=0.5->plotly.express) (1.16.0)\n",
      "Requirement already satisfied: tenacity>=6.2.0 in /home/lephu13502/miniconda3/envs/min_ds-env/lib/python3.8/site-packages (from plotly>=4.1.0->plotly.express) (8.1.0)\n",
      "Requirement already satisfied: packaging>=21.3 in /home/lephu13502/miniconda3/envs/min_ds-env/lib/python3.8/site-packages (from statsmodels>=0.9.0->plotly.express) (21.3)\n",
      "Requirement already satisfied: pyparsing!=3.0.5,>=2.0.2 in /home/lephu13502/miniconda3/envs/min_ds-env/lib/python3.8/site-packages (from packaging>=21.3->statsmodels>=0.9.0->plotly.express) (3.0.9)\n"
     ]
    }
   ],
   "source": [
    "#installing some libraries, if you don't have them already\n",
    "!pip install country_converter\n",
    "!pip install plotly.express"
   ]
  },
  {
   "cell_type": "code",
   "execution_count": 3,
   "metadata": {},
   "outputs": [],
   "source": [
    "#installing some libraries, if you don't have them already\n",
    "# uncomment the lines below if you get into errors\n",
    "# !pip install country_converter\n",
    "# !pip install plotly.express"
   ]
  },
  {
   "cell_type": "code",
   "execution_count": 2,
   "metadata": {},
   "outputs": [],
   "source": [
    "import pandas as pd\n",
    "import numpy as np\n",
    "# visualization\n",
    "import matplotlib\n",
    "import matplotlib.pyplot as plt\n",
    "import seaborn as sns\n",
    "import country_converter as coco\n",
    "import plotly.express as px\n",
    "#turn off warnings cell\n",
    "import warnings\n",
    "warnings.simplefilter('ignore')\n"
   ]
  },
  {
   "attachments": {},
   "cell_type": "markdown",
   "metadata": {},
   "source": [
    "# <b> 3. Collecting data <a class=\"anchor\" id=\"3\"></a>"
   ]
  },
  {
   "attachments": {},
   "cell_type": "markdown",
   "metadata": {},
   "source": [
    "## What subject is your data about? What is the source of your data?"
   ]
  },
  {
   "attachments": {},
   "cell_type": "markdown",
   "metadata": {},
   "source": [
    "The subject of our data is about movies and TV shows on Netflix. The source of our data is from [Kaggle](https://www.kaggle.com/datasets/victorsoeiro/netflix-tv-shows-and-movies?select=credits.csv)\n",
    "<br/> This data set was created to list all shows available on Netflix streaming, and analyze the data to find interesting facts. This data was acquired in July 2022 containing data available in the United States."
   ]
  },
  {
   "attachments": {},
   "cell_type": "markdown",
   "metadata": {},
   "source": [
    "## Do authors of this data allow you to use like this?"
   ]
  },
  {
   "attachments": {},
   "cell_type": "markdown",
   "metadata": {},
   "source": [
    "Yes, the authors of this data allow us to use like this, because they have a license of CC0: Public Domain."
   ]
  },
  {
   "attachments": {},
   "cell_type": "markdown",
   "metadata": {},
   "source": [
    "## How did authors collect data?"
   ]
  },
  {
   "attachments": {},
   "cell_type": "markdown",
   "metadata": {},
   "source": [
    "The author collected data from the API of JustWatch website, to get the data all he had to do was the requests package. ([Source](https://github.com/victor-soeiro/WebScraping-Projects/blob/main/08%20-%20justwatch/main.ipynb))"
   ]
  },
  {
   "attachments": {},
   "cell_type": "markdown",
   "metadata": {},
   "source": [
    "# <b> 4. Exploring data <a class=\"anchor\" id=\"4\"></a>"
   ]
  },
  {
   "attachments": {},
   "cell_type": "markdown",
   "metadata": {},
   "source": [
    "<ol>\n",
    "<li> How many rows and how many columns? \n",
    "<li> What is the meaning of each row?\n",
    "<li> Are there duplicated rows?\n",
    "<li> What is the meaning of each column?\n",
    "<li> What is the current data type of each column? Are there\n",
    "columns having inappropriate data types?\n",
    "<li> With each numerical column, how are values distributed?\n",
    "<li> What is the percentage of missing values?\n",
    "<li> Min? max? Are they abnormal?\n",
    "<li> With each categorical column, how are values distributed?\n",
    "<li> What is the percentage of missing values?\n",
    "<li> How many different values? Show a few\n",
    "<li> Are they abnormal?\n",
    "</ol>"
   ]
  },
  {
   "attachments": {},
   "cell_type": "markdown",
   "metadata": {},
   "source": [
    "### Load Dataset"
   ]
  },
  {
   "cell_type": "code",
<<<<<<< HEAD
   "execution_count": 3,
=======
   "execution_count": 4,
>>>>>>> ae2281c98dcff017c6e084b225d71bd004473d45
   "metadata": {},
   "outputs": [],
   "source": [
    "credits_df = pd.read_csv('credits.csv')\n",
    "titles_df = pd.read_csv('titles.csv')"
   ]
  },
  {
   "attachments": {},
   "cell_type": "markdown",
   "metadata": {},
   "source": [
    "### How many rows and how many columns?"
   ]
  },
  {
   "cell_type": "code",
<<<<<<< HEAD
   "execution_count": 4,
=======
   "execution_count": 5,
>>>>>>> ae2281c98dcff017c6e084b225d71bd004473d45
   "metadata": {},
   "outputs": [
    {
     "data": {
      "text/plain": [
       "(77801, 5)"
      ]
     },
<<<<<<< HEAD
     "execution_count": 4,
=======
     "execution_count": 5,
>>>>>>> ae2281c98dcff017c6e084b225d71bd004473d45
     "metadata": {},
     "output_type": "execute_result"
    }
   ],
   "source": [
    "credits_df.shape"
   ]
  },
  {
   "cell_type": "code",
<<<<<<< HEAD
   "execution_count": 5,
=======
   "execution_count": 6,
>>>>>>> ae2281c98dcff017c6e084b225d71bd004473d45
   "metadata": {},
   "outputs": [
    {
     "data": {
      "text/plain": [
       "(5850, 15)"
      ]
     },
<<<<<<< HEAD
     "execution_count": 5,
=======
     "execution_count": 6,
>>>>>>> ae2281c98dcff017c6e084b225d71bd004473d45
     "metadata": {},
     "output_type": "execute_result"
    }
   ],
   "source": [
    "titles_df.shape"
   ]
  },
  {
   "attachments": {},
   "cell_type": "markdown",
   "metadata": {},
   "source": [
    "### What is the meaning of each row?"
   ]
  },
  {
   "cell_type": "code",
<<<<<<< HEAD
   "execution_count": 6,
=======
   "execution_count": 7,
>>>>>>> ae2281c98dcff017c6e084b225d71bd004473d45
   "metadata": {},
   "outputs": [
    {
     "name": "stdout",
     "output_type": "stream",
     "text": [
      "<class 'pandas.core.frame.DataFrame'>\n",
      "RangeIndex: 77801 entries, 0 to 77800\n",
      "Data columns (total 5 columns):\n",
      " #   Column     Non-Null Count  Dtype \n",
      "---  ------     --------------  ----- \n",
      " 0   person_id  77801 non-null  int64 \n",
      " 1   id         77801 non-null  object\n",
      " 2   name       77801 non-null  object\n",
      " 3   character  68029 non-null  object\n",
      " 4   role       77801 non-null  object\n",
      "dtypes: int64(1), object(4)\n",
      "memory usage: 3.0+ MB\n"
     ]
    }
   ],
   "source": [
    "credits_df.info()"
   ]
  },
  {
   "cell_type": "code",
<<<<<<< HEAD
   "execution_count": 7,
=======
   "execution_count": 8,
>>>>>>> ae2281c98dcff017c6e084b225d71bd004473d45
   "metadata": {},
   "outputs": [
    {
     "name": "stdout",
     "output_type": "stream",
     "text": [
      "<class 'pandas.core.frame.DataFrame'>\n",
      "RangeIndex: 5850 entries, 0 to 5849\n",
      "Data columns (total 15 columns):\n",
      " #   Column                Non-Null Count  Dtype  \n",
      "---  ------                --------------  -----  \n",
      " 0   id                    5850 non-null   object \n",
      " 1   title                 5849 non-null   object \n",
      " 2   type                  5850 non-null   object \n",
      " 3   description           5832 non-null   object \n",
      " 4   release_year          5850 non-null   int64  \n",
      " 5   age_certification     3231 non-null   object \n",
      " 6   runtime               5850 non-null   int64  \n",
      " 7   genres                5850 non-null   object \n",
      " 8   production_countries  5850 non-null   object \n",
      " 9   seasons               2106 non-null   float64\n",
      " 10  imdb_id               5447 non-null   object \n",
      " 11  imdb_score            5368 non-null   float64\n",
      " 12  imdb_votes            5352 non-null   float64\n",
      " 13  tmdb_popularity       5759 non-null   float64\n",
      " 14  tmdb_score            5539 non-null   float64\n",
      "dtypes: float64(5), int64(2), object(8)\n",
      "memory usage: 685.7+ KB\n"
     ]
    }
   ],
   "source": [
    "titles_df.info()"
   ]
  },
  {
   "attachments": {},
   "cell_type": "markdown",
   "metadata": {},
   "source": [
    "### Are there duplicated rows?"
   ]
  },
  {
   "cell_type": "code",
<<<<<<< HEAD
   "execution_count": 8,
=======
   "execution_count": 9,
>>>>>>> ae2281c98dcff017c6e084b225d71bd004473d45
   "metadata": {},
   "outputs": [
    {
     "name": "stdout",
     "output_type": "stream",
     "text": [
      "Duplicated data in credits_df: 0\n",
      "Duplicated data in titles_df: 0\n"
     ]
    }
   ],
   "source": [
    "print('Duplicated data in credits_df:', credits_df.duplicated().sum())\n",
    "print('Duplicated data in titles_df:', titles_df.duplicated().sum())"
   ]
  },
  {
   "attachments": {},
   "cell_type": "markdown",
   "metadata": {},
   "source": [
    "### What is the meaning of each column?"
   ]
  },
  {
   "attachments": {},
   "cell_type": "markdown",
   "metadata": {},
   "source": [
    "1. Credit's column information "
   ]
  },
  {
   "attachments": {},
   "cell_type": "markdown",
   "metadata": {},
   "source": [
    "\n",
    "| Colunm Name | Information                 |\n",
    "|-------------|-----------------------------|\n",
    "| person_id   | The id of this person       |\n",
    "| id          | The id of this person played|\n",
    "| name        | The name of this person     |\n",
    "| character   | The character in film       |\n",
    "| role        | The role of this person     | "
   ]
  },
  {
   "attachments": {},
   "cell_type": "markdown",
   "metadata": {},
   "source": [
    "2. Title's column information"
   ]
  },
  {
   "attachments": {},
   "cell_type": "markdown",
   "metadata": {},
   "source": [
    "| Column name          | Information                                   |\n",
    "|----------------------|-----------------------------------------------|\n",
    "| id                   | The ID of movie                               |\n",
    "| title                | The name of movie                             |\n",
    "| type                 | The type of movie                             |\n",
    "| description          | The description of movie                      |\n",
    "| release_year         | The year release of movie                     |\n",
    "| age_certification    | The age limit of movie                        |\n",
    "| runtime              | Movie duration                                |\n",
    "| genres               | The genres of movie                           |\n",
    "| production_countries | The country product movie                     |\n",
    "| seasons              | The season of movie or TV shows               |\n",
    "| imdb_id              | The ID of movie on Internet Movie Database    |\n",
    "| imdb_score           | The score of movie on Internet Movie Database |\n",
    "| imdb_votes           | The vote of movie on Internet Movie Database  |\n",
    "| tmdb_popularity      | The popularity of movie on The Movie Database |\n",
    "| tmdb_score           | The score of movie on The Movie Database      |\n"
   ]
  },
  {
   "attachments": {},
   "cell_type": "markdown",
   "metadata": {},
   "source": [
    "### What is the current data type of each column? Are there columns having inappropriate data types?\n"
   ]
  },
  {
   "cell_type": "code",
<<<<<<< HEAD
   "execution_count": 9,
=======
   "execution_count": 10,
>>>>>>> ae2281c98dcff017c6e084b225d71bd004473d45
   "metadata": {},
   "outputs": [
    {
     "data": {
      "text/plain": [
       "person_id     int64\n",
       "id           object\n",
       "name         object\n",
       "character    object\n",
       "role         object\n",
       "dtype: object"
      ]
     },
<<<<<<< HEAD
     "execution_count": 9,
=======
     "execution_count": 10,
>>>>>>> ae2281c98dcff017c6e084b225d71bd004473d45
     "metadata": {},
     "output_type": "execute_result"
    }
   ],
   "source": [
    "credits_df.dtypes"
   ]
  },
  {
   "cell_type": "code",
<<<<<<< HEAD
   "execution_count": 10,
=======
   "execution_count": 11,
>>>>>>> ae2281c98dcff017c6e084b225d71bd004473d45
   "metadata": {},
   "outputs": [
    {
     "data": {
      "text/plain": [
       "id                       object\n",
       "title                    object\n",
       "type                     object\n",
       "description              object\n",
       "release_year              int64\n",
       "age_certification        object\n",
       "runtime                   int64\n",
       "genres                   object\n",
       "production_countries     object\n",
       "seasons                 float64\n",
       "imdb_id                  object\n",
       "imdb_score              float64\n",
       "imdb_votes              float64\n",
       "tmdb_popularity         float64\n",
       "tmdb_score              float64\n",
       "dtype: object"
      ]
     },
<<<<<<< HEAD
     "execution_count": 10,
=======
     "execution_count": 11,
>>>>>>> ae2281c98dcff017c6e084b225d71bd004473d45
     "metadata": {},
     "output_type": "execute_result"
    }
   ],
   "source": [
    "titles_df.dtypes"
   ]
  },
  {
   "attachments": {},
   "cell_type": "markdown",
   "metadata": {},
   "source": [
    "Convert realease_year to datetime, person_id to string"
   ]
  },
  {
   "cell_type": "code",
<<<<<<< HEAD
   "execution_count": 11,
=======
   "execution_count": 12,
>>>>>>> ae2281c98dcff017c6e084b225d71bd004473d45
   "metadata": {},
   "outputs": [],
   "source": [
    "#with format %Y, not show the month and day\n",
    "titles_df['release_year'] = pd.to_datetime(titles_df['release_year'], format='%Y')\n",
    "credits_df['person_id'] = credits_df['person_id'].astype('string')"
   ]
  },
  {
   "cell_type": "code",
<<<<<<< HEAD
   "execution_count": 12,
=======
   "execution_count": 13,
>>>>>>> ae2281c98dcff017c6e084b225d71bd004473d45
   "metadata": {},
   "outputs": [
    {
     "data": {
      "text/plain": [
       "id                              object\n",
       "title                           object\n",
       "type                            object\n",
       "description                     object\n",
       "release_year            datetime64[ns]\n",
       "age_certification               object\n",
       "runtime                          int64\n",
       "genres                          object\n",
       "production_countries            object\n",
       "seasons                        float64\n",
       "imdb_id                         object\n",
       "imdb_score                     float64\n",
       "imdb_votes                     float64\n",
       "tmdb_popularity                float64\n",
       "tmdb_score                     float64\n",
       "dtype: object"
      ]
     },
<<<<<<< HEAD
     "execution_count": 12,
=======
     "execution_count": 13,
>>>>>>> ae2281c98dcff017c6e084b225d71bd004473d45
     "metadata": {},
     "output_type": "execute_result"
    }
   ],
   "source": [
    "titles_df.dtypes"
   ]
  },
  {
   "cell_type": "code",
<<<<<<< HEAD
   "execution_count": 13,
=======
   "execution_count": 14,
>>>>>>> ae2281c98dcff017c6e084b225d71bd004473d45
   "metadata": {},
   "outputs": [
    {
     "data": {
      "text/plain": [
       "person_id    string\n",
       "id           object\n",
       "name         object\n",
       "character    object\n",
       "role         object\n",
       "dtype: object"
      ]
     },
<<<<<<< HEAD
     "execution_count": 13,
=======
     "execution_count": 14,
>>>>>>> ae2281c98dcff017c6e084b225d71bd004473d45
     "metadata": {},
     "output_type": "execute_result"
    }
   ],
   "source": [
    "credits_df.dtypes"
   ]
  },
  {
   "attachments": {},
   "cell_type": "markdown",
   "metadata": {},
   "source": [
    "As we can see, the data type of each column is appropriate."
   ]
  },
  {
   "attachments": {},
   "cell_type": "markdown",
   "metadata": {},
   "source": [
    "### With each numerical column, how are values distributed?"
   ]
  },
  {
   "attachments": {},
   "cell_type": "markdown",
   "metadata": {},
   "source": [
    "In titles dataset, we have 2 numerical columns: release_year, runtime, seasons. In credits dataset, we have no numerical columns."
   ]
  },
  {
   "cell_type": "code",
<<<<<<< HEAD
   "execution_count": 14,
=======
   "execution_count": 15,
>>>>>>> ae2281c98dcff017c6e084b225d71bd004473d45
   "metadata": {},
   "outputs": [
    {
     "data": {
      "text/html": [
       "<div>\n",
       "<style scoped>\n",
       "    .dataframe tbody tr th:only-of-type {\n",
       "        vertical-align: middle;\n",
       "    }\n",
       "\n",
       "    .dataframe tbody tr th {\n",
       "        vertical-align: top;\n",
       "    }\n",
       "\n",
       "    .dataframe thead th {\n",
       "        text-align: right;\n",
       "    }\n",
       "</style>\n",
       "<table border=\"1\" class=\"dataframe\">\n",
       "  <thead>\n",
       "    <tr style=\"text-align: right;\">\n",
       "      <th></th>\n",
       "      <th>runtime</th>\n",
       "      <th>seasons</th>\n",
       "      <th>imdb_score</th>\n",
       "      <th>imdb_votes</th>\n",
       "      <th>tmdb_popularity</th>\n",
       "      <th>tmdb_score</th>\n",
       "    </tr>\n",
       "  </thead>\n",
       "  <tbody>\n",
       "    <tr>\n",
       "      <th>count</th>\n",
       "      <td>5850.000000</td>\n",
       "      <td>2106.000000</td>\n",
       "      <td>5368.000000</td>\n",
       "      <td>5.352000e+03</td>\n",
       "      <td>5759.000000</td>\n",
       "      <td>5539.000000</td>\n",
       "    </tr>\n",
       "    <tr>\n",
       "      <th>mean</th>\n",
       "      <td>76.888889</td>\n",
       "      <td>2.162868</td>\n",
       "      <td>6.510861</td>\n",
       "      <td>2.343938e+04</td>\n",
       "      <td>22.637925</td>\n",
       "      <td>6.829175</td>\n",
       "    </tr>\n",
       "    <tr>\n",
       "      <th>std</th>\n",
       "      <td>39.002509</td>\n",
       "      <td>2.689041</td>\n",
       "      <td>1.163826</td>\n",
       "      <td>9.582047e+04</td>\n",
       "      <td>81.680263</td>\n",
       "      <td>1.170391</td>\n",
       "    </tr>\n",
       "    <tr>\n",
       "      <th>min</th>\n",
       "      <td>0.000000</td>\n",
       "      <td>1.000000</td>\n",
       "      <td>1.500000</td>\n",
       "      <td>5.000000e+00</td>\n",
       "      <td>0.009442</td>\n",
       "      <td>0.500000</td>\n",
       "    </tr>\n",
       "    <tr>\n",
       "      <th>25%</th>\n",
       "      <td>44.000000</td>\n",
       "      <td>1.000000</td>\n",
       "      <td>5.800000</td>\n",
       "      <td>5.167500e+02</td>\n",
       "      <td>2.728500</td>\n",
       "      <td>6.100000</td>\n",
       "    </tr>\n",
       "    <tr>\n",
       "      <th>50%</th>\n",
       "      <td>83.000000</td>\n",
       "      <td>1.000000</td>\n",
       "      <td>6.600000</td>\n",
       "      <td>2.233500e+03</td>\n",
       "      <td>6.821000</td>\n",
       "      <td>6.900000</td>\n",
       "    </tr>\n",
       "    <tr>\n",
       "      <th>75%</th>\n",
       "      <td>104.000000</td>\n",
       "      <td>2.000000</td>\n",
       "      <td>7.300000</td>\n",
       "      <td>9.494000e+03</td>\n",
       "      <td>16.590000</td>\n",
       "      <td>7.537500</td>\n",
       "    </tr>\n",
       "    <tr>\n",
       "      <th>max</th>\n",
       "      <td>240.000000</td>\n",
       "      <td>42.000000</td>\n",
       "      <td>9.600000</td>\n",
       "      <td>2.294231e+06</td>\n",
       "      <td>2274.044000</td>\n",
       "      <td>10.000000</td>\n",
       "    </tr>\n",
       "  </tbody>\n",
       "</table>\n",
       "</div>"
      ],
      "text/plain": [
       "           runtime      seasons   imdb_score    imdb_votes  tmdb_popularity  \\\n",
       "count  5850.000000  2106.000000  5368.000000  5.352000e+03      5759.000000   \n",
       "mean     76.888889     2.162868     6.510861  2.343938e+04        22.637925   \n",
       "std      39.002509     2.689041     1.163826  9.582047e+04        81.680263   \n",
       "min       0.000000     1.000000     1.500000  5.000000e+00         0.009442   \n",
       "25%      44.000000     1.000000     5.800000  5.167500e+02         2.728500   \n",
       "50%      83.000000     1.000000     6.600000  2.233500e+03         6.821000   \n",
       "75%     104.000000     2.000000     7.300000  9.494000e+03        16.590000   \n",
       "max     240.000000    42.000000     9.600000  2.294231e+06      2274.044000   \n",
       "\n",
       "        tmdb_score  \n",
       "count  5539.000000  \n",
       "mean      6.829175  \n",
       "std       1.170391  \n",
       "min       0.500000  \n",
       "25%       6.100000  \n",
       "50%       6.900000  \n",
       "75%       7.537500  \n",
       "max      10.000000  "
      ]
     },
<<<<<<< HEAD
     "execution_count": 14,
=======
     "execution_count": 15,
>>>>>>> ae2281c98dcff017c6e084b225d71bd004473d45
     "metadata": {},
     "output_type": "execute_result"
    }
   ],
   "source": [
    "#not include release_year\n",
    "titles_df.describe(include=[np.number])"
   ]
  },
  {
   "attachments": {},
   "cell_type": "markdown",
   "metadata": {},
   "source": [
    "### What is the percentage of missing values?"
   ]
  },
  {
   "cell_type": "code",
<<<<<<< HEAD
   "execution_count": 15,
=======
   "execution_count": 16,
>>>>>>> ae2281c98dcff017c6e084b225d71bd004473d45
   "metadata": {},
   "outputs": [
    {
     "data": {
      "text/html": [
       "<div>\n",
       "<style scoped>\n",
       "    .dataframe tbody tr th:only-of-type {\n",
       "        vertical-align: middle;\n",
       "    }\n",
       "\n",
       "    .dataframe tbody tr th {\n",
       "        vertical-align: top;\n",
       "    }\n",
       "\n",
       "    .dataframe thead th {\n",
       "        text-align: right;\n",
       "    }\n",
       "</style>\n",
       "<table border=\"1\" class=\"dataframe\">\n",
       "  <thead>\n",
       "    <tr style=\"text-align: right;\">\n",
       "      <th></th>\n",
       "      <th>The_percentage_of_missing_value</th>\n",
       "    </tr>\n",
       "  </thead>\n",
       "  <tbody>\n",
       "    <tr>\n",
       "      <th>id</th>\n",
       "      <td>0.00</td>\n",
       "    </tr>\n",
       "    <tr>\n",
       "      <th>title</th>\n",
       "      <td>0.02</td>\n",
       "    </tr>\n",
       "    <tr>\n",
       "      <th>type</th>\n",
       "      <td>0.00</td>\n",
       "    </tr>\n",
       "    <tr>\n",
       "      <th>description</th>\n",
       "      <td>0.31</td>\n",
       "    </tr>\n",
       "    <tr>\n",
       "      <th>release_year</th>\n",
       "      <td>0.00</td>\n",
       "    </tr>\n",
       "    <tr>\n",
       "      <th>age_certification</th>\n",
       "      <td>44.77</td>\n",
       "    </tr>\n",
       "    <tr>\n",
       "      <th>runtime</th>\n",
       "      <td>0.00</td>\n",
       "    </tr>\n",
       "    <tr>\n",
       "      <th>genres</th>\n",
       "      <td>0.00</td>\n",
       "    </tr>\n",
       "    <tr>\n",
       "      <th>production_countries</th>\n",
       "      <td>0.00</td>\n",
       "    </tr>\n",
       "    <tr>\n",
       "      <th>seasons</th>\n",
       "      <td>64.00</td>\n",
       "    </tr>\n",
       "    <tr>\n",
       "      <th>imdb_id</th>\n",
       "      <td>6.89</td>\n",
       "    </tr>\n",
       "    <tr>\n",
       "      <th>imdb_score</th>\n",
       "      <td>8.24</td>\n",
       "    </tr>\n",
       "    <tr>\n",
       "      <th>imdb_votes</th>\n",
       "      <td>8.51</td>\n",
       "    </tr>\n",
       "    <tr>\n",
       "      <th>tmdb_popularity</th>\n",
       "      <td>1.56</td>\n",
       "    </tr>\n",
       "    <tr>\n",
       "      <th>tmdb_score</th>\n",
       "      <td>5.32</td>\n",
       "    </tr>\n",
       "  </tbody>\n",
       "</table>\n",
       "</div>"
      ],
      "text/plain": [
       "                      The_percentage_of_missing_value\n",
       "id                                               0.00\n",
       "title                                            0.02\n",
       "type                                             0.00\n",
       "description                                      0.31\n",
       "release_year                                     0.00\n",
       "age_certification                               44.77\n",
       "runtime                                          0.00\n",
       "genres                                           0.00\n",
       "production_countries                             0.00\n",
       "seasons                                         64.00\n",
       "imdb_id                                          6.89\n",
       "imdb_score                                       8.24\n",
       "imdb_votes                                       8.51\n",
       "tmdb_popularity                                  1.56\n",
       "tmdb_score                                       5.32"
      ]
     },
<<<<<<< HEAD
     "execution_count": 15,
=======
     "execution_count": 16,
>>>>>>> ae2281c98dcff017c6e084b225d71bd004473d45
     "metadata": {},
     "output_type": "execute_result"
    }
   ],
   "source": [
    "missing_value_titles_df = pd.DataFrame(\n",
    "    {'The_percentage_of_missing_value': (titles_df.isnull().sum()/titles_df.shape[0]) * 100}\n",
    ")\n",
    "missing_value_titles_df.round(2)"
   ]
  },
  {
   "cell_type": "code",
<<<<<<< HEAD
   "execution_count": 16,
   "metadata": {},
   "outputs": [
    {
     "data": {
      "image/png": "iVBORw0KGgoAAAANSUhEUgAAAl8AAAGVCAYAAADAJJRSAAAAOXRFWHRTb2Z0d2FyZQBNYXRwbG90bGliIHZlcnNpb24zLjUuMiwgaHR0cHM6Ly9tYXRwbG90bGliLm9yZy8qNh9FAAAACXBIWXMAAAsTAAALEwEAmpwYAABbAklEQVR4nO3dd5xjVfnH8c8XdmlLh6X3IggKgguINGlKF0FQOkgXVH5YKIKAUhRRAREBQUCKiHREmnQUhaU3EaRI7x2p+/z+eE7Yyzizm5lNcjOz3/frNa+Z3GSSJ8nNzXPPec45igjMzMzMrDMmqTsAMzMzs4mJky8zMzOzDnLyZWZmZtZBTr7MzMzMOsjJl5mZmVkHOfkyMzMz6yAnX2Y9SDpQ0ul1x2EgaQVJD0p6Q9KGE3hf85T7mXQC7uMNSQtMSBytJulRSWu04X6Pk7R/C+9vnK9du55HH4/1kc+4pC9JerzEuFQnYrCJ27C6AzDrNElvVC5OBbwDfFAu79z5iOolaVtgh4hYse5YevFD4JiIOGpC7ygi/gNMPYH3MUH/P5hExC4D/V9J1wKnR8SJlfubunL9KcATEbHfhMTYQkcAu0fEhXUHYhMHt3zZRCcipm78AP8B1q9sO6Pu+PoyIS02g9i8wL11B2FDnvcz6ygnX2a9m0zS7yS9LuleSaMaV0iaQ9K5kp6X9Iikb/Z1J5JOKd03V5b7uk7SvJXrFy3XvSTpAUmb9vjfX0v6s6Q3gVUlzS3pvPLYL0o6pnL7r0m6X9LLki7v8TghaZfShfeKpF8pfRw4Dli+dLm8Um6/rqTbJb1WumMO7PG8tpb0WIlh/2qXkaRJJO0t6d/l+rMlzTiO12hHSQ+V1+AiSXOU7f8GFgAuLrFN3sv/Pirpu5LukvSmpJMkzSrp0vJ6/0XSDOW285XXYVi5vK2kh8vtHpG0Rdm+UHmfXpX0gqQ/9HgdF6q8P7+SdEm5j39IWrBy28+X9/RVSceW+9yhl+cwh6T/Vl8jSUuVxx4uaUFJV5fX8gVJZ0iavo/X8hRJB1cuf07SEz0eqz/77sHV+5H0bUnPSXpa0nZ9/N8hwErAMeV9O6b62knaCdgC+F65/uJe7qPPfUjSFJJOL9tfkXSLpFn7eh7lf+Yvr//rkq4EZi7bJ1e2hE8K3Fn2ObO2c/Jl1rsNgLOA6YGLgMYXyCTAxcCdwJzA6sAekr4wjvvaAvgRecC/Azij3NcI4ErgTGAW4KvAsZIWq/zv5sAhwDTATcCfgMeA+crjn1Xu64vAvsBGwEjgBuD3PeJYD1gGWALYFPhCRNwP7ALcVFr+pi+3fRPYujz/dYFdVWquSnzHluc1OzBdiaXhG8CGwCrAHMDLwK96e2EkrQYcVuKZvTy3swAiYkE+2jL5Tm/3AWwMrAl8DFgfuLS8FiPJY9z/JBjltT8aWDsipgE+S743kO/VFcAMwFzAL/t4XMj37KBy24fI9wpJMwPnAPsAMwEPlMf4HxHxFPneblzZvDlwTkS8B4h8jeYAPg7MDRw4jph6NcB9t2o2xr7X2wO/aiS2PZ7P98n9b/fyvu3e4/oTyM/A4eX69Xt5rHHtQ9uUOOYmX9tdgP+OJ/YzgVvJz+CPyn0QEe9UukOXLPucWds5+TLr3Y0R8eeI+AA4DViybF8GGBkRP4yIdyPiYeA35JdwXy6JiOtL8vB9spVpbjIZejQiTo6I9yPiduBcYJPK/14YEX+NiDFk0jQH8N2IeDMi3o6IG8vtdgEOi4j7I+J94FDgU6q0fgE/johXSu3TNcCn+go4Iq6NiLsjYkxE3EUmcquUq78MXBwRN0bEu8APgOoisbsA34+IJ8pzPhD4cqPFqYctgN9GxG3ltvuU12e+vl/O//HLiHg2Ip4kv/T/ERG3R8TbwPlAXwXUY4BPSJoyIp6OiEa303tkN9QcPV7j3pwfETeX1/wMxr6m6wD3RsR55bqjgWfGcT9nApsBSBK5P50JEBEPRcSVJVF4Hvg5Y9+L/hjIvlv1HvDDiHgvIv4MvAEsMoA4mjGufeg9MulaKCI+iIhbI+K1vu5I0jzkc9+/vIbXk0moWW2cfJn1rvpF+RYwRTnwzwvMUbo7XlF20+0LjKvb4/HGHxHxBvASmUTNCyzX4762IFsY/ud/yTP9x8qXeU/zAkdV7uclssWk2iLV8zn1WTwuaTlJ15TuqVfJL8OZy9Vz9HhObwEv9ojl/Eos95MDGnp7jeYgW7sa9/VGua85e7ltX56t/P3fXi7/z/OMiDeBr5DP6+nSdbhoufp75Gt3s7LL+WvjeOy+XtOer1EAT9C3c8mkc3ZgZTIxvAFA2Y16lqQnJb0GnM7Y96I/BrLvVr3YY98b5z40gca1D50GXA6cJekpSYdLGj6O+5oDeLm85w2P9XVjs07waEez/nkceCQiFu7H/8zd+EPS1MCMwFPlvq6LiDXH8b/VFqXHgXkkDeslAXscOGSAAwail21nkl2ta0fE25KOZOwX/tNUWjwkTUm2RFRj+VpE/LWJx36K/KJt3NeIcl9P9ucJDEREXA5cXuI/mGwFWikingF2LPGsCPxF0vUR8VA/7v5pssuScj+qXu4llpclXUEmhB8HzioJG2QrZgCfjIiXSvfvMb3fE2+SI3gbeiby/d13B6q3fao/149vHzoIOKi0kP6Z7NY9qY/bPg3MIGlEJQGbp4kYzNrGLV9m/XMz8LqkvSRNKWlSSZ+QtMw4/mcdSStKmoysN/l7RDxO1m99TNJWysLq4ZKWURbB9/XYTwM/ljSiFB6vUK47DthH0uIAkqaTtEkf99PTs8BcJb6GaYCXSuK1LFmD1HAOsL6kz5b/OZBsKWo4Djik0eUpaWSpSevN74HtJH1KWVB/KNlt+GiTsQ9IaU36Ykn23iG70MaU6zaR1EiUXia/pMf08yEuAT4pacPSYrobH02EenMmWWf35fJ3wzQlvlclzQl8dxz3cQe5v80oaTZgj8p1A9l3B+pZcrDEQK/vcx+StKqkTypH/75GdkP2+f5ExGPAaDJZm6wk1L3VmZl1jJMvs34oNWDrkbU9jwAvACeSBcB9ORM4gOwK/DSwZbmv14HPkzU3T5FdWD8B/mdUX+Wx1wcWIgvRnyBbSoiI88v/nlW6pu4B1m7yaV1NDrN/RtILZdvXgR9Kep2s6Tq7Ese9ZEH0WWQy+AbwHJnEABxFDlK4ovz/34Hl+nhOfwH2J7vdngYWpPkapAkxCbAn+bq/RNZQ7VquWwb4h3IU3EXAt0p9VNMi4gWydu9wsht1MTIB6GvQAOWxFgaeiYg7K9sPApYGXiWTuvPGcR+nkQX1j5KDBj4cqTnAfXegjiJrtF6WdHQv158ELFa6FS/o4//72odmI08AXiO7I68jn/e4bF7+/yXys/i7/j0ds9bS2JZtM2s1dd9kki1XulJfARaOiEdqDqcrlZGGTwBbRMQ1dcdjZvVyy5eZ9Zuk9SVNVbrtjgDuJltbrJD0BUnTl+7Ufcmu2b/XHJaZdQEnX2Y2EF8ku+yeIrvKvhpuRu9peeDfZPfe+sCGETG++ahsgJQTtvb2s1LdsZn15G5HMzMzsw5yy5eZmZlZBzn5MjMzM+ugQTPJ6swzzxzzzTdf3WGYmZmZjdett976QkSM7O26QZN8zTfffIwePbruMMzMzMzGS1Kfy1i529HMzMysg5x8mZmZmXWQky8zMzOzDnLyZWZmZtZBTr7MzMzMOsjJl5mZmVkHOfkyMzMz6yAnX2ZmZmYd5OTLzMzMrIOcfJmZmZl1kJMvMzMzsw4aNGs7mpnZhPnSuTfW8rjnb7xiLY9r1q3c8mVmZmbWQU6+zMzMzDrIyZeZmZlZBzn5MjMzM+sgJ19mZmZmHeTky8zMzKyDnHyZmZmZdZCTLzMzM7MOcvJlZmZm1kFOvszMzMw6yMmXmZmZWQe1PfmSNL2kcyT9U9L9kpaXNKOkKyU9WH7P0O44zMzMzLpBJ1q+jgIui4hFgSWB+4G9gasiYmHgqnLZzMzMbMhra/IlaTpgZeAkgIh4NyJeAb4InFpudiqwYTvjMDMzM+sW7W75mh94HjhZ0u2STpQ0Apg1Ip4ut3kGmLXNcZiZmZl1hXYnX8OApYFfR8RSwJv06GKMiACit3+WtJOk0ZJGP//8820O1czMzKz92p18PQE8ERH/KJfPIZOxZyXNDlB+P9fbP0fECRExKiJGjRw5ss2hmpmZmbVfW5OviHgGeFzSImXT6sB9wEXANmXbNsCF7YzDzMzMrFsM68BjfAM4Q9JkwMPAdmTSd7ak7YHHgE07EIeZmZlZ7dqefEXEHcCoXq5avd2PbWZmZtZtPMO9mZmZWQc5+TIzMzPrICdfZmZmZh3k5MvMzMysg5x8mZmZmXWQky8zMzOzDnLyZWZmZtZBTr7MzMzMOsjJl5mZmVkHOfkyMzMz6yAnX2ZmZmYd5OTLzMzMrIOcfJmZmZl1kJMvMzMzsw5y8mVmZmbWQU6+zMzMzDrIyZeZmZlZBzn5MjMzM+ugppMvSfNKWqP8PaWkadoXlpmZmdnQ1FTyJWlH4Bzg+LJpLuCCNsVkZmZmNmQ12/K1G7AC8BpARDwIzNKuoMzMzMyGqmaTr3ci4t3GBUnDgGhPSGZmZmZDV7PJ13WS9gWmlLQm8Efg4vaFZWZmZjY0NZt87Q08D9wN7Az8GdivXUGZmZmZDVXDmrlRRIwBflN+zMzMzGyAmkq+JD1CLzVeEbFAyyMyMzMzG8KaSr6AUZW/pwA2AWZsfThmZmZmQ1tTNV8R8WLl58mIOBJYt72hmZmZmQ09zXY7Ll25OAnZEtZsq5mZmZmZFc0mUD+r/P0+8CiwacujMTMzMxvimh3tuGq7AzEzMzObGIwz+ZK057iuj4iftzYcMzMzs6FtfC1f00zoA0h6FHgd+AB4PyJGSZoR+AMwH6ULMyJentDHMjMzM+t240y+IuKgFj3OqhHxQuXy3sBVEfFjSXuXy3u16LHMzMzMulazox2nALYHFifn+QIgIr42wMf9IvC58vepwLU4+TIzM7OJQLNrO54GzAZ8AbgOmIvsSmxGAFdIulXSTmXbrBHxdPn7GWDW3v5R0k6SRksa/fzzzzf5cGZmZmbdq9nka6GI2B94MyJOJSdYXa7J/10xIpYG1gZ2k7Ry9cqICHpZuqhcd0JEjIqIUSNHjmzy4czMzMy6V7PJ13vl9yuSPgFMB8zSzD9GxJPl93PA+cCywLOSZgcov5/rT9BmZmZmg1WzydcJkmYA9gcuAu4DfjK+f5I0QtI0jb+BzwP3lPvYptxsG+DCfsZtZmZmNig1O8P9yRHxAVnvtUA/7n9W4HxJjcc6MyIuk3QLcLak7YHH8Gz5ZmZmNpFoNvl6RNJl5NxcV5c6rfGKiIeBJXvZ/iKwetNRmpmZmQ0RzXY7Lgr8BdgNeFTSMZJWbF9YZmZmZkNTU8lXRLwVEWdHxEbAp4BpyS5IMzMzM+uHZlu+kLSKpGOBW8mJVl2nZWZmZtZPzc5w/yhwO3A28N2IeLOdQZmZmZkNVc0W3C8REa/1daWkfSLisBbFZGZmZjZkNVvz1WfiVWzSgljMzMzMhryma77GQy26HzMzM7MhrVXJV1PzfpmZmZlN7NzyZWZmZtZBrUq+/tii+zEzMzMb0pqdauLoXja/CoyOiAsj4tDWhmVmZmY2NDXb8jUFObP9g+VnCWAuYHtJR7YlMjMzM7MhqOl5voAVIuIDAEm/Bm4AVgTublNsZmZmZkNOsy1fMwBTVy6PAGYsydg7LY/KzMzMbIhqtuXrcOAOSdeSIxtXBg6VNAL4S5tiMzMzMxtymkq+IuIkSX8Gli2b9o2Ip8rf321LZGYTue3OX6uWxz35S5fV8rhmZhOL/kw1MQnwPPAysJCkldsTkpmZmdnQ1exUEz8BvgLcC4wpmwO4vk1xmZmZmQ1JzdZ8bQgsEhEurjczMzObAM12Oz4MDG9nIGZmZmYTg2Zbvt4iRzteRWVqiYj4ZluiMjMzMxuimk2+Lio/ZmZmZjYBmp1q4tR2B2JmZmY2MRhn8iXp7IjYVNLd5OjGD68CIiKWaGt0ZmZmZkPM+Fq+vlV+r9fuQMzMzMwmBuMc7RgRT5c/XwAej4jHgMmBJYGn+vxHMzMzM+tVs1NNXA9MIWlO4ApgK+CUdgVlZmZmNlQ1m3wpIt4CNgKOjYhNgMXbF5aZmZnZ0NR08iVpeWAL4JKybdL2hGRmZmY2dDWbfO0B7AOcHxH3SloAuKZtUZmZmZkNUc3O83UdcB2ApEmAFzy7vZmZmVn/NdXyJelMSdNKGgHcA9wn6bvNPoikSSXdLulP5fL8kv4h6SFJf5A02cDCNzMzMxtcmu12XCwiXgM2BC4F5idHPDbrW8D9lcs/AX4REQsBLwPb9+O+zMzMzAatZpOv4ZKGk8nXRRHxHh+d8b5PkuYC1gVOLJcFrAacU25yarlfMzMzsyGv2eTreOBRYARwvaR5gdea/N8jge8BY8rlmYBXIuL9cvkJYM4m78vMzMxsUGsq+YqIoyNizohYJ9JjwKrj+z9J6wHPRcStAwlO0k6SRksa/fzzzw/kLszMzMy6yvgW1t4yIk6XtGcfN/n5eO5/BWADSesAUwDTAkcB00saVlq/5gKe7O2fI+IE4ASAUaNGNdXNaWZmZtbNxtfyNaL8nqaPn3GKiH0iYq6ImA/4KnB1RGxBzhH25XKzbYAL+x+6mZmZ2eAzzpaviDi+/D6oxY+7F3CWpIOB24GTWnz/ZmZmZl2pqUlWJc0PfAOYr/o/EbFBsw8UEdcC15a/HwaWbT5MMzMzs6GhqeQLuIBsnbqYsaMWzczMzKyfmk2+3o6Io9saiZmZmdlEoNnk6yhJBwBXAO80NkbEbW2JyszMzGyIajb5+iS5nNBqjO12jHLZzMzMzJrUbPK1CbBARLzbzmDMzMzMhrpmlxe6B5i+jXGYmZmZTRSabfmaHvinpFv4aM1X01NNmJmZmVnzydcBbY3CzMzMbCLRVPIVEdeN63pJN0XE8q0JyczMzGzoarbma3ymaNH9mJmZmQ1prUq+okX3Y2ZmZjaktSr5MjMzM7MmjDP5kjR5k/ejFsRiZmZmNuSNr+XrJgBJp43ndlu1JhwzMzOzoW18ox0nk7Q58FlJG/W8MiLOK7/vaUdwZmZmZkPN+JKvXYAtyElW1+9xXQDntSEmMzMzsyFrnMlXRNwI3ChpdESc1KGYzMzMzIasZme4P03SN4GVy+XrgOMi4r32hGVmZmY2NDWbfB0LDC+/IQvsfw3s0I6gzMzMzIaqZpOvZSJiycrlqyXd2Y6AzMzMzIayZidZ/UDSgo0LkhYAPmhPSGZmZmZDV7MtX98FrpH0MDmh6rzAdm2LyszMzGyIair5ioirJC0MLFI2PRAR7zSul7RmRFzZjgDNzMzMhpKm13aMiHci4q7y806Pq3/S4rjMzMzMhqRWLazttR3NzMzMmtCq5CtadD9mZmZmQ1qrki8zMzMza0Krkq9HW3Q/ZmZmZkNaU8mXpKkk7S/pN+XywpLWa1wfERu1K0AzMzOzoaTZlq+TgXeA5cvlJ4GD2xKRmZmZ2RDWbPK1YEQcDrwHEBFv4RGOZmZmZv3WbPL1rqQpKaMay1JDPef6MjMzM7PxaDb5OgC4DJhb0hnAVcD3xvdPkqaQdLOkOyXdK+mgsn1+Sf+Q9JCkP0iabMDPwMzMzGwQaSr5KksHbQRsC/weGBUR1zbxr+8Aq0XEksCngLUkfYacEf8XEbEQ8DKwfb8jNzMzMxuEmh3tuDS5mPbTwFPAPJIWlDTOtSEjvVEuDi8/AawGnFO2nwps2P/QzczMzAafphbWBo4FlgbuIgvtPwHcC0wnadeIuKKvf5Q0KXArsBDwK+DfwCsR8X65yRPAnH38707ATgDzzDNPk6GamZmZda9ma76eApaKiFER8WlgKeBhYE3g8HH9Y0R8EBGfAuYClgUWbTa4iDihPOaokSNHNvtvZmZmZl2r2eTrYxFxb+NCRNwHLBoRDzf7QBHxCnANOVfY9JUuy7nIecPMzMzMhrxmk697Jf1a0irl51jgPkmTU+b+6o2kkZKmL39PSbaU3U8mYV8uN9sGuHCgT8DMzMxsMGm25mtb4OvAHuXyX4HvkInXquP4v9mBU0vd1yTA2RHxJ0n3AWdJOhi4HTip/6GbmZmZDT5NJV8R8V/gZ+Wnpzd62db4v7vI+rCe2x8m67/MzMzMJipNJV+SFgYOAxYDpmhsj4gF2hSXmZmZ2ZDUn4W1fw28T3Yz/g44vV1BmZmZmQ1VzSZfU0bEVYAi4rGIOBBYt31hmZmZmQ1NzRbcvyNpEuBBSbuTU0NM3b6wzMzMzIamZlu+vgVMBXwT+DSwJbB1u4IyMzMzG6qaTb7mi4g3IuKJiNguIjYGvN6PmZmZWT81m3zt0+Q2MzMzMxuHcdZ8SVobWAeYU9LRlaumJUc+mpmZmVk/jK/g/ilgNLABcGtl++vA/7UrKDMzM7OhapzJV0TcCdwp6cyI6HMNRzMzMzNrTrNTTSwr6UBg3vI/AsIz3JuZmZn1T7PJ10lkN+OtwAftC8fMzMxsaGs2+Xo1Ii5tayRmZmZmE4Fmk69rJP0UOA94p7ExIm5rS1RmZmZmQ1Szyddy5feoyrYAVmttOGZmZmZDW1PJV0Ss2u5AzMzMzCYGTc1wL2lWSSdJurRcXkzS9u0NzczMzGzoaXZ5oVOAy4E5yuV/AXu0IR4zMzOzIa3Z5GvmiDgbGAMQEe/jKSfMzMzM+q3Z5OtNSTORRfZI+gzwatuiMjMzMxuimh3tuCdwEbCgpL8CI4Evty0qMzMzsyGq2dGOt0laBViEXFroAa/1aGZmZtZ/zY523A2YOiLujYh7gKklfb29oZmZmZkNPc3WfO0YEa80LkTEy8CObYnIzMzMbAhrNvmaVJIaFyRNCkzWnpDMzMzMhq5mC+4vB/4g6fhyeWfgsvaEZGZmZjZ0NZt8fZdMuHYtl68ETmxLRGZmZmZD2HiTr9LFeG9ELAoc1/6QzMzMzIau8dZ8RcQHwAOS5ulAPGZmZmZDWrPdjjMA90q6GXizsTEiNmhLVGZmZmZDVLPJ1/5tjcLMzMxsItHUVBMRcR3wKDC8/H0LcNv4/k/S3JKukXSfpHslfatsn1HSlZIeLL9nmIDnYGZmZjZoNDvD/Y7AOUBjqok5gQua+Nf3gW9HxGLAZ4DdJC0G7A1cFRELA1eVy2ZmZmZDXrOTrO4GrAC8BhARDwKzjO+fIuLpiLit/P06cD+ZuH0ROLXc7FRgw35FbWZmZjZINZt8vRMR7zYuSBoGRH8eSNJ8wFLAP4BZI+LpctUzwKz9uS8zMzOzwarZ5Os6SfsCU0paE/gjcHGzDyJpauBcYI+IeK16XUQEfSRyknaSNFrS6Oeff77ZhzMzMzPrWs0mX3sDzwN3kzPd/xnYr5l/lDScTLzOiIjzyuZnJc1erp8deK63/42IEyJiVESMGjlyZJOhmpmZmXWvpqaaiIgxkk4luwwDeKC0WI1TWYz7JOD+iPh55aqLgG2AH5ffF/Y3cDMzM7PBqKnkS9K65NJC/wYEzC9p54i4dDz/ugKwFXC3pDvKtn3JpOtsSdsDjwGbDiB2MzMzs0Gn2UlWfwasGhEPAUhaELgEGGfyFRE3kslab1ZvNkgzMzOzoaLZmq/XG4lX8TDwehviMTMzMxvSmm35Gi3pz8DZZM3XJsAtkjYCqBTSm5mZmdk4NJt8TQE8C6xSLj8PTAmsTyZjTr7MzMzMmtDsaMftxnW9pH0i4rDWhGRmZmY2dDVb8zU+m7TofszMzMyGtFYlX32NaDQzMzOzilYlX/1a59HMzMxsYuWWLzMzM7MOalXy9ccW3Y+ZmZnZkNZU8iXpY5KuknRPubyEpA8X1o6IQ9sVoJmZmdlQ0mzL12+AfYD3ACLiLuCr7QrKzMzMbKhqNvmaKiJu7rHt/VYHY2ZmZjbUNZt8vVAW0w4ASV8Gnm5bVGZmZmZDVLPLC+0GnAAsKulJ4BFgy7ZFZWZmZjZENbu80MPAGpJGAJNExOvtDcvMzMxsaGoq+ZI0ObAxMB8wTMppvSLih22LzMzMzGwIarbb8ULgVeBW4J32hWNmZmY2tDWbfM0VEWu1NRIzMzOziUCzox3/JumTbY3EzMzMbCIwzpavMqP9mHK77SQ9THY7CoiIWKL9IZqZmZkNHePrdpwT+FQH4jAzMzObKIwv+XokIh7rSCRmZmZmE4HxJV+zSNqzrysj4uctjsfMzMxsSBtf8jUpMDVZ42VmZmZmE2h8ydfTnkjVzMzMrHXGN9WEW7zMzMzMWmh8ydfqHYnCzMzMbCIxzuQrIl7qVCBmZmZmE4NmZ7g3MzMzsxZw8mVmZmbWQU6+zMzMzDrIyZeZmZlZB7U1+ZL0W0nPlQW6G9tmlHSlpAfL7xnaGYOZmZlZN2l3y9cpwFo9tu0NXBURCwNXlctmZmZmE4W2Jl8RcT3Qc7qKLwKnlr9PBTZsZwxmZmZm3aSOmq9ZI+Lp8vczwKx93VDSTpJGSxr9/PPPdyY6MzMzszaqteA+IgKIcVx/QkSMiohRI0eO7GBkZmZmZu1RR/L1rKTZAcrv52qIwczMzKwWdSRfFwHblL+3AS6sIQYzMzOzWrR7qonfAzcBi0h6QtL2wI+BNSU9CKxRLpuZmZlNFIa1884jYrM+rlq9nY9rZmZm1q3amnyZmZlZa9x+Yj0l0kvtMEstjzuUOfkyMzPr4bxzXuj4Y2705Zk7/phWD6/taGZmZtZBTr7MzMzMOsjJl5mZmVkHOfkyMzMz6yAnX2ZmZmYd5NGOZmZWm2+e/3gtj3v0l+au5XHNwC1fZmZmZh3l5MvMzMysg5x8mZmZmXWQky8zMzOzDnLyZWZmZtZBHu1oZmZmQ8azR19by+PO+s3PNX1bt3yZmZmZdZCTLzMzM7MOcvJlZmZm1kFOvszMzMw6yMmXmZmZWQc5+TIzMzPrICdfZmZmZh3k5MvMzMysg5x8mZmZmXWQky8zMzOzDnLyZWZmZtZBTr7MzMzMOsjJl5mZmVkHOfkyMzMz66BhdQdgZmZmg9MzRzxUy+PO9p2FanncVnHLl5mZmVkHOfkyMzMz66Daki9Ja0l6QNJDkvauKw4zMzOzTqol+ZI0KfArYG1gMWAzSYvVEYuZmZlZJ9VVcL8s8FBEPAwg6Szgi8B9NcVjHXTOyWvV8rhf3u6yWh7XzMysShHR+QeVvgysFRE7lMtbActFxO49brcTsFO5uAjwQAsefmbghRbcT6t1Y1yOqTmOqXndGJdjao5jal43xuWYmtPKmOaNiJG9XdHVU01ExAnACa28T0mjI2JUK++zFboxLsfUHMfUvG6MyzE1xzE1rxvjckzN6VRMdRXcPwnMXbk8V9lmZmZmNqTVlXzdAiwsaX5JkwFfBS6qKRYzMzOzjqml2zEi3pe0O3A5MCnw24i4t0MP39JuzBbqxrgcU3McU/O6MS7H1BzH1LxujMsxNacjMdVScG9mZmY2sfIM92ZmZmYd5OTLzMzMrIOcfJmZmZl10ESTfEmaqu4YBitJqjsGMzOzoWKiSL4kfRrYSdInytQWXatbEp1qHDHIR2VI6pr9vPG6dlNMZhNC0pR1x1Alaca6Y7D2ahw/Jc0qaVhZL3pQmVi+AGYBlgG2AL4oadaa4wE+XGAcSXNKWkPSst2S6ERESBouaRNJm0raoNt38MrrObek5SRtBBARY8r2btrfD5C0Ut1B1KmSiH627F871h0TgKRlen6Bd8tJ0UBVPhtfkbRWqz7LkqYG9pI0W4/ttbxekkYA35G0Rc+Yukk37k+VhGa68pkcXndMfYmIMSXe7wELR8QHdcfUX930ZdQWkhQRlwI/B5Yn5/DYR9KakqatOa4PJE0BXEwuNv53SZ+rK6aGSpLyE2B1YHNgkxLv1PVFNm6VD+D5wDeBTSRdLGn9cv2Y2oIjX9eS1C4KrBIRNzS21xlXT5Uv6k9JWkXSqpJ6XZ9sAh6j8VosARwJzAbsJ2nxOr+YJK0IHAO8Vy5PB4O79bdyrJkKOBB4ulxeTNJSkiafgNf8aGDyiHhG0sySvgi1vl4zAq8CSwG7Slqx21rmqiStLenbkjaWNHudsVSOjycAS0fEe+UEvOuO+WV/DeBN4PeSlivb234srSSp00haR9KGkhbp72N31UG/HSoHgR8BvwbWBF4HvgPsK2n5mg72jdf+AOAPwCnAPyLi2tJys3INMQEfnlXMDawUEbsAkwMXlqtXkTRPXbH1pZIwLAfcFhFbkO/xeWSX84Wlibq2L/bKwW0dYJikhXpsr13li3o4cCZ5ZvlVYI9yoJm8FY9Tec6HAvsA/wVuLpMtLy5p9Zreq/2AgyLidUk7AUdJ2ruGOFqmcgz8HnAVcK+k7YALgK8D8w8kWSrHgU9ExD4laf0l2Qp2TB0nFGXffTwifgLMCWwKfBf4uqRPdTqevlROPNYg9/3JyISnJZ+tCSFpeWCOiDhG0sfIE6Pfd0srfeOYEGP9ADgOWLlsb/uxtPIYJwOfBX4FbF9pjWvKkE2+qgduSQsDMwAXRcToiNif/GLZitzROn6WVr7gJgXeJVu+fg0cW65eF9i20zH1MDlwnaRvA+9ExDnli/cnwDT1hva/KgnDYcBbZduTwOlkEnYd8HzdLRiSpgHGAC8Au0tar84W2F40PjdfBX4XEesCvydbE9YEDmxVK1j5jN4IPAvsCOxfrtoR+Eyn3ytJMwOvATNJOg5YGvg7ML+6pFRhAt0AvAJcDcwLfAl4kSzHGIj/Ag9I+iuwG3kSuR4wH/UcIxrd2PsDbwArlJjmA34gaXdJ09cQ10dUvrx3Ilvo7wUuiYhHleUS69cXHQsDD0vaC/gG8DJ5AvvpGmP6UOOYIGklSdtJWgS4HthS0k/K8bXtJC0DTBsR+wH/ZmzjxAZqcnDfkE2+yIMLABHxIHA72a2xQNl8LnAXcGkng5I0haRdJM1ausn+AZwFTBURp0magfxQntjJuHqKiIeAp8kP4F/K5v2BmyLi3jpbkHpTEtn3gdHAepJ+IWm6iHgvIh4AjurvmUkLY6sOXng9Io4kD7rPAl8AviXpM52OqzflNZoZOAiYuWy7FvgN8DfgsYh4vkWPFcAT5X7fj4h/SlqKPIs9dpz/3AYR8QK5xuxKwGul1fcKYDkyaRm0Konuf4ATIuLA0sq4GuWLo7+f6bIfHEC22h8YERcA/0d2a77auuibjmeMpGHA3MCVEfFSRJwJHEW2hM0cEa90Oq6qHsefa4EVyV6Z75Vt36TeROdM4A7yROv0klwsDbS07GBCSFoa2AFYkEwMv0SezH6ZfD074V2yceJQ4NGI+KukOcmT/+mauYNa1nbskJXL2eor5cv3CGBfYIfy5fIx4OKIeKvDcX0SGEV2rVwfEX9UFokeK+lscq3LqyLibx2O60OS5idbj24EhgMLSboHuBnYq3Ezss+9VqUJfwx8+GX+PUk/Jt/vv0n6TUQc2agHq6mLT0BI+hrZAjs/cEZEHFaSrq3ors/iK2R3wx5lX9g/Iu4D/tjodixdPAPpqpq0tFLORLYynUkm+dtLepBMnn8TES+35qk0HdfCZN3ZrcDVEfFUueqXwIkR8U4j9k7GNSEqr/UywCrAQsBJEXGLctT3XmQX/ej+vp+SvgFMTSZuvy2P83Gy1X711j+b8cYzb0Q8Frlu8NXANyS9DlwTEQ9JeolcS/gjx4wOx6iSIE5Ntsb/jezmvgGYTNI65PfD1pXbt/UY23iMcvK6EvB2ieuYUvO1MrAG8IlOxdRHnFMDi0bEaPJ4eUzZj38ELEqeAGwGHC1pi4i4uQ0xTFLevw2BR4DpgfWBrUtSvT9wQUQ83cw+NuTXdpR0MTAP2Y3yH7KlYSTwRkScUUM8kwBLkmc3S5NfQCcAT5FZ+/3ACxHxTqfjKjvWN4CNgBHAJWS3xHlkK+mLEfHfug5e4yLpADKhDuBBsnt0FNli8+Xo3MLtPeNqHNzmIb+ovg8cQnaL3Af8FHik7i/1yvs/HJg0It5WFgBvBXyFTEp2J1uoBvTeV16LWYA/AU8Cd5It0NcBM5GvxXsteEr9iWt+4FTgceAzwPoRcZ9yYMSaEfHLTsbTapLuIFuwf0cmSj8q2xcGnoyIt/rzmZa0H9ml9wYwBZk8/Bl4CZgiIh5u/bMYZzxrA4uTvQUfRNbr7U52N36cPJGcPCI26GRcPVU+Y3uQI/R2k7Q1sAHZav8BcGZEXNKpRL8S00/JE8OlyN6N3UsjxaeB9yLi6jpPPiTNQSY365L77PJ93O5gskzmRy1+/MaxazhwE/A18j07gPwczAk8D2xbTkTGm6QO+eQLctQW2c14DbBnRLxWUxwzRMTL5Ux0SrJF5LNk0nAHcFlEPFDj2cU0ZEHu+uSooWWAtcgz/6s7Hc/4VA4cG5Bn8fuQr+lqZBfDbpXb1vKaVh7/l2SrzoPAD8lC59PI2ph1IuLRumKrknQYuU/eA/yT/NzMTHaL7FG65ib0MQ4iv2guIbs3ZiO7YG+MMgK0kySdSCaDjwNHRMSqkuYiW30fK/tYrftPf1W+LDYjE6XvkLUxa5DJyKHAT/vbhVyOEWcAG5VWps8C2wOzkseJC1r4NPpF0oHArmTX58Vk/dKc5Pt4bUS8VHfrZWnxvZzsdTmosm0Ksru2jha5eYDzI+LTkq4gW57/qCy+/2enW6F7iW/6iHilvE7XkyfYNwGHR8SDyoEBnyQbCb4PXB8R17cplh3IxGuF8vmahDzJfxR4OyJea/ZEZijXfH0oIu4gm9yvAl6QtGWnYyg7zvqSvkN+6Y6OiOvK3+eSdQrblHjrOshvTPZlPxcR90fE78iz2m1L12hXqezgS5EH/uvJGrrfAbNK+jx0ReI1OdkycAHZenRcRPyLLHw+uO7ES2OHTn+bbEHYCbiF/OLaOiLuiogtI+IFDbBmTmNHo04GPEN27d1K1uNcSSZgi03wkxlYXC+RQ9aPJLuBAL4N/F98tEt7UJA0ohLv/cADwB+B08qJ5wrA5/qbeBVrkq1J+0iaIiL+FhHbA+eQyWttIuJA8hi6J/l8p4iIiyPivIh4qdym7m7jKYDLgM0l/VLSxyLixYh4ssbehFmAK0pi8V5JvKYCjieT6rqdVFrh3wLWJqdlegM4T9IPycFqUfb5X7Qx8Zq0PO4MwJWSVo+IMRFxc0Q812jUafp9jIiJ6occxTdzTY+9BnmAuoWswZisct0XgLlrfF2mJVtj7iTPbFct2zcB/lT3+9ZLvIuR3WOQTdEPAStXrj8L2KbuOHuJew+y1WGpsi/MXbar5rhE1jdtUNn2afIMc+kWPs6ZZLL1NrBeZfvs5OihTj/vlckapeuAU8u2mciWv3nK5Unq3m/6+Zx+UT7Pw8vlE8mSiyXLceZ6YONy3aT9vO/FyS7Mk4HDgdXqfr69vUflc/YUObiga2KrHLOWJbvRLiTnXpuspthmK9+JB5F1TI39Yn+yi7objk0jyB6Cx4BvV7YvTZaVHNLheOYFdiFb2o4EFhrI/UwU3Y51k7Q92SLzEHlW9g45UuN14LfkF/EsEXF0jTFuSh6UpyFHjXwGmIus+do5Ih6RNCwi3q8rxgZJS5KJ1i8lLRZZn7M92V0aZMHothGxeI0xNoqdP08W2H+ePKCNIUfy/Qe4KyJ+XmcNXaMrvPy9LTnNw76RrbJIugb4QUxAd2DltfgisHtErKmcZ+oQsmvzWxFxd6dbKEu9zbZk1/r3gSXIFrCZyELtw7uxvnFcSovF3OQo0vOAn0XEFaXF/XNkwv9wRPx0APc9DXlMeJQcATqKPAl6gmzBfbcVz2FCVLsVlVO4LBERN9bd+l3i+T7ZcjiaHMx0B/n6bQh8Nzo0QrS8j4tFxD8knUEm0ZOSJ99vkyddzwM7RU6eW+fxqXHsWJIsf/g+mYwdHBEX97hNy7uUezz++mSr77lkIgjZBflIRBzR7/t28tV+5Qv4BvKNui4i7lFOBroWsAiwKrB2ZPdoHfFNT3Z/vgLsDExFHljXIeslbgXOjZr7/quUo19WI+coakwbAjlY4Bng7yUp63iNR6XeZnJyhOju5KCKY6OX4u0aa/zWAz4F/IysV4jS9TgLmTC+SBYGr9Gix/s58G5E7F3ZdhTZ3T1fJxN75ZQEF5GjTs8o21Ygk/cnI+Kxsq32L+2BKLVYi5LdNM8BP4mI//S4TX+K7Lcmh/QvRZ7cnEJOlbA22VX155YF3wI9P/d1JRCVutTvkKMJDyRb6hcA/hYRJ0qaJnKQQEdiVC67tD9Z6P9YRKxYts9JfvZfAV6OrLPqhsRrDTLZ+kzZvg1ZFvAqOcLxyXZ/RpWj/Y8iTz5mJE/SDiJHqb8dOTK0f8eKTjbXTYw/wJTl90rAbeR8Y0cB05ftswNL1h1nieUYYIvK5UWALYGTgE/VHV+JaYryezqy9fDr5Ei1H5HdR8PrjrES697kmdrC5IEWsjtob2CmuuMr8Qwr8TxGts5NR7aQbEeOdJy93K5f3VOV+/9M+T0/2UVwfXnPPlG5zZQ1PO8FyRq8p8mW3drfixY8p0aX1iZkt+AwsptwHzLRPIocHt+vblSyS/pmYPFyeVtypO43a36+6nG5Z9fjsPJ7Y+DjNcY5jJyoePXKtlXJ3pBaSk3IBOJu8qT1tMbnsRzz16/zfe0l1rOB7crfjX1cwMHAdB14/NXJSXAbl+cm6/b2mqD7rfuFHco/5Dw4e5MjjW4k+4pnImswbidHXtYV2yTl92xkEzTk2pfX8NFanOFk60c3vJ7DSoyNWY3XLtsXJIf8nkGe0U1Vd6wlrpXI4vULgLXKts2AP3dBbI33v/Heb0sWZ59BzqfTisf4ONnqNxmwYNn2JbJO4sdkgjdrza/D5mQd2mnkqNPa95sWPKczgDXK3yITrpXIWsMpBnB/i5OTzc5f2bYYmUwPq+H5NWrZpia7oOahj0SMLKN4gJxqos73ZFcyAVussu16YNkaY1qAHACwH5mI/ZRszfxSna9VjxhnL9+dL1Pq0Xq5TVtrMskpS64ke1WmK9tWIgewDPh+3e3YZsr1+y4lDwJfjZwtvLE8wQXANyLivA7H1GjOnZz8IpyOnPvseHLKhqnIUW63djKu8VEucrwF2SIzPdkH/2iU7qrSPD1TRPyhtiAL5bIXj5KrAyxDFjtPSX5h/V9kHUotw95LN/OK5IH2mko8IpOirYA/RMT/TeDjTEmOnl2VrO/6A7kO2why7rBR5Mzoj07I4wwgrnXJ7rPLIydqnIVMwtYnz7D/M8476EKVru5VgB+Qo7L2i4i7y/WTkAnIgObpU86f9BbZ3fgsZampKF1BdZB0OjAHubzLa+SX4R1lP6a8Hr8gR9Ze3OHYGsfYWciu7GnJJZheJY+vU5EntWvVENNcZJfjrOTSRveUm+xGzjF5QKdialap6d2RrC88JCJub/PjNT5Pc5BlLNuTJ5P/It/PrwCnRMTvBto16+SrAyR9nZzW46tk/cU3yGTnmxHxtRriadRuLER2hf6cXIR2KnLHWodsrdgqapoTbVwk/ZpsRbyXLF79C9mMvho5uinqrNWRNB9ZF7NJ5LITB5Ddt1eSyeLhNcc3gqw92RW4PyKW6XH9bGSh8hUDjbNyoF+ArJOYhBzIMQ950DpP0lwR8cSEPp9+xrUhuQTIBWR94xXALpH1LXNHxOODrc5L0uSRM/APJxPIqcgW4lfIbqUbYuyM/f29723JpHlxsgX/XbI1bT5y5YNrJzD8/sbzDXJOtiXIz9S3yFa4T5HH1P2iTNIraQlypYsv1PhZu4JcI/V0SXOTx9apyAk6Lyj7W0dPwsogmpvJlsMXyM/mIZETKzc+t3XWejUSn8XI76mrIgv/ZyBb0ncm39O2TJxdeQ2WIr8b12VswjUPOdXEvyPimAl6oHY21/nnf5ovZybPSh8maybWqimOEeSXz+v06PpkbC3aycCOdb9mlbiqw7XnKr+/SnYZHUyOHPpB3XFWYlyPbFWcrFyerMdzqH36gvIe30JOs9Dowl2HynDuAd7vlOVAtXzZz5Yo2+cm65H+UN63jtfnAUdTam/IIfYnkyO89q/7/ZiA57R62d/OIldzgGxp/b+yDx7GAGoMyRbL24ER5fJU5CCh5RvvaYef5whycMifyBbbrSvXzU+ehK1f2fZr4JM1vi/rk61uPbd3vKu28thLkYO+GpcXJ+cgPKBcrntaiUZN1/LkNDcnkK2ahwIjy3UdqZMjRwvv3GPbdD0uD/g4PlFMstotIuKFiPghOZR3m4i4rKY43iQPYgcBy0v6W+mKATitjAR7jewqrV1lxNAskn4LHCXpMrK5fJfy+8Dy2tLoduhwjJP22HQVWaN2qaT5IofhVxfY7obpC3aMbPU6DTiydOMcSDbtT4jG/nMyOfP0cwAR8XhE/JHc946Izi8jtBbZSrKKcmH7dyJiO3JalUHX1Qgfdu2+RbZirkS2TBERd0bEL8gvsDsj4sUB3P2h5ELPk0jah6wLmi8iboqIu8b9r60XEW9GxLfJ2qTHyX12p3LdI2QLziSV2+8apdu1JjOSXfuNyYUprTl71XGMKh4FJpf0FUnDI1uP9gEWUU4lVHeLb+PxDyBLYC4ja+M+CfxT0rYR0fbJfCWNJKffOL9cnrpctalyWa4MdgKO4+52nMiVRGsz4Lvkl+YFEbGvcublf9Ub3Ucpl+iZjPxS+CI5mOHQqDT/1tydNzVZE3Mu+cG9kZzX7cHogvUBK83pjVGsk5BToFxFJoZfJWs+JnjaAOUcS78n64NmBG6OiENLl+bWEXH4hD7GAGL6BNny9klyiZfRwAMR8UblNoOqyxGgdDceRq5I8CzwX7Lo/l7yc31sRLzRn+emnC/sZ2RX+WZkecJocn/+XqeTGkkbk7PWbx0Rp5dtW5KtS4uSPQlvl2QadcGchCXROh/4YYydzuQPwO0R8eMOxtHoxluTTL4+TbYsPULOPbktcEdEHFxnd2ODpHnJ7uQfkC2cK0TEu5KuJZfg68hrJ+kkcmqcXcvlhcn67U9HC+Zkc/JlwIetRaOAW6ML17IrCcMuwK8i4qGy7VNk/dxuEfF2jeEBHyay+5CT6M5AFiW/THYLHRAtXux1oCRdTxb+f71suolcHubO0io64CSkt4N3aXHamKyXWJBspTx9Ap5CvyknlpydLM4eRRbQvkfOYXd2NQEbLHqrFZL0GbLreB5yItRLI2LPAd7/F8nRun+KiF+XmqU/kdPOdPzYoBxQcxo5enHPiLhNufjzN8lWv10j4p91JRCVFvppgZUiF8heh+xhGE7WgX4syrx5nTzGlpb5vYE3IuKoksx+guyG/EdEHNbpmHrEtzzZTb51lNozcjDFUeQgnRfIaXs2K4lYy9/jyvs3iiwNmpLsul6UUj5Bfp6Oakmd3kD7K/0zdH+oud+/EsdkwDTl7x+QXSrHVK6fjux+mKvuWHt7/ciaounLh/c4ap5WocS0AfD78vetZK3Q5WRtzyoTeN+N4f0LkkvcXM3YGqThZBLa8TpCchmSS8nVJB4kW/ymAHYgZ/OvfZ+ZgH1seNm3/kDWd01Tnt8ocoDDsOrtm7zvRcmRXXNUtjW60Lap4bk26iYXAX5S4niFrHGbrlzXWAqqtmNX5T05Bdi7sn0KMjlcmrF1SwOaN28C4/sMObfYEVTqziqf29rqUMnRoJeRJQp7VbZ/nWzFvYOcGaAtcfLRqZeupTLdDlk/uQctnhbELV/WtSTtQn6BPxY5mmt5sivkffIs8n3grcjurFqmbeip0sT/kVFDkm4CToqIE2uObxmyxWcRcomm3ZSrLewFfCVaUIcl6WLyYPlPsjvsUeDrEXHPOP6tbST9iVzSaVZyLq9NSkvqY2S3wphu6G7pj8p+9iOyaPpg8ovqc8DRUVmqrJ/djYuQtXo3kV86t5Ddx3cDm0fpPquDcpbxb0fE5aWr9TxyhPMPIuJndcVVVVrjT4iIZUu3455kIvyNmIAlugYYS2MfmSoi3irbZiDnQvxrRJzbyXj6Uv3slWPRr8kT66+X93o+cn66f3Yglt8A90S2bq1L1lLeAvyoEmNLWgddcG/dbHRk3dl+kr4G3B0RnwV+R7bgrEGe8UOumVi7xocyPrq0ichauloSL+UcT40v1rsil7F6GlhV0lfISRaviFwiY0DHhB6P8UpE7B8RZ0TEPGRN2V2Sdm3B0+lvXDOSyd815IG00fW7Gznv3hjomgEQTal8qc5Etq7uHxG3RcQOwNbAVpJ+37h9P78ojiDnZHuQrAGdhFz77xvkCNValG7ju8j3knKSsDPZDVr7mpIVcwFPS/oeOS3CP8lBLKuV40DHVN73nSRdLmkHsqvxHWCLUgNWu0pSs1hE/CMilib3wVPLidywDiVe05DlIq9J2oucVPUMclqVeSrxtqTFysmXda2IGF3638cAKwM/lPSFksQsTRa03yZpi1Z9ICaE/nfEIxExpsT2lHJ+rU7H1Gh5m4ds/ZmlxHU92YWzEfBMRBzXiHcgj1P5vx2BxSXtWWqEiIiDyG6rOlpN5iT3n7+Txbp3SVqcrMc7v4Z4JlhlX9+KHECwraQZS1L2t8gRrN+EsUlxM0oLw4NkF+3XyBqc35JJ2Bt1fsYi4nVyBYZTNHa02RLA+1EGs3Q6uelNRPyJ7MZfDzg1csHlzwAz1vH6KQdO3EdO2bAaud9/klzMe7VOx9MX5cSvf5Z0nKT5I+K3ETEb2Q35w07EUPaxo8gBJkuT60eeR9ZOtnzfcrejdZ3Kmf0c5ASFa0ianVyOZlHgSeDkiPiXciLFFyPiyQ7HWG0qnzUinu3lNo2ux1XJJvRNOhljiaHxWp5Ijrr8icpIMEkjIuJN5ZDz9wbadVtJ8EaQJ3Sbkd1fd5PDxB+IiBc6XcyrLPTfmuwC/TLZlXEW8FmyJfJX3dJd3azKa91YjPnzZNfWE2St0Z3lS2Qg9z0pWTM2BfCziNhCuQrGX8ju2gHd70BV9t1pgakj4qnSero/2S06C/DLiDi7G7qNe9u/Ja1IDm5ZOga4ukArSZo+ckLhlcn1Zt+vO6ZKbLOTU0wsT44YP6zRGl/2+bZ/Viv73GSRhf0nkS3532716zSsVXdk1iqVA9haZG0XEfE0cGipWdqesu+WloyOnvFWDgazkDVNkyunUNgoyooA5TaNA8X3yFFjHVcOJNOQs1nfXjYPI+vlNpb0WERcV247oANbeS0mB35FFvT+lqzV24EcMn4hcEaHE6/ZyKRkSvK5nkO2gg0jR8f+q8Q+aBIv+EgL47fKbn8y2QW/G9k9eI2kH/T3eSnnNZqeXBf1TkmTSXqCbG26vsbE69Nkq81dytHEvyBXt1gYeDbK/GXdkDw09u9K7FORXXzfKIlXbYl+45gVEa+UWK+vxF3XTPaN4+j8ZO3lk8AuytreM4CtJa3X6HLsxGtXOUZ9UJLB+8jjGoydg6wl3PJlXans+HeRoxm3jIj7ag7pQ5WD62/ICV6fIQ+wK5bm8+cj4p1y2x2AhSJi7w7HODu5mPWN5fKuZL3H7iX2EeTru2q0YC1D5ZD/NYFlybqJMyOXJ/o8OXfYbRP6GP2M5zfk0kk/L13Xm5DdBxeTranPd8sZf3+UE43JyZa8RcnWvJvJeqy5gI9HPydvVq6ZejE5p9fWZCvXg5JWB95p7EN1kHQEOQHuBWSN5/rAU2TL9+hOt6b2VzW+bom1W+KAD7vFDyUHAd0I3BQRr0lajRxAsmnNLYUT1CswLq75sm71Inl2exNwoaRvlzPf2pXkZXZgtog4imzVOrRcvQX5Rd/oxlmXDtUs9DAP8K6kT5Su2dPJpOgaSceQzfqnRsR/+lMXVKVKjVtEvFDu8ySyuH0PSceRXY6dTryGkwtLT15iGx0Re5FJ8ipkLVNXtJY0q9G6G+ntyHnSTiUnPv0S+brP09/Eq/gZOYHprcATJfGaH3iojsSrsV+VluXHyAl6/0O2huxHrp6wHLSu+Hmgera69/JZagxE2ZhMlrsqJkkf70RMvSlJ4BjgEjL5WhfYUTkQ4DvkQulj1EstbavjqP6uirGjvzca6HGyL06+rGtUDrpbAd+PiFciYjcyoVkLeFg5fLt2pRv0LknnAvdFxJ+VS71sR3a9Qc5T9n9Rhnl3irLWabmIuBlYkSwi3Zx8Hfci13I8kLEj/wb0BdY4E5R0vKQ1IuLdyOkkzifrvaahhlGo5YB5BjBK0rYlAR0GfIycL24xZXH5oFFpPdlX0i9Kq92DEXEqcBE5gWy/J4otiepL5FxhO5H7CmRB9tatiL2/Ki0Mx5GtH4coFzn+IHI5nEPI6QhqK7IvrxvACEkjJM1TSSYat5kksuZzGvLk7OGJLaY+4mwkU1NJWohMvH5MrjE5I1lW8nJEXAjt6W6sJFyTkmUjI3om8pXvoz3JNUJbO6lrl7Q+mgEgaQqyO2zDiLhPHy1sX5+cbbuu5YMaBfTzkKNwlgOOAd4kRw5uBjwSEXvV2aUl6W9k4eoHZL3TpOTSQbOSc41d3ILHaNRrbEwmOi+TS9DsGFkYfQjZ/XrkhD7WAOMT2Q26KlnAK7Lu6wpyRvsl64hrQilnsP82Ofz9mIg4VdIGwJeiLK3Tz/v7BNmVtzvZTbuGssD9BnJC1TtaFnxz8TT2q13Ieca+Sc5htixZ+H9ORDzQyZjGRbke6hzkygmvka01d1RbKiX9glxge4I/d4M1pj7ivIhcl/TTJdZ9IuL2ct3kkXM7tq1OTtIKZCv4O2Sr+N+izH1W2Q+nIbvjV45cn7dluqIbx6xiVXKSu/vgw2Lu4eRahGeWA0fHaxbKY35Qmp5/Rq4peZ2ynmhrcmj5+WTXG7S4OLMfcU5FztC8CrA2OWv9G5L+SU7XsYukZSNi/wl5nEpiuSqwWEQ8rBxR+YCkC8jEdNkJeYwJjC+AKyT9lRxsMIKsFfojuQTUoFPqT/4uaVuyRfP7yvmI/ktZKqo/Sb+kzcgvlV0lvUcOwDieHO14bScTr8ZnOsYuz7MFmTS8Ry5EvRTZajkvNQ1eqcT6DXJ+sSXIru0tyQXbPwVsJuneRneVsst/cXLwx0QVUx9xNpKaTwEjImKDsn134BJJX4uIy6LUzLY68VKWi3w6ckqQ/cgTshfJ48Makp6KiJsq/3IQcEirEy/Aywv5p7t+gJHlA/F5YPKy7SvA+TXH1WglPoycQRxyvpyfAxv0dtsaY12IXDD3AeALwMxl+6Rk3clsrYiTTDjHkGs1Vh97I3KQQe37U494JwW+UHcc/Y25/F6RHPV3CTl69nNl++pk8tvv95PsHl+i/L0lOXLyr+TSQsM7/DwnqeyncwHHkxOqHgDMVLndLI3b1/R+jCBPvv5E1jZuXblufrJ1bv3Ktl+TXVYTVUxNxHwkuU7nyMo+vg05YXA7H3ddcvqb04GLK9tnKvvaSYxdzmq+8hlpy/HcNV/WNSTNExHPk6NedgB2k3Q42c1yRLlNLftsxIdDx5cAzpe0IfBdcnbtrSXNWb1tHTFK2lI5senD5MH4+2Sz+hHKeX2GR8Q/I+KZFsV5BbnY+VckXShpqYh4KCLOi7L4eTeJiA8i4vK64+iPGHvmfyJZE/N7sptkM+VklFfF2Fbipt9P5XD+V4GZJP2QXPj8RnLh4PujBctM9dMiZLH19BHxRETsTNZPzgr8prSMQC6wTNTUpR8Rb0bEt4GfkiOxj5S0U7nuETKJnKRy+10j4u6JLaa+SJpEObp2BNkytx0wv6SpyRPuycrtWj+pac7ddQnZcnoPsIKkEyXNGDllyXnkicd7ABHxKLBm247ndWa//vEPY8961ie7OhrbVyeTh93Ioe9Qc4tSieGr5HxZ1wFLlm03U1oQao5t2/J7R8a2aExFtpT8jWy1a/mCvuQoyv2AO8kzx44vGjyUf4Bl+OhZ+vRk68XPqCyQPID73YMc4bhfubw2ueZfnc91G/LLb/NyeRjZKncuNS9MTyaoY8ipbxrbtiSXOLuTTIxPrlw34PdmMMfUR5z/c+wmR7OfSUn6gcPHdfsWxHA7WSfZuPw5cgLca8vn6Uxgs469d3W8Ef7xT88fslh7lfL3DiXx+liP23Q8+WLsavfDK3/PQOkKIWsCTqv79avEOznZnH85OcHpjGX7QsDa7XwdyTqSb9X9Ggy1n7K/XQPszdgu4xWAc1uwr0xT/p6EnLZi7S54vjOR3au3AEuVbY046+7SX4NcF/VactZ6gJnJ6WSuARZtvJ4Tc0y9xNg4du5Odjle0DhWkKURV5Ctu8uSi2i3I4a5yMmfHyHnD2vs91uSLWHHdvI18WhHq52kj5FTH+xE9ruPBKYFnie7HN+MmndUSQeQk5TeRxZtP0pOpbA3uRTLf+oa4aicMPUtcsLNb0fE/soJMncjRzyeB5xV92tozWsUoJfC5AfI1q/1yC+LSckRYsdEC5bWUU7DsSw54e4hEx59a0haEriMHOG8Y82xNJabWYRc93I5spj9MmDniHi1lE38p1MDgroxpj7irO7LJ5FT3LzK2JVKtiAHxexFroO5fkS82eIYGkuqbVEebzlyDrmdIifrnYOcZf+Fdo6w/EhMPh5b3Up//8nAgmT3ygElITs2ItaoMa7G1BK7kdMVnEGOaLwWuIqcFfypyBmZ6zy4rQcsRQ4AeC0idqhctz05Em7niBhdR3zWP5X97jPkgI4vkNOZrETWQC0I3B05YqtVjymydaKrllsqcS0QEf+u8zNWiece8gTn8jIK+zxygeofRMTPHFPfJO1P7mMHldrdacg6tbMi4upym5kjJ2xu5eM2kr8vkSfLq5K1unsC+1JWdoiI/7byccfHU01YLSofiGnINfc2BWaPnCNqGnKCxePLbWtZE618AU5GNkt/mSxe34dc7+58sktvn3LbOr8ULiOLVdcni+vnAV6NiFfJhaTP7PSBxQYuProm6K9i7LqK16ksqN24basSknIfXZV4wYdx/bvyd23KcekustWbyGVndibXm2z9VASDNKZxuA74kaRTIuIx4NWSXC8DXF325ZYmXvCR/WYkWdP4Vmk1PFw5r+TG5ACAjh4jPdrROq40AYekpYGzyebmfwFvl5t8EvhnRPwB6lv8uHTnvFvie5fs6jk6cgmXC8j6gdpm2W48dkS8TxbUbwrMQk5JsFHptnmUTG5tEFHOdfUW+blozN8GOQJ4ucbt6k5IJiYl6b0fOEXSwmXzEsD7EfFL6PyxoBtjauj5uJGLeV9CJlrHSNqSnHvw+A6FdBXwWUmbx9h5u2YD9mp0N3YoDsDdjlYjSZeQK8bPSo5o3EQ54/a/yf73D+qoo9LYiQAbvxvdQEeTZ09PAp+IiLU6GVcvcTbiWh74YUSsWbavA+xKTh74VETsW1c9mg2cpP2AxSNis3J5CXLU35LR4SWrJlaVFvppgalLy/yuwP7kurOzAL9sRe3dYI6pjzgbx6cvkV3l8wIXksnifsCDwB0RcXU7ejcqx2+RDU0CRpFror5IthguHzWtduHkyzqqtMY8QnZx/IScK+s6YIeIuEvSUeQH8uQawwRA0rfIZTreJYdsQ07S9zGyO+iOurpEqySdRc7vszd8ZM3F2YDnqolkjWFaP5VayBPIGpVLyC+vsyLipG7Y74a6SpLzafJ9uIss1fkFuXbpwsCzkXNETbQx9aYS58zkqNXjgNfJNWZvjoi2z65fieFn5JqRU5DLU52rHJD0EvBCRDxex+fJyZd1jHIi0gPIM56ryTl9VgEujIgfSFqcnN3+M6VeqY4YG2dLGwE7k6NzjiQXqn5c0tQR0e8FjNuhNJNPSca4PHA0OfLSH+pBTh9d0/ST5FQht5VamX4tI2QTRtIRwH/IUoM1yNrKp8j5s0bXMRCgG2PqEV8j8dkWmDYiji7bZyNPuo+JiFs6EMd8ZGvxbmQPy5fIaYPOioiL63ydXPNlnfQyebCYhZzL60lytu6vSDqITHKOiRwi3dH+94pGncI65CSUw4GLSuK1PLBDnTVe8JFZ/sdExBsR8RVygswNgOuVCy3bINZorSxJ1t0RcX4j8WpcX2d8Q13j+CNpFnJKgpsj4j/kiOf9yAWrl4PO1d11Y0x9KYnX3MBvgS2VozCJXF3jXXIJsk6YGTglIv5OrhDxA3K0+s6S5qw1QfVJsnVCpf9/WrJ1a3Kyq+wuYHZypMnJEfFgjWECHyY3jXlzVgBGlREyZ5NdoofWHF/jrPL75HIciwGHRcRt5UzzJ+RkmbfVGacNTG9n45UW2cnImq+2txoYSGosOfMU8B1yio/3S5fwW42aok5+iXdjTH1RzkF2AhnvweTx/v+AfSPi3na04Fa+a9Yl545cjjyRvjgi3iyfoZki4mm3fNmQV+lP/zlwZUSsQrZ0zUTOUSXg2XqiyyJ1Sf+U9MlyMPgTuYzLP4C1Je0CLNxIvOpq/aokXiuS00tcRU7+2jizPIWcssOJ1yDV+DLoYx87mBwWb23SaFkun/lnydGDo8lj116SFiktzmOgM61M3RjT+JQk6IFyrN+VrO/9E3BNRNwLrW/BLcfHxnfNPsAxZKnLdsBPlHPnjYmIp8vj1/Y6OfmyjilNz6+RrV5ExOiI2At4hTJZaV2xRcSfyckJr5X0uxLTHmRdxbpksfNO8OFBpZYPbeVxNyAPLtMAd0XEPyTNL+lHlETMul+lK2klSZtI2kHSAvBh180kZX8bI2kx8iz+ujpjHqoayW55raclZ0K/PSLeK8epPcnRct+emGNqVml9mrT8fW5EzE2OyDxA0vmShrXhJLaRpG4KvBwRV0bE8eTr9jq5luNSLX7MAXG3o3WUcm6v/YCLyEV97ydHw2wYEY/VVLxaLW6eATiWnFV834g4rpOxNKs0qe9AdjkuFxGvSDoOeDsi9qg1OOsXSZOTn4O/kF8QI4G/Ar+vnpBIOpectfzeWgId4krr0oyRcz7NRSYKXyBX3zgmyghCSbNExHOdGPTQjTENhMryPuXvEcA3I+KwFj/GlBHx33L/V5EnzDcAB0fEXeU2i0XEfa183IFy8mUdVc501iSHz69IFl/eEBEH1n3gkDRDRLxc/l6aXOh1OuA7EXF+nfUB1ccuB+FnyC6HJcm1Jl8kFyNfphyAuqLmw/pWqU1ZD1goIo4sNTJLkrWGcwJ7Rq7NtzqwRUR8rc6YhzJJHwc2BH4dEa+UbasCm5CTcV4dEcd08jjVjTGNT6U04iPHoB4nuRuSo9xbdoyStDlZW7YA2SV7KtkyuBRwMzn32UuterwJ5eTLalHOTqYi61ce6+3D2qE4Gl+A65BLCM1IDun/Ybl+F2D+0sRfm0rB9f7kOn9HkwMVlicPzvcD10bEDfIcUIOGcuj948D5EbFp2TYlsDgwT0ScV7Z9HvhbdMk0J0OZpG3IE69tIuJM5cLjXyWnKfh6RHS8NrUbY+oRXyPhmpQse5g0eiyOXTnWfgeYJiIOaHEMI8iRn6sDB0ZZ11I5t+QxwOURcXArH3NCOPkyAyT9k5wr51jg+oj4kaS5I+Lxym1qObusHNjmIrumlomyvl83nfFa/1QS6i8Ch5MjfneKiJvL9U6iayJpJuB35LQ4O0XE7SrratbVqtyNMfWIbwVyJOM7ZMv83yLi3HJdY1+fhlzIeuUYu8RPK2NYiayL/AzZMngQecy8GdgkIh7thtcKXHBvEzGNHUG0Mlls/zQwLXBEuclhkj4szqwryakcKFYgp7p4vbSOAAyXtFM567NBQGPnsBtRagwvi4hFyFnAL5Z0ZXl/xzXq0dooIl6MiEZd5Z8l/aZxwlPXF3c3xiRp9tJtDlnLeylZBnEbsIZybsSqg4BD2pF4AUTEDRFxBNkqeDxZmnEX2er1aEkCa0+8wC1fNpGqtCbNRi7ufTc5U/SvIuJoSWsB+0fECrUGWiFpJNnd+NMoU0mUJvxPRcSWtQZn/SbpRHLNu8eBF8j52V4n50XaMyKeqzE8K0ryu0BE/LtbWk26JaYy8GcvclT4dBGxftk+E7A7MA+wa0S8q5xt/g/kCiadmphWwDLA6Oii+c/AyZdNpCrJ157k1Bd/Ib/8LiWXoVienLj0T93Q/VMOIpOSc+V8hVzrbwTwWbI5/TF3QXa/yn73HXIf24mcp20UWeP1rcpt/X5a15I0WUmqFiXrTr9H9iB8LyJeUi6LdTywQiPhkTRt1DilUDdx8mUTLeVak7eTNV5flrQs8GlgBuAfEXFVrQH2QTkSc12yyP7JiLjJX9SDi6QfAA9FxJnl8tzkHERHRcSltQZn1gRJtwN/jYjdy+XPkfNpLUwem6YjZ5X/vSpTTVgaVncAZnWJiCclbQb8SNINwAER8evqbbqqmTpr1KJ0OX5kBnsnXt1P0ieAe8v+dCtwVCnn+kPk2qGTAe/VGaNZP6wP/E7SI8BeEXG2pOuBzYG9yZPa3wM48fpfbvmyiV4pgN6C7AL6gCzWfLZbEpqeCWCl62pY5Jpus0dZLsO6UxnU8UngFGDOiPiXpI3Jue5WAO4DZouIteqL0qw5lWPPFuSxczlyse+dImK0pDmAdyMnh629bKMbOfkyKyTNCGwPHBkRtbVA9Nba1lcCVv4+D9gqesyrY92lJPnbkevc/ZKcxX4YMDfwPrlszMv+srJuVjn5+xLZwrUqOVn2nsC+5FQSW0fEf2sMs+u529GsiJz9+KdQb7FzJalalmwVuSUibuxxMwEhaS/gOide3Utl2RNyMeQzyTmQdgFWK5evqib7Trysm1VOAkeSNV9vleL7wyVNAWxMDgZy8jUOnufLrBd1JV4au9DyF4FDgOmBv5RpJj5Uhk2PBL4I/KrTcVpzJE0HfKHMF3cWsGxE/Cki1iPXNN0f+FljzjmzQeQq4LOSNq/M2zUbWf/1QmU+O+uFux3NupCkvwDfImuCloiI3SStSS6cfUO5zQnAORFxRY2h2jiUloBdyO6ZZ4GVyVqY/5brZybna7q5mwZ3mPWksbPUi2y4ETlFyqnk2rJ3ActHxJI1hjlouNvRrIuUFpDJgevIodpfI6eVANiRrKe4QdK0ZI2QE68uVZKpt4EjJQ0nJ3s8GbhI0pnARsBSUdYNdeJlXa6xfx5BroE7BXnyt4hy4feXyNZ6L43VBDd1m3WBxhIyETGmtIq8DVwEXFGa8DciW0h+U273GjkTunU55eLsf41cOPtMcpLc44HvkFNOeAkh63qlyH4+4HPk/nsWsL6kM4CpIuJ24IlyWyde4+GWL7MuImlz4M2I+Kmkp4DDy/xQkGunfTjM2we47lXpolkB2JbSehkR50i6AFgFeC0ibinb3eplg8HMwCkR8ffSmns78AVgZ0m3RcST9YY3eLjmy6xmjSb6clZ5CPAxsnvxN8CTwHzAf0oXlg0ikk4Cro6IMyRNERFvKxfTHhERT5TbuNbLulbl+LQuORficsAe5Oz1b5bJgWeKiKe9LzfPyZdZl5B0BZl0vQ9MBiwNXAtcGhGP+sA2eFRGL/6AbC3YOyLeKNcdAfwrItxtbF2tx3yCNwIHAQuQ9YoPAqeTi1Z7Bvt+crejWRcoi9BOHRGNecbmBeYFNgDmkHRURLxQZ4w2fo0vq8ZUJaUe5vvA2pJeA94hpwdZosYwzZo1CfCBpE2BlyPiSgBJ5wLfJlvnv0ZOm2L94JYvsy5QuqIuJwuyfxUR70laFDiUHNJ9TkScUWeM1jxJ+5HJ9N6SVgI2JZPpV4FzI+ICjwizbtaYHFjSCHJOr3mBG4CDI+KucpvFIuK+OuMcrJx8mdWkUpQ9Nzlse0ZgKzLZugXYEjiqbF86Ir5VW7DWL5JGAScBw4FdI+K6sn0K1+7ZYFAG/3yc7GYcTc7ntSewFHAz8MuyKogNgLsdzWpQSbzmBM4A3iAL608DngM2JIdyXwHcRM7xZYNAWWplNLCkpK2ACyTdCuwWEQ+4ds8GiQvJFtvVgdtKorWfpCWBY4APgINrjG9Qc8uXWY0knUhOqPpP4LfA48C0wJHAxeQUBYtHxI/qitGaJ2kRcjLVf0TEg2XbgmS3zY0RsWWd8Zn1R+kyXw74DLl00EHAX8iWr008EGjg3PJlVhNJs5KJ1vlkorVpRNwv6XYy4ToHOE/ShXXGaeNWlghaJCL+SnbRbAIsJuka4DbgBeAC8ovLs3/boFGWMrtB0jBgM+Dn5aoLS+I1SV3r4A52Tr7MahIRz0raFpgaeA2YrkxR8DRZL9S4nb+ou9vqwJckLUuO/hpNjgDbCliPXJ/zyoh4ubQS+P20QaVMJXGapNPJlt3Rjavqi2pwc7ejWReQtDPwZWB64NqI+K6b8wcHSbOQCdY6wFRkrd4lwEJkwfL7wCVleRa/p2bm5MusG0iaHFicTL6uKzNK+4u6y1UGThxMDsWfnqzbe49chuX2ym39fpoZ4OTLrCv5i3rwKBPiXhMRC5T17j5NTkA5N3ByRBxfa4Bm1nUmGf9NzKzTnHgNKpMAj5YJJ9+LiL8DRwCPAX+GTKbrDNDMuouTLzOzCRARj5CrE+wvaYfShbwm8EpEPF5u42TazD7k0Y5mZgNU5vUaBvwV+A85H9KdwF3AN8ptPBzfzD7CNV9mZv3QmKdL0q7Al8jh9vcC/yUnx50UeDMiXnfiZWa9cfJlZtZPkqYB7gFGkes3LghsDVxeJsc1M+uTux3NzPpvZnKJlRdLy9ZTkmYDNpJ0RUS8Vm94ZtbNXHBvZtaEsvoAkhYCliTn8vq9pFXLTYYBUzjxMrPxcfJlZtaESu3WfuXy5sBNwG6SbgO2A34EYxM1M7PeuNvRzKxJktYkC+qfKZvOBE4HFgYeiYhnygS5LrI3sz45+TIza97MwBeA9yQ9GBHPle0vNG7gOb3MbHzcNG5mNg6SJi2/1wReJVu61gf+ImknST6JNbN+8VQTZmZ9aKyxWUYy3ghcCjwALAIsACwE3BMRG9cYppkNMk6+zMz6UEm+vgP8NyJ+JWlG4OPApsDBwJiIeNETqppZs9ztaGbWh5J4zQl8F1ivbHspIv4KzA58LSJeLNudeJlZU5x8mZmNQ0Q8CWwOTCvpFknbSPo4MBK4ELKFrM4YzWxwcbejmVkTSuH9lsCPyfUcfxkRh9UblZkNRk6+zMz6QdIMwLbANsDfgW9ExHu1BmVmg4qTLzOzAZD0CWC1iDi67ljMbHBx8mVmZmbWQS64NzMzM+sgJ19mZmZmHeTky8zMzKyDnHyZmZmZdZCTLzMzM7MOcvJlZmZm1kH/DyxbF/xledlzAAAAAElFTkSuQmCC",
      "text/plain": [
       "<Figure size 720x360 with 1 Axes>"
      ]
     },
     "metadata": {
      "needs_background": "light"
     },
     "output_type": "display_data"
    }
   ],
   "source": [
    "#draw a chart to show the missing value in titles_df\n",
    "plt.figure(figsize=(10, 5))\n",
    "plt.title('The percentage of missing value in titles_df')\n",
    "sns.barplot(x=missing_value_titles_df.index, y='The_percentage_of_missing_value', data=missing_value_titles_df)\n",
    "plt.xticks(rotation=60)\n",
    "plt.show()"
   ]
  },
  {
   "cell_type": "code",
=======
>>>>>>> ae2281c98dcff017c6e084b225d71bd004473d45
   "execution_count": 17,
   "metadata": {},
   "outputs": [
    {
     "data": {
      "text/html": [
       "<div>\n",
       "<style scoped>\n",
       "    .dataframe tbody tr th:only-of-type {\n",
       "        vertical-align: middle;\n",
       "    }\n",
       "\n",
       "    .dataframe tbody tr th {\n",
       "        vertical-align: top;\n",
       "    }\n",
       "\n",
       "    .dataframe thead th {\n",
       "        text-align: right;\n",
       "    }\n",
       "</style>\n",
       "<table border=\"1\" class=\"dataframe\">\n",
       "  <thead>\n",
       "    <tr style=\"text-align: right;\">\n",
       "      <th></th>\n",
       "      <th>The_percentage_of_missing_value</th>\n",
       "    </tr>\n",
       "  </thead>\n",
       "  <tbody>\n",
       "    <tr>\n",
       "      <th>person_id</th>\n",
       "      <td>0.00</td>\n",
       "    </tr>\n",
       "    <tr>\n",
       "      <th>id</th>\n",
       "      <td>0.00</td>\n",
       "    </tr>\n",
       "    <tr>\n",
       "      <th>name</th>\n",
       "      <td>0.00</td>\n",
       "    </tr>\n",
       "    <tr>\n",
       "      <th>character</th>\n",
       "      <td>12.56</td>\n",
       "    </tr>\n",
       "    <tr>\n",
       "      <th>role</th>\n",
       "      <td>0.00</td>\n",
       "    </tr>\n",
       "  </tbody>\n",
       "</table>\n",
       "</div>"
      ],
      "text/plain": [
       "           The_percentage_of_missing_value\n",
       "person_id                             0.00\n",
       "id                                    0.00\n",
       "name                                  0.00\n",
       "character                            12.56\n",
       "role                                  0.00"
      ]
     },
     "execution_count": 17,
     "metadata": {},
     "output_type": "execute_result"
    }
   ],
   "source": [
    "missing_value_credits_df = pd.DataFrame(\n",
    "    {'The_percentage_of_missing_value': (credits_df.isnull().sum()/credits_df.shape[0]) * 100}\n",
    ")\n",
    "missing_value_credits_df.round(2)"
   ]
  },
  {
   "cell_type": "code",
   "execution_count": 18,
   "metadata": {},
   "outputs": [
    {
     "data": {
      "image/png": "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",
      "text/plain": [
       "<Figure size 720x360 with 1 Axes>"
      ]
     },
     "metadata": {
      "needs_background": "light"
     },
     "output_type": "display_data"
    }
   ],
   "source": [
    "#draw a chart to show the missing value\n",
    "plt.figure(figsize=(10, 5))\n",
    "plt.title('The percentage of missing value in credits_df')\n",
    "sns.barplot(x=missing_value_credits_df.index, y='The_percentage_of_missing_value', data=missing_value_credits_df)\n",
    "plt.xticks(rotation=60)\n",
    "plt.show()"
   ]
  },
  {
   "attachments": {},
   "cell_type": "markdown",
   "metadata": {},
   "source": [
    "### With each categorical column, how are values distributed?"
   ]
  },
  {
   "cell_type": "code",
<<<<<<< HEAD
   "execution_count": 19,
=======
   "execution_count": 18,
>>>>>>> ae2281c98dcff017c6e084b225d71bd004473d45
   "metadata": {},
   "outputs": [
    {
     "data": {
      "text/html": [
       "<div>\n",
       "<style scoped>\n",
       "    .dataframe tbody tr th:only-of-type {\n",
       "        vertical-align: middle;\n",
       "    }\n",
       "\n",
       "    .dataframe tbody tr th {\n",
       "        vertical-align: top;\n",
       "    }\n",
       "\n",
       "    .dataframe thead th {\n",
       "        text-align: right;\n",
       "    }\n",
       "</style>\n",
       "<table border=\"1\" class=\"dataframe\">\n",
       "  <thead>\n",
       "    <tr style=\"text-align: right;\">\n",
       "      <th></th>\n",
       "      <th>person_id</th>\n",
       "      <th>id</th>\n",
       "      <th>name</th>\n",
       "      <th>character</th>\n",
       "      <th>role</th>\n",
       "    </tr>\n",
       "  </thead>\n",
       "  <tbody>\n",
       "    <tr>\n",
       "      <th>0</th>\n",
       "      <td>3748</td>\n",
       "      <td>tm84618</td>\n",
       "      <td>Robert De Niro</td>\n",
       "      <td>Travis Bickle</td>\n",
       "      <td>ACTOR</td>\n",
       "    </tr>\n",
       "    <tr>\n",
       "      <th>1</th>\n",
       "      <td>14658</td>\n",
       "      <td>tm84618</td>\n",
       "      <td>Jodie Foster</td>\n",
       "      <td>Iris Steensma</td>\n",
       "      <td>ACTOR</td>\n",
       "    </tr>\n",
       "    <tr>\n",
       "      <th>2</th>\n",
       "      <td>7064</td>\n",
       "      <td>tm84618</td>\n",
       "      <td>Albert Brooks</td>\n",
       "      <td>Tom</td>\n",
       "      <td>ACTOR</td>\n",
       "    </tr>\n",
       "    <tr>\n",
       "      <th>3</th>\n",
       "      <td>3739</td>\n",
       "      <td>tm84618</td>\n",
       "      <td>Harvey Keitel</td>\n",
       "      <td>Matthew 'Sport' Higgins</td>\n",
       "      <td>ACTOR</td>\n",
       "    </tr>\n",
       "    <tr>\n",
       "      <th>4</th>\n",
       "      <td>48933</td>\n",
       "      <td>tm84618</td>\n",
       "      <td>Cybill Shepherd</td>\n",
       "      <td>Betsy</td>\n",
       "      <td>ACTOR</td>\n",
       "    </tr>\n",
       "  </tbody>\n",
       "</table>\n",
       "</div>"
      ],
      "text/plain": [
       "  person_id       id             name                character   role\n",
       "0      3748  tm84618   Robert De Niro            Travis Bickle  ACTOR\n",
       "1     14658  tm84618     Jodie Foster            Iris Steensma  ACTOR\n",
       "2      7064  tm84618    Albert Brooks                      Tom  ACTOR\n",
       "3      3739  tm84618    Harvey Keitel  Matthew 'Sport' Higgins  ACTOR\n",
       "4     48933  tm84618  Cybill Shepherd                    Betsy  ACTOR"
      ]
     },
<<<<<<< HEAD
     "execution_count": 19,
=======
     "execution_count": 18,
>>>>>>> ae2281c98dcff017c6e084b225d71bd004473d45
     "metadata": {},
     "output_type": "execute_result"
    }
   ],
   "source": [
    "credits_nonnumeric_df = credits_df.select_dtypes(exclude=[np.number])\n",
    "credits_nonnumeric_df.head()"
   ]
  },
  {
   "cell_type": "code",
<<<<<<< HEAD
   "execution_count": 20,
=======
   "execution_count": 19,
>>>>>>> ae2281c98dcff017c6e084b225d71bd004473d45
   "metadata": {},
   "outputs": [
    {
     "data": {
      "text/html": [
       "<div>\n",
       "<style scoped>\n",
       "    .dataframe tbody tr th:only-of-type {\n",
       "        vertical-align: middle;\n",
       "    }\n",
       "\n",
       "    .dataframe tbody tr th {\n",
       "        vertical-align: top;\n",
       "    }\n",
       "\n",
       "    .dataframe thead th {\n",
       "        text-align: right;\n",
       "    }\n",
       "</style>\n",
       "<table border=\"1\" class=\"dataframe\">\n",
       "  <thead>\n",
       "    <tr style=\"text-align: right;\">\n",
       "      <th></th>\n",
       "      <th>person_id</th>\n",
       "      <th>id</th>\n",
       "      <th>name</th>\n",
       "      <th>character</th>\n",
       "      <th>role</th>\n",
       "    </tr>\n",
       "  </thead>\n",
       "  <tbody>\n",
       "    <tr>\n",
       "      <th>missing_percentage</th>\n",
       "      <td>0.0</td>\n",
       "      <td>0.0</td>\n",
       "      <td>0.0</td>\n",
       "      <td>12.56025</td>\n",
       "      <td>0.0</td>\n",
       "    </tr>\n",
       "    <tr>\n",
       "      <th>num_values</th>\n",
       "      <td>68029</td>\n",
       "      <td>68029</td>\n",
       "      <td>68029</td>\n",
       "      <td>68029</td>\n",
       "      <td>68029</td>\n",
       "    </tr>\n",
       "    <tr>\n",
       "      <th>value_counts</th>\n",
       "      <td>38636      25\n",
       "48004      25\n",
       "38632      23\n",
       "138 ...</td>\n",
       "      <td>tm32982     208\n",
       "tm244149    174\n",
       "tm39888     16...</td>\n",
<<<<<<< HEAD
       "      <td>Boman Irani            25\n",
       "Kareena Kapoor Khan ...</td>\n",
=======
       "      <td>Kareena Kapoor Khan    25\n",
       "Boman Irani         ...</td>\n",
>>>>>>> ae2281c98dcff017c6e084b225d71bd004473d45
       "      <td>Self                      1950\n",
       "Himself        ...</td>\n",
       "      <td>ACTOR       73251\n",
       "DIRECTOR     4550\n",
       "dtype: int64</td>\n",
       "    </tr>\n",
       "  </tbody>\n",
       "</table>\n",
       "</div>"
      ],
      "text/plain": [
       "                                                            person_id  \\\n",
       "missing_percentage                                                0.0   \n",
       "num_values                                                      68029   \n",
       "value_counts        38636      25\n",
       "48004      25\n",
       "38632      23\n",
       "138 ...   \n",
       "\n",
       "                                                                   id  \\\n",
       "missing_percentage                                                0.0   \n",
       "num_values                                                      68029   \n",
       "value_counts        tm32982     208\n",
       "tm244149    174\n",
       "tm39888     16...   \n",
       "\n",
       "                                                                 name  \\\n",
       "missing_percentage                                                0.0   \n",
       "num_values                                                      68029   \n",
<<<<<<< HEAD
       "value_counts        Boman Irani            25\n",
       "Kareena Kapoor Khan ...   \n",
=======
       "value_counts        Kareena Kapoor Khan    25\n",
       "Boman Irani         ...   \n",
>>>>>>> ae2281c98dcff017c6e084b225d71bd004473d45
       "\n",
       "                                                            character  \\\n",
       "missing_percentage                                           12.56025   \n",
       "num_values                                                      68029   \n",
       "value_counts        Self                      1950\n",
       "Himself        ...   \n",
       "\n",
       "                                                                role  \n",
       "missing_percentage                                               0.0  \n",
       "num_values                                                     68029  \n",
       "value_counts        ACTOR       73251\n",
       "DIRECTOR     4550\n",
       "dtype: int64  "
      ]
     },
<<<<<<< HEAD
     "execution_count": 20,
=======
     "execution_count": 19,
>>>>>>> ae2281c98dcff017c6e084b225d71bd004473d45
     "metadata": {},
     "output_type": "execute_result"
    }
   ],
   "source": [
    "non_nummeric_col_info_credit = pd.DataFrame({\n",
    "     'missing_percentage': ((credits_nonnumeric_df.isnull().sum()/credits_nonnumeric_df.shape[0]) * 100),\n",
    "     'num_values': len(credits_nonnumeric_df.value_counts().keys()),\n",
    "     'value_counts': {'person_id': pd.Series(credits_nonnumeric_df['person_id'].value_counts().to_dict()), \\\n",
    "                      'id': pd.Series(credits_nonnumeric_df['id'].value_counts().to_dict()), \\\n",
    "                      'name': pd.Series(credits_nonnumeric_df['name'].value_counts().to_dict()), \\\n",
    "                      'character': pd.Series(credits_nonnumeric_df['character'].value_counts().to_dict()), \\\n",
    "                      'role': pd.Series(credits_nonnumeric_df['role'].value_counts().to_dict())}}).T\n",
    "non_nummeric_col_info_credit"
   ]
  },
  {
   "cell_type": "code",
   "execution_count": 21,
   "metadata": {},
   "outputs": [
    {
     "data": {
      "text/html": [
       "<div>\n",
       "<style scoped>\n",
       "    .dataframe tbody tr th:only-of-type {\n",
       "        vertical-align: middle;\n",
       "    }\n",
       "\n",
       "    .dataframe tbody tr th {\n",
       "        vertical-align: top;\n",
       "    }\n",
       "\n",
       "    .dataframe thead th {\n",
       "        text-align: right;\n",
       "    }\n",
       "</style>\n",
       "<table border=\"1\" class=\"dataframe\">\n",
       "  <thead>\n",
       "    <tr style=\"text-align: right;\">\n",
       "      <th></th>\n",
       "      <th>id</th>\n",
       "      <th>title</th>\n",
       "      <th>type</th>\n",
       "      <th>description</th>\n",
       "      <th>release_year</th>\n",
       "      <th>age_certification</th>\n",
       "      <th>genres</th>\n",
       "      <th>production_countries</th>\n",
       "      <th>imdb_id</th>\n",
       "    </tr>\n",
       "  </thead>\n",
       "  <tbody>\n",
       "    <tr>\n",
       "      <th>0</th>\n",
       "      <td>ts300399</td>\n",
       "      <td>Five Came Back: The Reference Films</td>\n",
       "      <td>SHOW</td>\n",
       "      <td>This collection includes 12 World War II-era p...</td>\n",
       "      <td>1945-01-01</td>\n",
       "      <td>TV-MA</td>\n",
       "      <td>['documentation']</td>\n",
       "      <td>['US']</td>\n",
       "      <td>NaN</td>\n",
       "    </tr>\n",
       "    <tr>\n",
       "      <th>1</th>\n",
       "      <td>tm84618</td>\n",
       "      <td>Taxi Driver</td>\n",
       "      <td>MOVIE</td>\n",
       "      <td>A mentally unstable Vietnam War veteran works ...</td>\n",
       "      <td>1976-01-01</td>\n",
       "      <td>R</td>\n",
       "      <td>['drama', 'crime']</td>\n",
       "      <td>['US']</td>\n",
       "      <td>tt0075314</td>\n",
       "    </tr>\n",
       "    <tr>\n",
       "      <th>2</th>\n",
       "      <td>tm154986</td>\n",
       "      <td>Deliverance</td>\n",
       "      <td>MOVIE</td>\n",
       "      <td>Intent on seeing the Cahulawassee River before...</td>\n",
       "      <td>1972-01-01</td>\n",
       "      <td>R</td>\n",
       "      <td>['drama', 'action', 'thriller', 'european']</td>\n",
       "      <td>['US']</td>\n",
       "      <td>tt0068473</td>\n",
       "    </tr>\n",
       "    <tr>\n",
       "      <th>3</th>\n",
       "      <td>tm127384</td>\n",
       "      <td>Monty Python and the Holy Grail</td>\n",
       "      <td>MOVIE</td>\n",
       "      <td>King Arthur, accompanied by his squire, recrui...</td>\n",
       "      <td>1975-01-01</td>\n",
       "      <td>PG</td>\n",
       "      <td>['fantasy', 'action', 'comedy']</td>\n",
       "      <td>['GB']</td>\n",
       "      <td>tt0071853</td>\n",
       "    </tr>\n",
       "    <tr>\n",
       "      <th>4</th>\n",
       "      <td>tm120801</td>\n",
       "      <td>The Dirty Dozen</td>\n",
       "      <td>MOVIE</td>\n",
       "      <td>12 American military prisoners in World War II...</td>\n",
       "      <td>1967-01-01</td>\n",
       "      <td>NaN</td>\n",
       "      <td>['war', 'action']</td>\n",
       "      <td>['GB', 'US']</td>\n",
       "      <td>tt0061578</td>\n",
       "    </tr>\n",
       "  </tbody>\n",
       "</table>\n",
       "</div>"
      ],
      "text/plain": [
       "         id                                title   type  \\\n",
       "0  ts300399  Five Came Back: The Reference Films   SHOW   \n",
       "1   tm84618                          Taxi Driver  MOVIE   \n",
       "2  tm154986                          Deliverance  MOVIE   \n",
       "3  tm127384      Monty Python and the Holy Grail  MOVIE   \n",
       "4  tm120801                      The Dirty Dozen  MOVIE   \n",
       "\n",
       "                                         description release_year  \\\n",
       "0  This collection includes 12 World War II-era p...   1945-01-01   \n",
       "1  A mentally unstable Vietnam War veteran works ...   1976-01-01   \n",
       "2  Intent on seeing the Cahulawassee River before...   1972-01-01   \n",
       "3  King Arthur, accompanied by his squire, recrui...   1975-01-01   \n",
       "4  12 American military prisoners in World War II...   1967-01-01   \n",
       "\n",
       "  age_certification                                       genres  \\\n",
       "0             TV-MA                            ['documentation']   \n",
       "1                 R                           ['drama', 'crime']   \n",
       "2                 R  ['drama', 'action', 'thriller', 'european']   \n",
       "3                PG              ['fantasy', 'action', 'comedy']   \n",
       "4               NaN                            ['war', 'action']   \n",
       "\n",
       "  production_countries    imdb_id  \n",
       "0               ['US']        NaN  \n",
       "1               ['US']  tt0075314  \n",
       "2               ['US']  tt0068473  \n",
       "3               ['GB']  tt0071853  \n",
       "4         ['GB', 'US']  tt0061578  "
      ]
     },
     "execution_count": 21,
     "metadata": {},
     "output_type": "execute_result"
    }
   ],
   "source": [
    "titles_nonnumeric_df = titles_df.select_dtypes(exclude=[np.number])\n",
    "titles_nonnumeric_df.head()"
   ]
  },
  {
   "cell_type": "code",
<<<<<<< HEAD
   "execution_count": 22,
   "metadata": {},
   "outputs": [
    {
     "data": {
      "text/html": [
       "<div>\n",
       "<style scoped>\n",
       "    .dataframe tbody tr th:only-of-type {\n",
       "        vertical-align: middle;\n",
       "    }\n",
       "\n",
       "    .dataframe tbody tr th {\n",
       "        vertical-align: top;\n",
       "    }\n",
       "\n",
       "    .dataframe thead th {\n",
       "        text-align: right;\n",
       "    }\n",
       "</style>\n",
       "<table border=\"1\" class=\"dataframe\">\n",
       "  <thead>\n",
       "    <tr style=\"text-align: right;\">\n",
       "      <th></th>\n",
       "      <th>id</th>\n",
       "      <th>title</th>\n",
       "      <th>type</th>\n",
       "      <th>description</th>\n",
       "      <th>release_year</th>\n",
       "      <th>age_certification</th>\n",
       "      <th>genres</th>\n",
       "      <th>production_countries</th>\n",
       "      <th>imdb_id</th>\n",
       "    </tr>\n",
       "  </thead>\n",
       "  <tbody>\n",
       "    <tr>\n",
       "      <th>missing_percentage</th>\n",
       "      <td>0.0</td>\n",
       "      <td>0.017094</td>\n",
       "      <td>0.0</td>\n",
       "      <td>0.307692</td>\n",
       "      <td>0.0</td>\n",
       "      <td>44.769231</td>\n",
       "      <td>0.0</td>\n",
       "      <td>0.0</td>\n",
       "      <td>6.888889</td>\n",
       "    </tr>\n",
       "    <tr>\n",
       "      <th>num_values</th>\n",
       "      <td>3065</td>\n",
       "      <td>3065</td>\n",
       "      <td>3065</td>\n",
       "      <td>3065</td>\n",
       "      <td>3065</td>\n",
       "      <td>3065</td>\n",
       "      <td>3065</td>\n",
       "      <td>3065</td>\n",
       "      <td>3065</td>\n",
       "    </tr>\n",
       "    <tr>\n",
       "      <th>value_counts</th>\n",
       "      <td>ts300399    1\n",
       "tm912400    1\n",
       "ts89361     1\n",
       "tm49...</td>\n",
       "      <td>The Gift                                     3...</td>\n",
       "      <td>MOVIE    3744\n",
       "SHOW     2106\n",
       "dtype: int64</td>\n",
       "      <td>Five families struggle with the ups and downs ...</td>\n",
       "      <td>2019    836\n",
       "2020    814\n",
       "2021    787\n",
       "2018    77...</td>\n",
       "      <td>TV-MA    883\n",
       "R        556\n",
       "TV-14    474\n",
       "PG-13  ...</td>\n",
       "      <td>['comedy']                                    ...</td>\n",
       "      <td>['US']                1959\n",
       "['IN']             ...</td>\n",
       "      <td>tt0075314     1\n",
       "tt13495586    1\n",
       "tt7967412     ...</td>\n",
       "    </tr>\n",
       "  </tbody>\n",
       "</table>\n",
       "</div>"
      ],
      "text/plain": [
       "                                                                   id  \\\n",
       "missing_percentage                                                0.0   \n",
       "num_values                                                       3065   \n",
       "value_counts        ts300399    1\n",
       "tm912400    1\n",
       "ts89361     1\n",
       "tm49...   \n",
       "\n",
       "                                                                title  \\\n",
       "missing_percentage                                           0.017094   \n",
       "num_values                                                       3065   \n",
       "value_counts        The Gift                                     3...   \n",
       "\n",
       "                                                        type  \\\n",
       "missing_percentage                                       0.0   \n",
       "num_values                                              3065   \n",
       "value_counts        MOVIE    3744\n",
       "SHOW     2106\n",
       "dtype: int64   \n",
       "\n",
       "                                                          description  \\\n",
       "missing_percentage                                           0.307692   \n",
       "num_values                                                       3065   \n",
       "value_counts        Five families struggle with the ups and downs ...   \n",
       "\n",
       "                                                         release_year  \\\n",
       "missing_percentage                                                0.0   \n",
       "num_values                                                       3065   \n",
       "value_counts        2019    836\n",
       "2020    814\n",
       "2021    787\n",
       "2018    77...   \n",
       "\n",
       "                                                    age_certification  \\\n",
       "missing_percentage                                          44.769231   \n",
       "num_values                                                       3065   \n",
       "value_counts        TV-MA    883\n",
       "R        556\n",
       "TV-14    474\n",
       "PG-13  ...   \n",
       "\n",
       "                                                               genres  \\\n",
       "missing_percentage                                                0.0   \n",
       "num_values                                                       3065   \n",
       "value_counts        ['comedy']                                    ...   \n",
       "\n",
       "                                                 production_countries  \\\n",
       "missing_percentage                                                0.0   \n",
       "num_values                                                       3065   \n",
       "value_counts        ['US']                1959\n",
       "['IN']             ...   \n",
       "\n",
       "                                                              imdb_id  \n",
       "missing_percentage                                           6.888889  \n",
       "num_values                                                       3065  \n",
       "value_counts        tt0075314     1\n",
       "tt13495586    1\n",
       "tt7967412     ...  "
      ]
     },
     "execution_count": 22,
     "metadata": {},
     "output_type": "execute_result"
    }
   ],
   "source": [
    "non_nummeric_col_info_title = pd.DataFrame({\n",
    "     'missing_percentage': ((titles_nonnumeric_df.isnull().sum()/titles_nonnumeric_df.shape[0]) * 100),\n",
    "     'num_values': len(titles_nonnumeric_df.value_counts().keys()),\n",
    "     'value_counts': {'id': pd.Series(titles_nonnumeric_df['id'].value_counts().to_dict()), \\\n",
    "                      'title': pd.Series(titles_nonnumeric_df['title'].value_counts().to_dict()), \\\n",
    "                      'type': pd.Series(titles_nonnumeric_df['type'].value_counts().to_dict()), \\\n",
    "                      'description': pd.Series(titles_nonnumeric_df['description'].value_counts().to_dict()), \\\n",
    "                      'release_year': pd.Series(titles_nonnumeric_df['release_year'].dt.year.value_counts().to_dict()), \\\n",
    "                      'age_certification': pd.Series(titles_nonnumeric_df['age_certification'].value_counts().to_dict()), \\\n",
    "                         'genres': pd.Series(titles_nonnumeric_df['genres'].value_counts().to_dict()), \\\n",
    "                         'production_countries': pd.Series(titles_nonnumeric_df['production_countries'].value_counts().to_dict()), \\\n",
    "                         'imdb_id': pd.Series(titles_nonnumeric_df['imdb_id'].value_counts().to_dict())}}).T\n",
    "non_nummeric_col_info_title"
   ]
  },
  {
   "attachments": {},
   "cell_type": "markdown",
   "metadata": {},
   "source": [
    "### Are they abnormal?\n"
   ]
  },
  {
   "attachments": {},
   "cell_type": "markdown",
   "metadata": {},
   "source": [
    "\n",
    "* Check the correlation of relationship between dataset\n"
   ]
  },
  {
   "cell_type": "code",
   "execution_count": 23,
=======
   "execution_count": 20,
>>>>>>> ae2281c98dcff017c6e084b225d71bd004473d45
   "metadata": {},
   "outputs": [
    {
     "name": "stdout",
     "output_type": "stream",
     "text": [
      "The number of id not in titles_df: 0\n"
     ]
    }
   ],
   "source": [
    "#check if the id in credits_df is in titles_df\n",
    "id_not_in_titles_df = credits_df[~credits_df['id'].isin(titles_df['id'])]\n",
    "print('The number of id not in titles_df:', id_not_in_titles_df.shape[0])"
   ]
  },
  {
   "attachments": {},
   "cell_type": "markdown",
   "metadata": {},
   "source": [
    "Based on the correlation, we can assume that the data are not abnormal"
   ]
  },
  {
   "attachments": {},
   "cell_type": "markdown",
   "metadata": {},
   "source": [
    "# <b> 5. Asking meaningful questions <a class=\"anchor\" id=\"5\"></a>"
   ]
  },
  {
   "attachments": {},
   "cell_type": "markdown",
   "metadata": {},
   "source": [
    "### a. Which TV shows having one season have the highest and lowest IMDb score and popularity? \n",
    "Answer this question will help Netflix know which TV shows that need to be produced more seasons, should they continue to buy the show's copyrights or not. This will help Netflix avoid losing money on TV shows that have low popularity and score."
   ]
  },
  {
   "attachments": {},
   "cell_type": "markdown",
   "metadata": {},
   "source": [
    "### b. Which actors/actresses have acted in the most genres in Netflix movies and TV shows? \n",
    "Answer this question will help us to know which actor/actress is the most versatile actor/actress. This will help Netflix know which actor/actress they should hire to play in their movies and TV shows."
   ]
  },
  {
   "attachments": {},
   "cell_type": "markdown",
   "metadata": {},
   "source": [
    "### c. The most released genres in 2020, 2021 and 2022?\n",
    "Answer this question will help us to know which genres are released the most in the following years. This will help Netflix know which genres they should produce more movies and TV shows"
   ]
  },
  {
   "attachments": {},
   "cell_type": "markdown",
   "metadata": {},
   "source": [
    "### d. The distribution of production countries of movies and TV shows on Netflix?\n",
    "Answer this question will help us to know which countries are the most popular in producing movies and TV shows. This will help Netflix know which countries they should cooperate with to produce more movies and TV shows."
   ]
  },
  {
   "attachments": {},
   "cell_type": "markdown",
   "metadata": {},
   "source": [
    "# <b> 6. Preprocessing and analyzing data to answer each question <a class=\"anchor\" id=\"6\"></a>"
   ]
  },
  {
   "attachments": {},
   "cell_type": "markdown",
   "metadata": {},
   "source": [
    "## Q1: Which TV shows having one season have the highest and lowest IMDb score and popularity? <a class=\"anchor\" id=\"q1\"></a>\n",
    "<br/> This question will need to preprocess the data:\n",
    "* Fill the TV shows having null value in `seasons` column with 1.\n"
   ]
  },
  {
   "cell_type": "code",
<<<<<<< HEAD
   "execution_count": 24,
   "metadata": {},
   "outputs": [
    {
     "data": {
      "text/plain": [
       "0    1.0\n",
       "1    NaN\n",
       "2    NaN\n",
       "3    NaN\n",
       "4    NaN\n",
       "5    4.0\n",
       "6    NaN\n",
       "7    NaN\n",
       "8    NaN\n",
       "9    NaN\n",
       "Name: seasons, dtype: float64"
      ]
     },
     "execution_count": 24,
     "metadata": {},
     "output_type": "execute_result"
    }
   ],
   "source": [
    "titles_df['seasons'].head(10)"
   ]
  },
  {
   "attachments": {},
   "cell_type": "markdown",
   "metadata": {},
   "source": [
    "Most value in `seasons` column is Nan, it means that the TV shows have only 1 season. So we fill the Nan value with 1."
   ]
  },
  {
   "cell_type": "code",
   "execution_count": 25,
   "metadata": {},
   "outputs": [],
   "source": [
    "titles_df['seasons'] = titles_df['seasons'].fillna(1)"
   ]
  },
  {
   "attachments": {},
   "cell_type": "markdown",
   "metadata": {},
   "source": [
    "Because the proportion of missing values are less than 50%, we can fill the missing values with the mean value of the column."
   ]
  },
  {
   "cell_type": "code",
   "execution_count": 26,
=======
   "execution_count": 21,
>>>>>>> ae2281c98dcff017c6e084b225d71bd004473d45
   "metadata": {},
   "outputs": [],
   "source": [
    "titles_df['tmdb_popularity'] = titles_df['tmdb_popularity'].fillna(titles_df['tmdb_popularity'].mean())\n",
    "titles_df['imdb_score'] = titles_df['imdb_score'].fillna(titles_df['imdb_score'].mean())\n",
    "titles_df['imdb_votes'] = titles_df['imdb_votes'].fillna(titles_df['imdb_votes'].mean())\n",
    "titles_df['tmdb_score'] = titles_df['tmdb_score'].fillna(titles_df['tmdb_score'].mean()) "
   ]
  },
  {
   "attachments": {},
   "cell_type": "markdown",
   "metadata": {},
   "source": [
    "Analyzing data to answer this question:\n",
    "* Filter the data having seasons is 1 and type is TV Show\n",
    "* Sort the data by imdb_score and tmdb_popularity by highest to lowest and lowest to highest"
   ]
  },
  {
   "cell_type": "code",
<<<<<<< HEAD
   "execution_count": 27,
=======
   "execution_count": 22,
>>>>>>> ae2281c98dcff017c6e084b225d71bd004473d45
   "metadata": {},
   "outputs": [],
   "source": [
    "#Filter the data having seasons is 1 and type is TV Show\n",
    "show_df = titles_df[titles_df['type'] == 'SHOW']\n",
    "show_df= show_df[show_df['seasons'] == 1]\n",
    "#Sort the data by imdb_score and tmdb_popularity by highest to lowest and lowest to highest\n",
    "highest_show_imdb_score_df = show_df[['title', 'imdb_score']].sort_values(by='imdb_score', ascending=False).reset_index(drop=True)\n",
    "highest_show_tmdb_popularity_df = show_df[['title', 'tmdb_popularity']].sort_values(by='tmdb_popularity', ascending=False).reset_index(drop=True)\n",
    "lowest_show_imdb_score_df = show_df[['title', 'imdb_score']].sort_values(by='imdb_score', ascending=True).reset_index(drop=True)\n",
    "lowest_show_tmdb_popularity_df = show_df[['title', 'tmdb_popularity']].sort_values(by='tmdb_popularity', ascending=True).reset_index(drop=True)"
   ]
  },
  {
   "attachments": {},
   "cell_type": "markdown",
   "metadata": {},
   "source": [
    "Visualize the data to answer this question:"
   ]
  },
  {
   "cell_type": "code",
<<<<<<< HEAD
   "execution_count": 28,
   "metadata": {},
   "outputs": [
    {
=======
   "execution_count": 23,
   "metadata": {},
   "outputs": [
    {
     "name": "stderr",
     "output_type": "stream",
     "text": [
      "/home/lephu13502/miniconda3/envs/min_ds-env/lib/python3.8/site-packages/matplotlib/backends/backend_agg.py:240: RuntimeWarning: Glyph 47560 missing from current font.\n",
      "  font.set_text(s, 0.0, flags=flags)\n",
      "/home/lephu13502/miniconda3/envs/min_ds-env/lib/python3.8/site-packages/matplotlib/backends/backend_agg.py:240: RuntimeWarning: Glyph 48277 missing from current font.\n",
      "  font.set_text(s, 0.0, flags=flags)\n",
      "/home/lephu13502/miniconda3/envs/min_ds-env/lib/python3.8/site-packages/matplotlib/backends/backend_agg.py:240: RuntimeWarning: Glyph 48260 missing from current font.\n",
      "  font.set_text(s, 0.0, flags=flags)\n",
      "/home/lephu13502/miniconda3/envs/min_ds-env/lib/python3.8/site-packages/matplotlib/backends/backend_agg.py:240: RuntimeWarning: Glyph 49828 missing from current font.\n",
      "  font.set_text(s, 0.0, flags=flags)\n",
      "/home/lephu13502/miniconda3/envs/min_ds-env/lib/python3.8/site-packages/matplotlib/backends/backend_agg.py:240: RuntimeWarning: Glyph 53440 missing from current font.\n",
      "  font.set_text(s, 0.0, flags=flags)\n",
      "/home/lephu13502/miniconda3/envs/min_ds-env/lib/python3.8/site-packages/matplotlib/backends/backend_agg.py:240: RuntimeWarning: Glyph 50836 missing from current font.\n",
      "  font.set_text(s, 0.0, flags=flags)\n",
      "/home/lephu13502/miniconda3/envs/min_ds-env/lib/python3.8/site-packages/matplotlib/backends/backend_agg.py:203: RuntimeWarning: Glyph 47560 missing from current font.\n",
      "  font.set_text(s, 0, flags=flags)\n",
      "/home/lephu13502/miniconda3/envs/min_ds-env/lib/python3.8/site-packages/matplotlib/backends/backend_agg.py:203: RuntimeWarning: Glyph 48277 missing from current font.\n",
      "  font.set_text(s, 0, flags=flags)\n",
      "/home/lephu13502/miniconda3/envs/min_ds-env/lib/python3.8/site-packages/matplotlib/backends/backend_agg.py:203: RuntimeWarning: Glyph 48260 missing from current font.\n",
      "  font.set_text(s, 0, flags=flags)\n",
      "/home/lephu13502/miniconda3/envs/min_ds-env/lib/python3.8/site-packages/matplotlib/backends/backend_agg.py:203: RuntimeWarning: Glyph 49828 missing from current font.\n",
      "  font.set_text(s, 0, flags=flags)\n",
      "/home/lephu13502/miniconda3/envs/min_ds-env/lib/python3.8/site-packages/matplotlib/backends/backend_agg.py:203: RuntimeWarning: Glyph 53440 missing from current font.\n",
      "  font.set_text(s, 0, flags=flags)\n",
      "/home/lephu13502/miniconda3/envs/min_ds-env/lib/python3.8/site-packages/matplotlib/backends/backend_agg.py:203: RuntimeWarning: Glyph 50836 missing from current font.\n",
      "  font.set_text(s, 0, flags=flags)\n"
     ]
    },
    {
>>>>>>> ae2281c98dcff017c6e084b225d71bd004473d45
     "data": {
      "image/png": "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",
      "text/plain": [
       "<Figure size 1440x1440 with 4 Axes>"
      ]
     },
     "metadata": {
      "needs_background": "light"
     },
     "output_type": "display_data"
    }
   ],
   "source": [
    "#visualize horizontal bar chart\n",
    "fig, ax = plt.subplots(2, 2, figsize=(20, 20))\n",
    "sns.barplot(x='imdb_score', y='title', data=highest_show_imdb_score_df.head(10), ax=ax[0, 0])\n",
    "sns.barplot(x='tmdb_popularity', y='title', data=highest_show_tmdb_popularity_df.head(10), ax=ax[0, 1])\n",
    "sns.barplot(x='imdb_score', y='title', data=lowest_show_imdb_score_df.head(10), ax=ax[1, 0])\n",
    "sns.barplot(x='tmdb_popularity', y='title', data=lowest_show_tmdb_popularity_df.head(10), ax=ax[1, 1])\n",
    "ax[0, 0].set_title('Top 10 highest imdb score of TV show having 1 season')\n",
    "ax[0, 1].set_title('Top 10 highest tmdb popularity of TV show having 1 season')\n",
    "ax[1, 0].set_title('Top 10 lowest imdb score of TV show having 1 season')\n",
    "ax[1, 1].set_title('Top 10 lowest tmdb popularity of TV show having 1 season')\n",
    "#increase the space between subplots\n",
    "plt.subplots_adjust(wspace=0.6)\n"
   ]
  },
  {
   "attachments": {},
   "cell_type": "markdown",
   "metadata": {},
   "source": [
    "As we can see, the TV shows having one season have the highest IMDb score are #ABtalks, Our Planet, Reply 1988, The Last Dance, My Mister, Arcane, Okupas, DEATH NOTE, When They See Us, Cowboy Bebop. \n",
    "<br/>The TV shows having one season have the highest pupularity are Resident Evil, Money Heist (Korean Remake), Kung Fu Panda: The Dragon Knight, Extraordinary Attorney Woo, Boo, Bitch, My Little Pony: Make Your Mark, Pablo Escobar: The Drug Lord, Man vs. Bee, First Kill, The Snitch Cartel: Origins. \n",
    "* Netflix should consider to continue producing or buying copyrights from these shows because they are very popular among audiences."
   ]
  },
  {
   "attachments": {},
   "cell_type": "markdown",
   "metadata": {},
   "source": [
    "The TV shows having one season have the lowest IMDb score are He's Expecting, Thomas & Friends: All Engines Go!, Hype House, A House of Blocks, Until Dawn, The Goop Lab, Byron Baes, First Class, Jinn, Chasing Cameron. \n",
    "<br/>The TV shows having one season have the lowest pupularity are Five Came Back: The Reference Films, Cocaine, Monty Python's Personal Best, 마법버스 타요, StoryBots Super Songs, Maid, The Longest Night, The Dream Job, Witch Hunt: A Century of Murder, Blown Away: Christmas. \n",
    "* Netflix should consider to stop producing or buying copyrights from these shows because they are not very popular among audiences."
   ]
  },
  {
   "attachments": {},
   "cell_type": "markdown",
   "metadata": {},
   "source": [
    "## Q2: Which actors/actresses have acted in the most genres in Netflix movies and TV shows? <a class=\"anchor\" id=\"q2\"></a>\n"
   ]
  },
  {
   "attachments": {},
   "cell_type": "markdown",
   "metadata": {},
   "source": [
    "This question doesn't need to preprocess the data because there is no missing value in the 'role' and 'genres' columns."
   ]
  },
  {
   "attachments": {},
   "cell_type": "markdown",
   "metadata": {},
   "source": [
    "To analyze the data to answer this question, we need to:\n",
    "* Filter the data having role is Actor\n",
    "* Group the data by person_id and sum the genres\n",
    "* Sort the data by genres by highest to lowest"
   ]
  },
  {
   "cell_type": "code",
<<<<<<< HEAD
   "execution_count": 29,
=======
   "execution_count": 24,
>>>>>>> ae2281c98dcff017c6e084b225d71bd004473d45
   "metadata": {},
   "outputs": [
    {
     "data": {
      "text/html": [
       "<div>\n",
       "<style scoped>\n",
       "    .dataframe tbody tr th:only-of-type {\n",
       "        vertical-align: middle;\n",
       "    }\n",
       "\n",
       "    .dataframe tbody tr th {\n",
       "        vertical-align: top;\n",
       "    }\n",
       "\n",
       "    .dataframe thead th {\n",
       "        text-align: right;\n",
       "    }\n",
       "</style>\n",
       "<table border=\"1\" class=\"dataframe\">\n",
       "  <thead>\n",
       "    <tr style=\"text-align: right;\">\n",
       "      <th></th>\n",
       "      <th>person_id</th>\n",
       "      <th>genres</th>\n",
       "      <th>name</th>\n",
       "    </tr>\n",
       "  </thead>\n",
       "  <tbody>\n",
       "    <tr>\n",
       "      <th>0</th>\n",
       "      <td>11283</td>\n",
       "      <td>82</td>\n",
       "      <td>Yuki Kaji</td>\n",
       "    </tr>\n",
       "    <tr>\n",
       "      <th>19</th>\n",
       "      <td>138</td>\n",
       "      <td>81</td>\n",
       "      <td>Takahiro Sakurai</td>\n",
       "    </tr>\n",
       "    <tr>\n",
       "      <th>40</th>\n",
       "      <td>6821</td>\n",
       "      <td>71</td>\n",
       "      <td>Fred Tatasciore</td>\n",
       "    </tr>\n",
       "    <tr>\n",
       "      <th>58</th>\n",
       "      <td>75908</td>\n",
       "      <td>69</td>\n",
       "      <td>Kenjiro Tsuda</td>\n",
       "    </tr>\n",
       "    <tr>\n",
       "      <th>75</th>\n",
       "      <td>30778</td>\n",
       "      <td>66</td>\n",
       "      <td>Junichi Suwabe</td>\n",
       "    </tr>\n",
       "    <tr>\n",
       "      <th>94</th>\n",
       "      <td>14142</td>\n",
       "      <td>63</td>\n",
       "      <td>Grey DeLisle</td>\n",
       "    </tr>\n",
       "    <tr>\n",
       "      <th>109</th>\n",
       "      <td>38636</td>\n",
       "      <td>62</td>\n",
       "      <td>Boman Irani</td>\n",
       "    </tr>\n",
       "    <tr>\n",
       "      <th>134</th>\n",
       "      <td>20372</td>\n",
       "      <td>62</td>\n",
       "      <td>Tara Strong</td>\n",
       "    </tr>\n",
       "    <tr>\n",
       "      <th>147</th>\n",
       "      <td>14143</td>\n",
       "      <td>61</td>\n",
       "      <td>Kari Wahlgren</td>\n",
       "    </tr>\n",
       "    <tr>\n",
       "      <th>164</th>\n",
       "      <td>85702</td>\n",
       "      <td>60</td>\n",
       "      <td>Mamoru Miyano</td>\n",
       "    </tr>\n",
       "  </tbody>\n",
       "</table>\n",
       "</div>"
      ],
      "text/plain": [
       "    person_id  genres              name\n",
       "0       11283      82         Yuki Kaji\n",
       "19        138      81  Takahiro Sakurai\n",
       "40       6821      71   Fred Tatasciore\n",
       "58      75908      69     Kenjiro Tsuda\n",
       "75      30778      66    Junichi Suwabe\n",
       "94      14142      63      Grey DeLisle\n",
       "109     38636      62       Boman Irani\n",
       "134     20372      62       Tara Strong\n",
       "147     14143      61     Kari Wahlgren\n",
       "164     85702      60     Mamoru Miyano"
      ]
     },
<<<<<<< HEAD
     "execution_count": 29,
=======
     "execution_count": 24,
>>>>>>> ae2281c98dcff017c6e084b225d71bd004473d45
     "metadata": {},
     "output_type": "execute_result"
    }
   ],
   "source": [
    "most_genres_actor = credits_df[credits_df['role'] == 'ACTOR']\n",
    "#with each id of actor, find the movie name in titles_df and get the genres of each movie\n",
    "most_genres_actor = most_genres_actor.merge(titles_df[['id', 'genres']], on='id', how='left')\n",
    "#group by person_id and sum the genres of each actor\n",
    "most_genres_actor = most_genres_actor.groupby('person_id')['genres'].sum().reset_index()\n",
    "#count the number of genres of each actor\n",
    "most_genres_actor['genres'] = most_genres_actor['genres'].apply(lambda x: len(x.split(',')))\n",
    "#sort the data by genres by highest to lowest\n",
    "most_genres_actor = most_genres_actor.sort_values(by='genres', ascending=False).reset_index(drop=True)\n",
    "#merge the data with credits_df to get the name of actor\n",
    "most_genres_actor = most_genres_actor.merge(credits_df[['person_id', 'name']], on='person_id', how='left')\n",
    "#drop the duplicate name\n",
    "most_genres_actor = most_genres_actor.drop_duplicates(subset=['name'])\n",
    "most_genres_actor.head(10)"
   ]
  },
  {
   "attachments": {},
   "cell_type": "markdown",
   "metadata": {},
   "source": [
    "Visualize the data to answer this question:"
   ]
  },
  {
   "cell_type": "code",
<<<<<<< HEAD
   "execution_count": 30,
=======
   "execution_count": 25,
>>>>>>> ae2281c98dcff017c6e084b225d71bd004473d45
   "metadata": {},
   "outputs": [
    {
     "data": {
      "text/plain": [
       "Text(0.5, 1.0, 'Top 10 actors who have acted in the most genres')"
      ]
     },
<<<<<<< HEAD
     "execution_count": 30,
=======
     "execution_count": 25,
>>>>>>> ae2281c98dcff017c6e084b225d71bd004473d45
     "metadata": {},
     "output_type": "execute_result"
    },
    {
     "data": {
      "image/png": "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",
      "text/plain": [
       "<Figure size 1440x720 with 1 Axes>"
      ]
     },
     "metadata": {
      "needs_background": "light"
     },
     "output_type": "display_data"
    }
   ],
   "source": [
    "#visualize vertical bar chart\n",
    "fig, ax = plt.subplots(figsize=(20, 10))\n",
    "sns.barplot(x='name', y='genres', data=most_genres_actor.head(10), ax=ax)\n",
    "ax.set_title('Top 10 actors who have acted in the most genres')"
   ]
  },
  {
   "attachments": {},
   "cell_type": "markdown",
   "metadata": {},
   "source": [
    "As we can see, The most versatile actors/actresses are Yuki Kaji, Takahiro Sakurai, Fred Tatasciore, Kenjiro Tsuda, Junichi Suwabe, Grey DeLisle, Boman Irani, Tara Strong, Kari Wahlgren, Mamoru Miyano. Netflix should consider to hire these talented actors/actresses to star in their Movies/TV shows."
   ]
  },
  {
   "attachments": {},
   "cell_type": "markdown",
   "metadata": {},
   "source": [
    "## Q3: The most released genres in 2020, 2021 and 2022? <a class=\"anchor\" id=\"q3\"></a>"
   ]
  },
  {
   "attachments": {},
   "cell_type": "markdown",
   "metadata": {},
   "source": [
    "To answer this question, we need to preprocess the data:\n",
    "* Preprocess genres column to get the genres of each movie or TV show\n"
   ]
  },
  {
   "attachments": {},
   "cell_type": "markdown",
   "metadata": {},
   "source": [
    "Then we analyze the data to answer this question:\n",
    "* Create dataframe having genres and release_year\n",
    "* Filter the data having release_year is 2020, 2021 and 2022\n",
    "* Group the data by genres and release_year and count the genres\n",
    "* Sort the data by genres and count\n",
    "* Get the most releases genres in 2020, 2021 and 2022"
   ]
  },
  {
   "cell_type": "code",
<<<<<<< HEAD
   "execution_count": 31,
=======
   "execution_count": 26,
>>>>>>> ae2281c98dcff017c6e084b225d71bd004473d45
   "metadata": {},
   "outputs": [],
   "source": [
    "import ast\n",
    "import random\n",
    "def repair_array_bound_categories(arr):\n",
    "    arr=ast.literal_eval(arr)\n",
    "    \n",
    "    if len(arr)==0:\n",
    "        return np.nan\n",
    "    \n",
    "    elif len(arr)==1:\n",
    "        return arr[0]\n",
    "    \n",
    "    else:\n",
    "        for i in range(len(arr)):\n",
    "            return arr[i]"
   ]
  },
  {
   "cell_type": "code",
<<<<<<< HEAD
   "execution_count": 32,
=======
   "execution_count": 27,
>>>>>>> ae2281c98dcff017c6e084b225d71bd004473d45
   "metadata": {},
   "outputs": [],
   "source": [
    "titles_df['genres'] = titles_df['genres'].apply(repair_array_bound_categories)\n",
    "titles_df['genres'] = titles_df['genres'].fillna('Unknown')"
   ]
  },
  {
   "cell_type": "code",
<<<<<<< HEAD
   "execution_count": 33,
=======
   "execution_count": 28,
>>>>>>> ae2281c98dcff017c6e084b225d71bd004473d45
   "metadata": {},
   "outputs": [
    {
     "data": {
      "text/html": [
       "<div>\n",
       "<style scoped>\n",
       "    .dataframe tbody tr th:only-of-type {\n",
       "        vertical-align: middle;\n",
       "    }\n",
       "\n",
       "    .dataframe tbody tr th {\n",
       "        vertical-align: top;\n",
       "    }\n",
       "\n",
       "    .dataframe thead th {\n",
       "        text-align: right;\n",
       "    }\n",
       "</style>\n",
       "<table border=\"1\" class=\"dataframe\">\n",
       "  <thead>\n",
       "    <tr style=\"text-align: right;\">\n",
       "      <th></th>\n",
       "      <th>genres</th>\n",
       "      <th>release_year</th>\n",
       "    </tr>\n",
       "  </thead>\n",
       "  <tbody>\n",
       "    <tr>\n",
       "      <th>0</th>\n",
       "      <td>documentation</td>\n",
       "      <td>1945</td>\n",
       "    </tr>\n",
       "    <tr>\n",
       "      <th>1</th>\n",
       "      <td>drama</td>\n",
       "      <td>1976</td>\n",
       "    </tr>\n",
       "    <tr>\n",
       "      <th>2</th>\n",
       "      <td>drama</td>\n",
       "      <td>1972</td>\n",
       "    </tr>\n",
       "    <tr>\n",
       "      <th>3</th>\n",
       "      <td>fantasy</td>\n",
       "      <td>1975</td>\n",
       "    </tr>\n",
       "    <tr>\n",
       "      <th>4</th>\n",
       "      <td>war</td>\n",
       "      <td>1967</td>\n",
       "    </tr>\n",
       "    <tr>\n",
       "      <th>...</th>\n",
       "      <td>...</td>\n",
       "      <td>...</td>\n",
       "    </tr>\n",
       "    <tr>\n",
       "      <th>5845</th>\n",
       "      <td>romance</td>\n",
       "      <td>2021</td>\n",
       "    </tr>\n",
       "    <tr>\n",
       "      <th>5846</th>\n",
       "      <td>drama</td>\n",
       "      <td>2021</td>\n",
       "    </tr>\n",
       "    <tr>\n",
       "      <th>5847</th>\n",
       "      <td>comedy</td>\n",
       "      <td>2021</td>\n",
       "    </tr>\n",
       "    <tr>\n",
       "      <th>5848</th>\n",
       "      <td>Unknown</td>\n",
       "      <td>2021</td>\n",
       "    </tr>\n",
       "    <tr>\n",
       "      <th>5849</th>\n",
       "      <td>family</td>\n",
       "      <td>2021</td>\n",
       "    </tr>\n",
       "  </tbody>\n",
       "</table>\n",
       "<p>5850 rows × 2 columns</p>\n",
       "</div>"
      ],
      "text/plain": [
       "             genres  release_year\n",
       "0     documentation          1945\n",
       "1             drama          1976\n",
       "2             drama          1972\n",
       "3           fantasy          1975\n",
       "4               war          1967\n",
       "...             ...           ...\n",
       "5845        romance          2021\n",
       "5846          drama          2021\n",
       "5847         comedy          2021\n",
       "5848        Unknown          2021\n",
       "5849         family          2021\n",
       "\n",
       "[5850 rows x 2 columns]"
      ]
     },
<<<<<<< HEAD
     "execution_count": 33,
=======
     "execution_count": 28,
>>>>>>> ae2281c98dcff017c6e084b225d71bd004473d45
     "metadata": {},
     "output_type": "execute_result"
    }
   ],
   "source": [
    "genres_release_year_df = titles_df[['genres']]\n",
    "release_year_df = titles_df['release_year'].dt.year\n",
    "genres_release_year_df = pd.concat([genres_release_year_df, release_year_df], axis=1)\n",
    "genres_release_year_df"
   ]
  },
  {
   "cell_type": "code",
<<<<<<< HEAD
   "execution_count": 34,
=======
   "execution_count": 29,
>>>>>>> ae2281c98dcff017c6e084b225d71bd004473d45
   "metadata": {},
   "outputs": [
    {
     "data": {
      "text/html": [
       "<div>\n",
       "<style scoped>\n",
       "    .dataframe tbody tr th:only-of-type {\n",
       "        vertical-align: middle;\n",
       "    }\n",
       "\n",
       "    .dataframe tbody tr th {\n",
       "        vertical-align: top;\n",
       "    }\n",
       "\n",
       "    .dataframe thead th {\n",
       "        text-align: right;\n",
       "    }\n",
       "</style>\n",
       "<table border=\"1\" class=\"dataframe\">\n",
       "  <thead>\n",
       "    <tr style=\"text-align: right;\">\n",
       "      <th></th>\n",
       "      <th>genres</th>\n",
       "      <th>count</th>\n",
       "    </tr>\n",
       "  </thead>\n",
       "  <tbody>\n",
       "    <tr>\n",
       "      <th>0</th>\n",
       "      <td>drama</td>\n",
       "      <td>185</td>\n",
       "    </tr>\n",
       "    <tr>\n",
       "      <th>1</th>\n",
       "      <td>comedy</td>\n",
       "      <td>159</td>\n",
       "    </tr>\n",
       "    <tr>\n",
       "      <th>2</th>\n",
       "      <td>documentation</td>\n",
       "      <td>123</td>\n",
       "    </tr>\n",
       "    <tr>\n",
       "      <th>3</th>\n",
       "      <td>thriller</td>\n",
       "      <td>54</td>\n",
       "    </tr>\n",
       "    <tr>\n",
       "      <th>4</th>\n",
       "      <td>animation</td>\n",
       "      <td>52</td>\n",
       "    </tr>\n",
       "    <tr>\n",
       "      <th>5</th>\n",
       "      <td>action</td>\n",
       "      <td>37</td>\n",
       "    </tr>\n",
       "    <tr>\n",
       "      <th>6</th>\n",
       "      <td>crime</td>\n",
       "      <td>36</td>\n",
       "    </tr>\n",
       "    <tr>\n",
       "      <th>7</th>\n",
       "      <td>reality</td>\n",
       "      <td>33</td>\n",
       "    </tr>\n",
       "    <tr>\n",
       "      <th>8</th>\n",
       "      <td>scifi</td>\n",
       "      <td>28</td>\n",
       "    </tr>\n",
       "    <tr>\n",
       "      <th>9</th>\n",
       "      <td>romance</td>\n",
       "      <td>27</td>\n",
       "    </tr>\n",
       "  </tbody>\n",
       "</table>\n",
       "</div>"
      ],
      "text/plain": [
       "          genres  count\n",
       "0          drama    185\n",
       "1         comedy    159\n",
       "2  documentation    123\n",
       "3       thriller     54\n",
       "4      animation     52\n",
       "5         action     37\n",
       "6          crime     36\n",
       "7        reality     33\n",
       "8          scifi     28\n",
       "9        romance     27"
      ]
     },
<<<<<<< HEAD
     "execution_count": 34,
=======
     "execution_count": 29,
>>>>>>> ae2281c98dcff017c6e084b225d71bd004473d45
     "metadata": {},
     "output_type": "execute_result"
    }
   ],
   "source": [
    "#find top 10 genres in 2020\n",
    "genres_release_year_2020_df = genres_release_year_df[genres_release_year_df['release_year'] == 2020]\n",
    "#count each genres in 2020\n",
    "genres_count_2020 = genres_release_year_2020_df['genres'].value_counts().reset_index()\n",
    "genres_count_2020.columns = ['genres', 'count']\n",
    "genres_count_2020.head(10)"
   ]
  },
  {
   "cell_type": "code",
<<<<<<< HEAD
   "execution_count": 35,
=======
   "execution_count": 30,
>>>>>>> ae2281c98dcff017c6e084b225d71bd004473d45
   "metadata": {},
   "outputs": [
    {
     "data": {
      "text/html": [
       "<div>\n",
       "<style scoped>\n",
       "    .dataframe tbody tr th:only-of-type {\n",
       "        vertical-align: middle;\n",
       "    }\n",
       "\n",
       "    .dataframe tbody tr th {\n",
       "        vertical-align: top;\n",
       "    }\n",
       "\n",
       "    .dataframe thead th {\n",
       "        text-align: right;\n",
       "    }\n",
       "</style>\n",
       "<table border=\"1\" class=\"dataframe\">\n",
       "  <thead>\n",
       "    <tr style=\"text-align: right;\">\n",
       "      <th></th>\n",
       "      <th>genres</th>\n",
       "      <th>count</th>\n",
       "    </tr>\n",
       "  </thead>\n",
       "  <tbody>\n",
       "    <tr>\n",
       "      <th>0</th>\n",
       "      <td>drama</td>\n",
       "      <td>179</td>\n",
       "    </tr>\n",
       "    <tr>\n",
       "      <th>1</th>\n",
       "      <td>comedy</td>\n",
       "      <td>130</td>\n",
       "    </tr>\n",
       "    <tr>\n",
       "      <th>2</th>\n",
       "      <td>documentation</td>\n",
       "      <td>112</td>\n",
       "    </tr>\n",
       "    <tr>\n",
       "      <th>3</th>\n",
       "      <td>thriller</td>\n",
       "      <td>51</td>\n",
       "    </tr>\n",
       "    <tr>\n",
       "      <th>4</th>\n",
       "      <td>animation</td>\n",
       "      <td>48</td>\n",
       "    </tr>\n",
       "    <tr>\n",
       "      <th>5</th>\n",
       "      <td>crime</td>\n",
       "      <td>44</td>\n",
       "    </tr>\n",
       "    <tr>\n",
       "      <th>6</th>\n",
       "      <td>action</td>\n",
       "      <td>42</td>\n",
       "    </tr>\n",
       "    <tr>\n",
       "      <th>7</th>\n",
       "      <td>romance</td>\n",
       "      <td>37</td>\n",
       "    </tr>\n",
       "    <tr>\n",
       "      <th>8</th>\n",
       "      <td>reality</td>\n",
       "      <td>36</td>\n",
       "    </tr>\n",
       "    <tr>\n",
       "      <th>9</th>\n",
       "      <td>scifi</td>\n",
       "      <td>28</td>\n",
       "    </tr>\n",
       "  </tbody>\n",
       "</table>\n",
       "</div>"
      ],
      "text/plain": [
       "          genres  count\n",
       "0          drama    179\n",
       "1         comedy    130\n",
       "2  documentation    112\n",
       "3       thriller     51\n",
       "4      animation     48\n",
       "5          crime     44\n",
       "6         action     42\n",
       "7        romance     37\n",
       "8        reality     36\n",
       "9          scifi     28"
      ]
     },
<<<<<<< HEAD
     "execution_count": 35,
=======
     "execution_count": 30,
>>>>>>> ae2281c98dcff017c6e084b225d71bd004473d45
     "metadata": {},
     "output_type": "execute_result"
    }
   ],
   "source": [
    "genres_release_year_2021_df = genres_release_year_df[genres_release_year_df['release_year'] == 2021]\n",
    "genres_count_2021 = genres_release_year_2021_df['genres'].value_counts().reset_index()\n",
    "genres_count_2021.columns = ['genres', 'count']\n",
    "genres_count_2021.head(10)"
   ]
  },
  {
   "cell_type": "code",
<<<<<<< HEAD
   "execution_count": 36,
=======
   "execution_count": 31,
>>>>>>> ae2281c98dcff017c6e084b225d71bd004473d45
   "metadata": {},
   "outputs": [
    {
     "data": {
      "text/html": [
       "<div>\n",
       "<style scoped>\n",
       "    .dataframe tbody tr th:only-of-type {\n",
       "        vertical-align: middle;\n",
       "    }\n",
       "\n",
       "    .dataframe tbody tr th {\n",
       "        vertical-align: top;\n",
       "    }\n",
       "\n",
       "    .dataframe thead th {\n",
       "        text-align: right;\n",
       "    }\n",
       "</style>\n",
       "<table border=\"1\" class=\"dataframe\">\n",
       "  <thead>\n",
       "    <tr style=\"text-align: right;\">\n",
       "      <th></th>\n",
       "      <th>genres</th>\n",
       "      <th>count</th>\n",
       "    </tr>\n",
       "  </thead>\n",
       "  <tbody>\n",
       "    <tr>\n",
       "      <th>0</th>\n",
       "      <td>comedy</td>\n",
       "      <td>89</td>\n",
       "    </tr>\n",
       "    <tr>\n",
       "      <th>1</th>\n",
       "      <td>drama</td>\n",
       "      <td>88</td>\n",
       "    </tr>\n",
       "    <tr>\n",
       "      <th>2</th>\n",
       "      <td>documentation</td>\n",
       "      <td>49</td>\n",
       "    </tr>\n",
       "    <tr>\n",
       "      <th>3</th>\n",
       "      <td>action</td>\n",
       "      <td>20</td>\n",
       "    </tr>\n",
       "    <tr>\n",
       "      <th>4</th>\n",
<<<<<<< HEAD
       "      <td>action</td>\n",
=======
       "      <td>thriller</td>\n",
>>>>>>> ae2281c98dcff017c6e084b225d71bd004473d45
       "      <td>20</td>\n",
       "    </tr>\n",
       "    <tr>\n",
       "      <th>5</th>\n",
       "      <td>reality</td>\n",
       "      <td>20</td>\n",
       "    </tr>\n",
       "    <tr>\n",
       "      <th>6</th>\n",
       "      <td>scifi</td>\n",
       "      <td>18</td>\n",
       "    </tr>\n",
       "    <tr>\n",
       "      <th>7</th>\n",
       "      <td>animation</td>\n",
       "      <td>17</td>\n",
       "    </tr>\n",
       "    <tr>\n",
       "      <th>8</th>\n",
       "      <td>romance</td>\n",
       "      <td>16</td>\n",
       "    </tr>\n",
       "    <tr>\n",
       "      <th>9</th>\n",
       "      <td>crime</td>\n",
       "      <td>14</td>\n",
       "    </tr>\n",
       "  </tbody>\n",
       "</table>\n",
       "</div>"
      ],
      "text/plain": [
       "          genres  count\n",
       "0         comedy     89\n",
       "1          drama     88\n",
       "2  documentation     49\n",
<<<<<<< HEAD
       "3       thriller     20\n",
       "4         action     20\n",
=======
       "3         action     20\n",
       "4       thriller     20\n",
>>>>>>> ae2281c98dcff017c6e084b225d71bd004473d45
       "5        reality     20\n",
       "6          scifi     18\n",
       "7      animation     17\n",
       "8        romance     16\n",
       "9          crime     14"
      ]
     },
<<<<<<< HEAD
     "execution_count": 36,
=======
     "execution_count": 31,
>>>>>>> ae2281c98dcff017c6e084b225d71bd004473d45
     "metadata": {},
     "output_type": "execute_result"
    }
   ],
   "source": [
    "genres_release_year_2022_df = genres_release_year_df[genres_release_year_df['release_year'] == 2022]\n",
    "genres_count_2022 = genres_release_year_2022_df['genres'].value_counts().reset_index()\n",
    "genres_count_2022.columns = ['genres', 'count']\n",
    "genres_count_2022.head(10)"
   ]
  },
  {
   "attachments": {},
   "cell_type": "markdown",
   "metadata": {},
   "source": [
    "Visualize the result to answer this question"
   ]
  },
  {
   "cell_type": "code",
<<<<<<< HEAD
   "execution_count": 37,
=======
   "execution_count": 32,
>>>>>>> ae2281c98dcff017c6e084b225d71bd004473d45
   "metadata": {},
   "outputs": [
    {
     "data": {
      "text/plain": [
       "[None,\n",
       " None,\n",
       " None,\n",
       " None,\n",
       " None,\n",
       " None,\n",
       " None,\n",
       " None,\n",
       " None,\n",
       " None,\n",
       " None,\n",
       " None,\n",
       " None,\n",
       " None,\n",
       " None,\n",
       " None,\n",
       " None,\n",
       " None,\n",
       " None,\n",
       " None]"
      ]
     },
<<<<<<< HEAD
     "execution_count": 37,
=======
     "execution_count": 32,
>>>>>>> ae2281c98dcff017c6e084b225d71bd004473d45
     "metadata": {},
     "output_type": "execute_result"
    },
    {
     "data": {
<<<<<<< HEAD
      "image/png": "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",
      "text/plain": [
       "<Figure size 1440x360 with 3 Axes>"
      ]
     },
     "metadata": {
      "needs_background": "light"
     },
=======
      "image/png": "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",
      "text/plain": [
       "<Figure size 2000x500 with 3 Axes>"
      ]
     },
     "metadata": {},
>>>>>>> ae2281c98dcff017c6e084b225d71bd004473d45
     "output_type": "display_data"
    }
   ],
   "source": [
    "#visualize by bar chart\n",
    "fig, ax = plt.subplots(1, 3, figsize=(20, 5))\n",
    "sns.barplot(x='genres', y='count', data=genres_count_2020.head(10), ax=ax[0])\n",
    "sns.barplot(x='genres', y='count', data=genres_count_2021.head(10), ax=ax[1])\n",
    "sns.barplot(x='genres', y='count', data=genres_count_2022.head(10), ax=ax[2])\n",
    "ax[0].set_title('Top 10 genres in 2020')\n",
    "ax[1].set_title('Top 10 genres in 2021')\n",
    "ax[2].set_title('Top 10 genres in 2022')\n",
    "#increase the space between subplots\n",
    "plt.subplots_adjust(wspace=0.3)\n",
    "#rotate the xticks\n",
    "plt.setp(ax[0].get_xticklabels(), rotation=45)\n",
    "plt.setp(ax[1].get_xticklabels(), rotation=45)\n",
    "plt.setp(ax[2].get_xticklabels(), rotation=45)"
   ]
  },
  {
   "attachments": {},
   "cell_type": "markdown",
   "metadata": {},
   "source": [
    "*From chart we can see:* \\\n",
    "In 2020, the most released genres are Drama, Comedy, Documentary, Thriller, Animation , Action, Crime, Reality, Scifi, Romance. \\\n",
    "And it is the same in 2021 and 2022.With Drama and Comedy are 2 genres that reach the top 10 in 3 years.\n",
    "\n"
   ]
  },
  {
   "attachments": {},
   "cell_type": "markdown",
   "metadata": {},
   "source": [
    "## Q4: The distribution of production countries of movies and TV shows on Netflix? <a class=\"anchor\" id=\"q4\"></a>"
   ]
  },
  {
   "attachments": {},
   "cell_type": "markdown",
   "metadata": {},
   "source": [
    "To answer this question, we need to do:\n",
    "* Convert the production_countries name to ISO3 code\n",
    "* Visualize the data by using plotly library to show the map of the world"
   ]
  },
  {
   "cell_type": "code",
<<<<<<< HEAD
   "execution_count": 38,
=======
   "execution_count": 33,
>>>>>>> ae2281c98dcff017c6e084b225d71bd004473d45
   "metadata": {},
   "outputs": [],
   "source": [
    "titles_df['production_countries'] = titles_df['production_countries'].apply(repair_array_bound_categories)"
   ]
  },
  {
   "cell_type": "code",
<<<<<<< HEAD
   "execution_count": 39,
=======
   "execution_count": 34,
>>>>>>> ae2281c98dcff017c6e084b225d71bd004473d45
   "metadata": {},
   "outputs": [
    {
     "name": "stderr",
     "output_type": "stream",
     "text": [
<<<<<<< HEAD
      "SU not found in ISO2\n"
=======
      "SU not found in ISO2\n",
      "Unknown not found in regex\n",
      "Unknown not found in regex\n",
      "Unknown not found in regex\n",
      "Unknown not found in regex\n",
      "Unknown not found in regex\n",
      "Unknown not found in regex\n",
      "Unknown not found in regex\n",
      "Unknown not found in regex\n",
      "Unknown not found in regex\n",
      "Unknown not found in regex\n",
      "XX not found in ISO2\n",
      "Unknown not found in regex\n",
      "XX not found in ISO2\n",
      "Unknown not found in regex\n",
      "XX not found in ISO2\n",
      "XX not found in ISO2\n",
      "XX not found in ISO2\n",
      "Unknown not found in regex\n",
      "Unknown not found in regex\n",
      "Unknown not found in regex\n",
      "Unknown not found in regex\n",
      "XX not found in ISO2\n",
      "Unknown not found in regex\n",
      "Unknown not found in regex\n",
      "Unknown not found in regex\n",
      "XX not found in ISO2\n",
      "Unknown not found in regex\n",
      "XX not found in ISO2\n",
      "Unknown not found in regex\n",
      "Unknown not found in regex\n",
      "Unknown not found in regex\n",
      "Unknown not found in regex\n",
      "Unknown not found in regex\n",
      "Unknown not found in regex\n",
      "Unknown not found in regex\n",
      "XX not found in ISO2\n",
      "Unknown not found in regex\n",
      "Unknown not found in regex\n",
      "Unknown not found in regex\n",
      "Unknown not found in regex\n",
      "Unknown not found in regex\n",
      "Unknown not found in regex\n",
      "Unknown not found in regex\n",
      "Unknown not found in regex\n",
      "XX not found in ISO2\n",
      "Unknown not found in regex\n",
      "Unknown not found in regex\n",
      "Unknown not found in regex\n",
      "Unknown not found in regex\n",
      "Unknown not found in regex\n",
      "Unknown not found in regex\n",
      "Unknown not found in regex\n",
      "XX not found in ISO2\n",
      "Unknown not found in regex\n",
      "Unknown not found in regex\n",
      "Unknown not found in regex\n",
      "XX not found in ISO2\n",
      "Unknown not found in regex\n",
      "Unknown not found in regex\n",
      "XX not found in ISO2\n",
      "Unknown not found in regex\n",
      "Unknown not found in regex\n",
      "XX not found in ISO2\n",
      "Unknown not found in regex\n",
      "XX not found in ISO2\n",
      "Unknown not found in regex\n",
      "Unknown not found in regex\n",
      "XX not found in ISO2\n",
      "Unknown not found in regex\n",
      "XX not found in ISO2\n",
      "XX not found in ISO2\n",
      "XX not found in ISO2\n",
      "Unknown not found in regex\n",
      "XX not found in ISO2\n",
      "Unknown not found in regex\n",
      "Unknown not found in regex\n",
      "Unknown not found in regex\n",
      "Unknown not found in regex\n",
      "Unknown not found in regex\n",
      "Unknown not found in regex\n",
      "Unknown not found in regex\n",
      "Unknown not found in regex\n",
      "Unknown not found in regex\n",
      "Unknown not found in regex\n",
      "Unknown not found in regex\n",
      "Unknown not found in regex\n",
      "Unknown not found in regex\n",
      "Unknown not found in regex\n",
      "XX not found in ISO2\n",
      "Unknown not found in regex\n",
      "Unknown not found in regex\n",
      "Unknown not found in regex\n",
      "Unknown not found in regex\n",
      "Unknown not found in regex\n",
      "Unknown not found in regex\n",
      "Unknown not found in regex\n",
      "Unknown not found in regex\n",
      "Unknown not found in regex\n",
      "Unknown not found in regex\n",
      "Unknown not found in regex\n",
      "XX not found in ISO2\n",
      "Unknown not found in regex\n",
      "Unknown not found in regex\n",
      "Unknown not found in regex\n",
      "Unknown not found in regex\n",
      "Unknown not found in regex\n",
      "Unknown not found in regex\n",
      "Unknown not found in regex\n",
      "Unknown not found in regex\n",
      "Unknown not found in regex\n",
      "Unknown not found in regex\n",
      "Unknown not found in regex\n",
      "Unknown not found in regex\n",
      "Unknown not found in regex\n",
      "Unknown not found in regex\n",
      "Unknown not found in regex\n",
      "Unknown not found in regex\n",
      "Unknown not found in regex\n",
      "Unknown not found in regex\n",
      "Unknown not found in regex\n",
      "Unknown not found in regex\n",
      "Unknown not found in regex\n",
      "Unknown not found in regex\n",
      "Unknown not found in regex\n",
      "Unknown not found in regex\n",
      "Unknown not found in regex\n",
      "Unknown not found in regex\n",
      "Unknown not found in regex\n",
      "Unknown not found in regex\n",
      "Unknown not found in regex\n",
      "Unknown not found in regex\n",
      "Unknown not found in regex\n",
      "Unknown not found in regex\n",
      "XX not found in ISO2\n",
      "Unknown not found in regex\n",
      "Unknown not found in regex\n",
      "Unknown not found in regex\n",
      "Unknown not found in regex\n",
      "Unknown not found in regex\n",
      "Unknown not found in regex\n",
      "Unknown not found in regex\n",
      "Unknown not found in regex\n",
      "Unknown not found in regex\n",
      "Unknown not found in regex\n",
      "Unknown not found in regex\n",
      "Unknown not found in regex\n",
      "Unknown not found in regex\n",
      "Unknown not found in regex\n",
      "Unknown not found in regex\n",
      "Unknown not found in regex\n",
      "Unknown not found in regex\n",
      "Unknown not found in regex\n",
      "Unknown not found in regex\n",
      "Unknown not found in regex\n",
      "Unknown not found in regex\n",
      "Unknown not found in regex\n",
      "Unknown not found in regex\n",
      "Unknown not found in regex\n",
      "Unknown not found in regex\n",
      "Unknown not found in regex\n",
      "Unknown not found in regex\n",
      "Unknown not found in regex\n",
      "Unknown not found in regex\n",
      "Unknown not found in regex\n",
      "Unknown not found in regex\n",
      "Unknown not found in regex\n",
      "Unknown not found in regex\n",
      "Unknown not found in regex\n",
      "Unknown not found in regex\n",
      "Unknown not found in regex\n",
      "Unknown not found in regex\n",
      "Unknown not found in regex\n",
      "Unknown not found in regex\n",
      "Unknown not found in regex\n",
      "Unknown not found in regex\n",
      "Unknown not found in regex\n",
      "Unknown not found in regex\n",
      "Unknown not found in regex\n",
      "Unknown not found in regex\n",
      "Unknown not found in regex\n",
      "Unknown not found in regex\n",
      "Unknown not found in regex\n",
      "Unknown not found in regex\n",
      "Unknown not found in regex\n",
      "Unknown not found in regex\n",
      "Unknown not found in regex\n",
      "Unknown not found in regex\n",
      "Unknown not found in regex\n",
      "Unknown not found in regex\n",
      "Unknown not found in regex\n",
      "Unknown not found in regex\n",
      "Unknown not found in regex\n",
      "Unknown not found in regex\n",
      "Unknown not found in regex\n",
      "Unknown not found in regex\n",
      "Unknown not found in regex\n",
      "Unknown not found in regex\n",
      "Unknown not found in regex\n",
      "Unknown not found in regex\n",
      "Unknown not found in regex\n",
      "Unknown not found in regex\n",
      "Unknown not found in regex\n",
      "Unknown not found in regex\n",
      "Unknown not found in regex\n",
      "Unknown not found in regex\n",
      "Unknown not found in regex\n",
      "Unknown not found in regex\n",
      "Unknown not found in regex\n",
      "Unknown not found in regex\n",
      "Unknown not found in regex\n",
      "Unknown not found in regex\n",
      "Unknown not found in regex\n",
      "Unknown not found in regex\n",
      "Unknown not found in regex\n",
      "Unknown not found in regex\n",
      "Unknown not found in regex\n",
      "Unknown not found in regex\n",
      "Unknown not found in regex\n",
      "Unknown not found in regex\n",
      "Unknown not found in regex\n",
      "Unknown not found in regex\n",
      "Unknown not found in regex\n",
      "Unknown not found in regex\n",
      "Unknown not found in regex\n",
      "Unknown not found in regex\n",
      "Unknown not found in regex\n",
      "Unknown not found in regex\n",
      "Unknown not found in regex\n",
      "Unknown not found in regex\n",
      "Unknown not found in regex\n",
      "Unknown not found in regex\n",
      "Unknown not found in regex\n",
      "Unknown not found in regex\n",
      "Unknown not found in regex\n",
      "Unknown not found in regex\n",
      "Unknown not found in regex\n",
      "Unknown not found in regex\n",
      "Unknown not found in regex\n",
      "Unknown not found in regex\n",
      "Unknown not found in regex\n",
      "Unknown not found in regex\n",
      "Unknown not found in regex\n",
      "Unknown not found in regex\n",
      "Unknown not found in regex\n",
      "Unknown not found in regex\n",
      "Unknown not found in regex\n",
      "Unknown not found in regex\n",
      "Unknown not found in regex\n",
      "Unknown not found in regex\n",
      "Unknown not found in regex\n",
      "Unknown not found in regex\n",
      "Unknown not found in regex\n"
>>>>>>> ae2281c98dcff017c6e084b225d71bd004473d45
     ]
    }
   ],
   "source": [
    "#convert Nan value and XX to Unknown\n",
    "titles_df['production_countries'] = titles_df['production_countries'].fillna('Unknown')\n",
    "titles_df['production_countries'] = titles_df['production_countries'].apply(lambda x: 'Unknown' if x == 'XX' else x)\n",
    "#drop the row with Unknown value\n",
    "titles_df = titles_df[titles_df['production_countries'] != 'Unknown']\n",
    "converted_country = coco.convert(names=titles_df[\"production_countries\"], to=\"ISO3\", not_found=None)\n",
    "titles_df[\"production_countries\"] = converted_country\n",
    "country = titles_df[\"production_countries\"].value_counts()"
   ]
  },
  {
   "cell_type": "code",
<<<<<<< HEAD
   "execution_count": 40,
=======
   "execution_count": 35,
>>>>>>> ae2281c98dcff017c6e084b225d71bd004473d45
   "metadata": {},
   "outputs": [
    {
     "data": {
      "application/vnd.plotly.v1+json": {
       "config": {
        "plotlyServerURL": "https://plot.ly"
       },
       "data": [
        {
         "coloraxis": "coloraxis",
         "geo": "geo",
         "hovertemplate": "locations=%{location}<br>color=%{z}<extra></extra>",
         "locations": [
          "USA",
          "IND",
          "GBR",
          "JPN",
          "KOR",
          "ESP",
          "CAN",
          "FRA",
          "MEX",
          "BRA",
          "DEU",
          "PHL",
          "TUR",
          "CHN",
          "AUS",
          "NGA",
          "ITA",
          "TWN",
          "IDN",
          "ARG",
          "COL",
          "POL",
          "EGY",
          "ZAF",
          "THA",
          "BEL",
          "HKG",
          "LBN",
          "NLD",
          "SGP",
          "SWE",
          "DNK",
          "MYS",
<<<<<<< HEAD
          "NOR",
          "CHL",
=======
          "CHL",
          "NOR",
>>>>>>> ae2281c98dcff017c6e084b225d71bd004473d45
          "ISR",
          "ARE",
          "RUS",
          "SAU",
          "PSE",
          "IRL",
          "AUT",
          "PER",
          "NZL",
          "KWT",
          "CZE",
          "ISL",
          "FIN",
<<<<<<< HEAD
          "ROU",
          "CHE",
          "BGR",
          "PRT",
          "TZA",
          "HUN",
          "IOT",
          "KEN",
          "JOR",
          "VNM",
          "PAK",
          "QAT",
          "BGD",
          "URY",
          "LUX",
          "GHA",
          "UKR",
          "AFG",
          "MAR",
=======
          "TZA",
          "BGR",
          "CHE",
          "PRT",
          "KEN",
          "LUX",
          "PAK",
          "HUN",
          "BGD",
          "IOT",
          "URY",
          "GHA",
          "JOR",
          "UKR",
          "VNM",
          "QAT",
>>>>>>> ae2281c98dcff017c6e084b225d71bd004473d45
          "PRI",
          "SRB",
          "COD",
<<<<<<< HEAD
          "GEO",
          "CMR",
          "SEN",
          "KGZ",
          "BTN",
          "NAM",
          "MUS",
          "GTM",
          "NPL",
          "VEN",
          "ZWE",
          "PRY",
          "KHM",
          "CUB",
          "IRN",
          "IRQ",
          "GRL",
          "TUN",
          "SYR",
          "HRV",
          "BLR",
          "MLT",
          "DZA",
          "SU",
          "GRC"
=======
          "AFG",
          "GEO",
          "MAR",
          "TUN",
          "GTM",
          "CUB",
          "NPL",
          "SEN",
          "BLR",
          "HRV",
          "GRC",
          "BTN",
          "MUS",
          "NAM",
          "KGZ",
          "KHM",
          "IRN",
          "SU",
          "PRY",
          "MLT",
          "IRQ",
          "ZWE",
          "SYR",
          "VEN",
          "DZA",
          "GRL"
>>>>>>> ae2281c98dcff017c6e084b225d71bd004473d45
         ],
         "name": "",
         "type": "choropleth",
         "z": [
          2084,
          610,
          296,
          273,
          224,
          182,
          176,
          167,
          111,
          96,
          92,
          84,
          84,
          77,
          75,
          69,
          68,
          63,
          62,
          59,
          45,
          41,
          41,
          38,
          33,
          32,
          29,
          27,
          26,
          22,
          20,
          18,
          16,
          16,
          16,
          15,
          15,
          14,
          12,
          12,
          11,
          10,
          9,
          9,
          7,
          7,
          6,
          5,
          5,
          4,
          4,
          4,
          4,
          3,
          3,
          3,
          3,
          3,
          3,
          3,
          3,
          3,
          3,
          3,
          3,
          2,
          2,
          2,
          2,
          2,
          2,
          2,
          1,
          1,
          1,
          1,
          1,
          1,
          1,
          1,
          1,
          1,
          1,
          1,
          1,
          1,
          1,
          1,
          1,
          1,
          1,
          1,
          1,
          1,
          1
         ]
        }
       ],
       "layout": {
        "coloraxis": {
         "colorbar": {
          "title": {
           "text": "color"
          }
         },
         "colorscale": [
          [
           0,
           "rgb(230, 240, 240)"
          ],
          [
           0.09090909090909091,
           "rgb(191, 221, 229)"
          ],
          [
           0.18181818181818182,
           "rgb(156, 201, 226)"
          ],
          [
           0.2727272727272727,
           "rgb(129, 180, 227)"
          ],
          [
           0.36363636363636365,
           "rgb(115, 154, 228)"
          ],
          [
           0.45454545454545453,
           "rgb(117, 127, 221)"
          ],
          [
           0.5454545454545454,
           "rgb(120, 100, 202)"
          ],
          [
           0.6363636363636364,
           "rgb(119, 74, 175)"
          ],
          [
           0.7272727272727273,
           "rgb(113, 50, 141)"
          ],
          [
           0.8181818181818182,
           "rgb(100, 31, 104)"
          ],
          [
           0.9090909090909091,
           "rgb(80, 20, 66)"
          ],
          [
           1,
           "rgb(54, 14, 36)"
          ]
         ]
        },
        "font": {
         "family": "Franklin Gothic",
         "size": 17
        },
        "geo": {
         "center": {},
         "domain": {
          "x": [
           0,
           1
          ],
          "y": [
           0,
           1
          ]
         }
        },
        "legend": {
         "tracegroupgap": 0
        },
        "template": {
         "data": {
          "bar": [
           {
            "error_x": {
             "color": "#2a3f5f"
            },
            "error_y": {
             "color": "#2a3f5f"
            },
            "marker": {
             "line": {
              "color": "white",
              "width": 0.5
             },
             "pattern": {
              "fillmode": "overlay",
              "size": 10,
              "solidity": 0.2
             }
            },
            "type": "bar"
           }
          ],
          "barpolar": [
           {
            "marker": {
             "line": {
              "color": "white",
              "width": 0.5
             },
             "pattern": {
              "fillmode": "overlay",
              "size": 10,
              "solidity": 0.2
             }
            },
            "type": "barpolar"
           }
          ],
          "carpet": [
           {
            "aaxis": {
             "endlinecolor": "#2a3f5f",
             "gridcolor": "#C8D4E3",
             "linecolor": "#C8D4E3",
             "minorgridcolor": "#C8D4E3",
             "startlinecolor": "#2a3f5f"
            },
            "baxis": {
             "endlinecolor": "#2a3f5f",
             "gridcolor": "#C8D4E3",
             "linecolor": "#C8D4E3",
             "minorgridcolor": "#C8D4E3",
             "startlinecolor": "#2a3f5f"
            },
            "type": "carpet"
           }
          ],
          "choropleth": [
           {
            "colorbar": {
             "outlinewidth": 0,
             "ticks": ""
            },
            "type": "choropleth"
           }
          ],
          "contour": [
           {
            "colorbar": {
             "outlinewidth": 0,
             "ticks": ""
            },
            "colorscale": [
             [
              0,
              "#0d0887"
             ],
             [
              0.1111111111111111,
              "#46039f"
             ],
             [
              0.2222222222222222,
              "#7201a8"
             ],
             [
              0.3333333333333333,
              "#9c179e"
             ],
             [
              0.4444444444444444,
              "#bd3786"
             ],
             [
              0.5555555555555556,
              "#d8576b"
             ],
             [
              0.6666666666666666,
              "#ed7953"
             ],
             [
              0.7777777777777778,
              "#fb9f3a"
             ],
             [
              0.8888888888888888,
              "#fdca26"
             ],
             [
              1,
              "#f0f921"
             ]
            ],
            "type": "contour"
           }
          ],
          "contourcarpet": [
           {
            "colorbar": {
             "outlinewidth": 0,
             "ticks": ""
            },
            "type": "contourcarpet"
           }
          ],
          "heatmap": [
           {
            "colorbar": {
             "outlinewidth": 0,
             "ticks": ""
            },
            "colorscale": [
             [
              0,
              "#0d0887"
             ],
             [
              0.1111111111111111,
              "#46039f"
             ],
             [
              0.2222222222222222,
              "#7201a8"
             ],
             [
              0.3333333333333333,
              "#9c179e"
             ],
             [
              0.4444444444444444,
              "#bd3786"
             ],
             [
              0.5555555555555556,
              "#d8576b"
             ],
             [
              0.6666666666666666,
              "#ed7953"
             ],
             [
              0.7777777777777778,
              "#fb9f3a"
             ],
             [
              0.8888888888888888,
              "#fdca26"
             ],
             [
              1,
              "#f0f921"
             ]
            ],
            "type": "heatmap"
           }
          ],
          "heatmapgl": [
           {
            "colorbar": {
             "outlinewidth": 0,
             "ticks": ""
            },
            "colorscale": [
             [
              0,
              "#0d0887"
             ],
             [
              0.1111111111111111,
              "#46039f"
             ],
             [
              0.2222222222222222,
              "#7201a8"
             ],
             [
              0.3333333333333333,
              "#9c179e"
             ],
             [
              0.4444444444444444,
              "#bd3786"
             ],
             [
              0.5555555555555556,
              "#d8576b"
             ],
             [
              0.6666666666666666,
              "#ed7953"
             ],
             [
              0.7777777777777778,
              "#fb9f3a"
             ],
             [
              0.8888888888888888,
              "#fdca26"
             ],
             [
              1,
              "#f0f921"
             ]
            ],
            "type": "heatmapgl"
           }
          ],
          "histogram": [
           {
            "marker": {
             "pattern": {
              "fillmode": "overlay",
              "size": 10,
              "solidity": 0.2
             }
            },
            "type": "histogram"
           }
          ],
          "histogram2d": [
           {
            "colorbar": {
             "outlinewidth": 0,
             "ticks": ""
            },
            "colorscale": [
             [
              0,
              "#0d0887"
             ],
             [
              0.1111111111111111,
              "#46039f"
             ],
             [
              0.2222222222222222,
              "#7201a8"
             ],
             [
              0.3333333333333333,
              "#9c179e"
             ],
             [
              0.4444444444444444,
              "#bd3786"
             ],
             [
              0.5555555555555556,
              "#d8576b"
             ],
             [
              0.6666666666666666,
              "#ed7953"
             ],
             [
              0.7777777777777778,
              "#fb9f3a"
             ],
             [
              0.8888888888888888,
              "#fdca26"
             ],
             [
              1,
              "#f0f921"
             ]
            ],
            "type": "histogram2d"
           }
          ],
          "histogram2dcontour": [
           {
            "colorbar": {
             "outlinewidth": 0,
             "ticks": ""
            },
            "colorscale": [
             [
              0,
              "#0d0887"
             ],
             [
              0.1111111111111111,
              "#46039f"
             ],
             [
              0.2222222222222222,
              "#7201a8"
             ],
             [
              0.3333333333333333,
              "#9c179e"
             ],
             [
              0.4444444444444444,
              "#bd3786"
             ],
             [
              0.5555555555555556,
              "#d8576b"
             ],
             [
              0.6666666666666666,
              "#ed7953"
             ],
             [
              0.7777777777777778,
              "#fb9f3a"
             ],
             [
              0.8888888888888888,
              "#fdca26"
             ],
             [
              1,
              "#f0f921"
             ]
            ],
            "type": "histogram2dcontour"
           }
          ],
          "mesh3d": [
           {
            "colorbar": {
             "outlinewidth": 0,
             "ticks": ""
            },
            "type": "mesh3d"
           }
          ],
          "parcoords": [
           {
            "line": {
             "colorbar": {
              "outlinewidth": 0,
              "ticks": ""
             }
            },
            "type": "parcoords"
           }
          ],
          "pie": [
           {
            "automargin": true,
            "type": "pie"
           }
          ],
          "scatter": [
           {
            "fillpattern": {
             "fillmode": "overlay",
             "size": 10,
             "solidity": 0.2
            },
            "type": "scatter"
           }
          ],
          "scatter3d": [
           {
            "line": {
             "colorbar": {
              "outlinewidth": 0,
              "ticks": ""
             }
            },
            "marker": {
             "colorbar": {
              "outlinewidth": 0,
              "ticks": ""
             }
            },
            "type": "scatter3d"
           }
          ],
          "scattercarpet": [
           {
            "marker": {
             "colorbar": {
              "outlinewidth": 0,
              "ticks": ""
             }
            },
            "type": "scattercarpet"
           }
          ],
          "scattergeo": [
           {
            "marker": {
             "colorbar": {
              "outlinewidth": 0,
              "ticks": ""
             }
            },
            "type": "scattergeo"
           }
          ],
          "scattergl": [
           {
            "marker": {
             "colorbar": {
              "outlinewidth": 0,
              "ticks": ""
             }
            },
            "type": "scattergl"
           }
          ],
          "scattermapbox": [
           {
            "marker": {
             "colorbar": {
              "outlinewidth": 0,
              "ticks": ""
             }
            },
            "type": "scattermapbox"
           }
          ],
          "scatterpolar": [
           {
            "marker": {
             "colorbar": {
              "outlinewidth": 0,
              "ticks": ""
             }
            },
            "type": "scatterpolar"
           }
          ],
          "scatterpolargl": [
           {
            "marker": {
             "colorbar": {
              "outlinewidth": 0,
              "ticks": ""
             }
            },
            "type": "scatterpolargl"
           }
          ],
          "scatterternary": [
           {
            "marker": {
             "colorbar": {
              "outlinewidth": 0,
              "ticks": ""
             }
            },
            "type": "scatterternary"
           }
          ],
          "surface": [
           {
            "colorbar": {
             "outlinewidth": 0,
             "ticks": ""
            },
            "colorscale": [
             [
              0,
              "#0d0887"
             ],
             [
              0.1111111111111111,
              "#46039f"
             ],
             [
              0.2222222222222222,
              "#7201a8"
             ],
             [
              0.3333333333333333,
              "#9c179e"
             ],
             [
              0.4444444444444444,
              "#bd3786"
             ],
             [
              0.5555555555555556,
              "#d8576b"
             ],
             [
              0.6666666666666666,
              "#ed7953"
             ],
             [
              0.7777777777777778,
              "#fb9f3a"
             ],
             [
              0.8888888888888888,
              "#fdca26"
             ],
             [
              1,
              "#f0f921"
             ]
            ],
            "type": "surface"
           }
          ],
          "table": [
           {
            "cells": {
             "fill": {
              "color": "#EBF0F8"
             },
             "line": {
              "color": "white"
             }
            },
            "header": {
             "fill": {
              "color": "#C8D4E3"
             },
             "line": {
              "color": "white"
             }
            },
            "type": "table"
           }
          ]
         },
         "layout": {
          "annotationdefaults": {
           "arrowcolor": "#2a3f5f",
           "arrowhead": 0,
           "arrowwidth": 1
          },
          "autotypenumbers": "strict",
          "coloraxis": {
           "colorbar": {
            "outlinewidth": 0,
            "ticks": ""
           }
          },
          "colorscale": {
           "diverging": [
            [
             0,
             "#8e0152"
            ],
            [
             0.1,
             "#c51b7d"
            ],
            [
             0.2,
             "#de77ae"
            ],
            [
             0.3,
             "#f1b6da"
            ],
            [
             0.4,
             "#fde0ef"
            ],
            [
             0.5,
             "#f7f7f7"
            ],
            [
             0.6,
             "#e6f5d0"
            ],
            [
             0.7,
             "#b8e186"
            ],
            [
             0.8,
             "#7fbc41"
            ],
            [
             0.9,
             "#4d9221"
            ],
            [
             1,
             "#276419"
            ]
           ],
           "sequential": [
            [
             0,
             "#0d0887"
            ],
            [
             0.1111111111111111,
             "#46039f"
            ],
            [
             0.2222222222222222,
             "#7201a8"
            ],
            [
             0.3333333333333333,
             "#9c179e"
            ],
            [
             0.4444444444444444,
             "#bd3786"
            ],
            [
             0.5555555555555556,
             "#d8576b"
            ],
            [
             0.6666666666666666,
             "#ed7953"
            ],
            [
             0.7777777777777778,
             "#fb9f3a"
            ],
            [
             0.8888888888888888,
             "#fdca26"
            ],
            [
             1,
             "#f0f921"
            ]
           ],
           "sequentialminus": [
            [
             0,
             "#0d0887"
            ],
            [
             0.1111111111111111,
             "#46039f"
            ],
            [
             0.2222222222222222,
             "#7201a8"
            ],
            [
             0.3333333333333333,
             "#9c179e"
            ],
            [
             0.4444444444444444,
             "#bd3786"
            ],
            [
             0.5555555555555556,
             "#d8576b"
            ],
            [
             0.6666666666666666,
             "#ed7953"
            ],
            [
             0.7777777777777778,
             "#fb9f3a"
            ],
            [
             0.8888888888888888,
             "#fdca26"
            ],
            [
             1,
             "#f0f921"
            ]
           ]
          },
          "colorway": [
           "#636efa",
           "#EF553B",
           "#00cc96",
           "#ab63fa",
           "#FFA15A",
           "#19d3f3",
           "#FF6692",
           "#B6E880",
           "#FF97FF",
           "#FECB52"
          ],
          "font": {
           "color": "#2a3f5f"
          },
          "geo": {
           "bgcolor": "white",
           "lakecolor": "white",
           "landcolor": "white",
           "showlakes": true,
           "showland": true,
           "subunitcolor": "#C8D4E3"
          },
          "hoverlabel": {
           "align": "left"
          },
          "hovermode": "closest",
          "mapbox": {
           "style": "light"
          },
          "paper_bgcolor": "white",
          "plot_bgcolor": "white",
          "polar": {
           "angularaxis": {
            "gridcolor": "#EBF0F8",
            "linecolor": "#EBF0F8",
            "ticks": ""
           },
           "bgcolor": "white",
           "radialaxis": {
            "gridcolor": "#EBF0F8",
            "linecolor": "#EBF0F8",
            "ticks": ""
           }
          },
          "scene": {
           "xaxis": {
            "backgroundcolor": "white",
            "gridcolor": "#DFE8F3",
            "gridwidth": 2,
            "linecolor": "#EBF0F8",
            "showbackground": true,
            "ticks": "",
            "zerolinecolor": "#EBF0F8"
           },
           "yaxis": {
            "backgroundcolor": "white",
            "gridcolor": "#DFE8F3",
            "gridwidth": 2,
            "linecolor": "#EBF0F8",
            "showbackground": true,
            "ticks": "",
            "zerolinecolor": "#EBF0F8"
           },
           "zaxis": {
            "backgroundcolor": "white",
            "gridcolor": "#DFE8F3",
            "gridwidth": 2,
            "linecolor": "#EBF0F8",
            "showbackground": true,
            "ticks": "",
            "zerolinecolor": "#EBF0F8"
           }
          },
          "shapedefaults": {
           "line": {
            "color": "#2a3f5f"
           }
          },
          "ternary": {
           "aaxis": {
            "gridcolor": "#DFE8F3",
            "linecolor": "#A2B1C6",
            "ticks": ""
           },
           "baxis": {
            "gridcolor": "#DFE8F3",
            "linecolor": "#A2B1C6",
            "ticks": ""
           },
           "bgcolor": "white",
           "caxis": {
            "gridcolor": "#DFE8F3",
            "linecolor": "#A2B1C6",
            "ticks": ""
           }
          },
          "title": {
           "x": 0.05
          },
          "xaxis": {
           "automargin": true,
           "gridcolor": "#EBF0F8",
           "linecolor": "#EBF0F8",
           "ticks": "",
           "title": {
            "standoff": 15
           },
           "zerolinecolor": "#EBF0F8",
           "zerolinewidth": 2
          },
          "yaxis": {
           "automargin": true,
           "gridcolor": "#EBF0F8",
           "linecolor": "#EBF0F8",
           "ticks": "",
           "title": {
            "standoff": 15
           },
           "zerolinecolor": "#EBF0F8",
           "zerolinewidth": 2
          }
         }
        },
        "title": {
         "text": "Distribution of film production by countries"
        }
       }
<<<<<<< HEAD
      }
=======
      },
      "text/html": [
       "<div>                            <div id=\"46d88273-fd5b-4f18-a068-6decfb1cb0c2\" class=\"plotly-graph-div\" style=\"height:525px; width:100%;\"></div>            <script type=\"text/javascript\">                require([\"plotly\"], function(Plotly) {                    window.PLOTLYENV=window.PLOTLYENV || {};                                    if (document.getElementById(\"46d88273-fd5b-4f18-a068-6decfb1cb0c2\")) {                    Plotly.newPlot(                        \"46d88273-fd5b-4f18-a068-6decfb1cb0c2\",                        [{\"coloraxis\":\"coloraxis\",\"geo\":\"geo\",\"hovertemplate\":\"locations=%{location}<br>color=%{z}<extra></extra>\",\"locations\":[\"USA\",\"IND\",\"GBR\",\"JPN\",\"Unknown\",\"KOR\",\"ESP\",\"CAN\",\"FRA\",\"MEX\",\"BRA\",\"DEU\",\"TUR\",\"PHL\",\"CHN\",\"AUS\",\"NGA\",\"ITA\",\"TWN\",\"IDN\",\"ARG\",\"COL\",\"POL\",\"EGY\",\"ZAF\",\"THA\",\"BEL\",\"HKG\",\"LBN\",\"NLD\",\"XX\",\"SGP\",\"SWE\",\"DNK\",\"MYS\",\"CHL\",\"NOR\",\"ISR\",\"ARE\",\"RUS\",\"SAU\",\"PSE\",\"IRL\",\"AUT\",\"PER\",\"NZL\",\"KWT\",\"CZE\",\"ISL\",\"ROU\",\"FIN\",\"TZA\",\"BGR\",\"CHE\",\"PRT\",\"KEN\",\"LUX\",\"PAK\",\"HUN\",\"BGD\",\"IOT\",\"URY\",\"GHA\",\"JOR\",\"UKR\",\"VNM\",\"QAT\",\"PRI\",\"CMR\",\"SRB\",\"COD\",\"AFG\",\"GEO\",\"MAR\",\"TUN\",\"GTM\",\"CUB\",\"NPL\",\"SEN\",\"BLR\",\"HRV\",\"GRC\",\"BTN\",\"MUS\",\"NAM\",\"KGZ\",\"KHM\",\"IRN\",\"SU\",\"PRY\",\"MLT\",\"IRQ\",\"ZWE\",\"SYR\",\"VEN\",\"DZA\",\"GRL\"],\"name\":\"\",\"z\":[2084,610,296,273,229,224,182,176,167,111,96,92,84,84,77,75,69,68,63,62,59,45,41,41,38,33,32,29,27,26,23,22,20,18,16,16,16,15,15,14,12,12,11,10,9,9,7,7,6,5,5,4,4,4,4,3,3,3,3,3,3,3,3,3,3,3,3,2,2,2,2,2,2,2,1,1,1,1,1,1,1,1,1,1,1,1,1,1,1,1,1,1,1,1,1,1,1],\"type\":\"choropleth\"}],                        {\"template\":{\"data\":{\"barpolar\":[{\"marker\":{\"line\":{\"color\":\"white\",\"width\":0.5},\"pattern\":{\"fillmode\":\"overlay\",\"size\":10,\"solidity\":0.2}},\"type\":\"barpolar\"}],\"bar\":[{\"error_x\":{\"color\":\"#2a3f5f\"},\"error_y\":{\"color\":\"#2a3f5f\"},\"marker\":{\"line\":{\"color\":\"white\",\"width\":0.5},\"pattern\":{\"fillmode\":\"overlay\",\"size\":10,\"solidity\":0.2}},\"type\":\"bar\"}],\"carpet\":[{\"aaxis\":{\"endlinecolor\":\"#2a3f5f\",\"gridcolor\":\"#C8D4E3\",\"linecolor\":\"#C8D4E3\",\"minorgridcolor\":\"#C8D4E3\",\"startlinecolor\":\"#2a3f5f\"},\"baxis\":{\"endlinecolor\":\"#2a3f5f\",\"gridcolor\":\"#C8D4E3\",\"linecolor\":\"#C8D4E3\",\"minorgridcolor\":\"#C8D4E3\",\"startlinecolor\":\"#2a3f5f\"},\"type\":\"carpet\"}],\"choropleth\":[{\"colorbar\":{\"outlinewidth\":0,\"ticks\":\"\"},\"type\":\"choropleth\"}],\"contourcarpet\":[{\"colorbar\":{\"outlinewidth\":0,\"ticks\":\"\"},\"type\":\"contourcarpet\"}],\"contour\":[{\"colorbar\":{\"outlinewidth\":0,\"ticks\":\"\"},\"colorscale\":[[0.0,\"#0d0887\"],[0.1111111111111111,\"#46039f\"],[0.2222222222222222,\"#7201a8\"],[0.3333333333333333,\"#9c179e\"],[0.4444444444444444,\"#bd3786\"],[0.5555555555555556,\"#d8576b\"],[0.6666666666666666,\"#ed7953\"],[0.7777777777777778,\"#fb9f3a\"],[0.8888888888888888,\"#fdca26\"],[1.0,\"#f0f921\"]],\"type\":\"contour\"}],\"heatmapgl\":[{\"colorbar\":{\"outlinewidth\":0,\"ticks\":\"\"},\"colorscale\":[[0.0,\"#0d0887\"],[0.1111111111111111,\"#46039f\"],[0.2222222222222222,\"#7201a8\"],[0.3333333333333333,\"#9c179e\"],[0.4444444444444444,\"#bd3786\"],[0.5555555555555556,\"#d8576b\"],[0.6666666666666666,\"#ed7953\"],[0.7777777777777778,\"#fb9f3a\"],[0.8888888888888888,\"#fdca26\"],[1.0,\"#f0f921\"]],\"type\":\"heatmapgl\"}],\"heatmap\":[{\"colorbar\":{\"outlinewidth\":0,\"ticks\":\"\"},\"colorscale\":[[0.0,\"#0d0887\"],[0.1111111111111111,\"#46039f\"],[0.2222222222222222,\"#7201a8\"],[0.3333333333333333,\"#9c179e\"],[0.4444444444444444,\"#bd3786\"],[0.5555555555555556,\"#d8576b\"],[0.6666666666666666,\"#ed7953\"],[0.7777777777777778,\"#fb9f3a\"],[0.8888888888888888,\"#fdca26\"],[1.0,\"#f0f921\"]],\"type\":\"heatmap\"}],\"histogram2dcontour\":[{\"colorbar\":{\"outlinewidth\":0,\"ticks\":\"\"},\"colorscale\":[[0.0,\"#0d0887\"],[0.1111111111111111,\"#46039f\"],[0.2222222222222222,\"#7201a8\"],[0.3333333333333333,\"#9c179e\"],[0.4444444444444444,\"#bd3786\"],[0.5555555555555556,\"#d8576b\"],[0.6666666666666666,\"#ed7953\"],[0.7777777777777778,\"#fb9f3a\"],[0.8888888888888888,\"#fdca26\"],[1.0,\"#f0f921\"]],\"type\":\"histogram2dcontour\"}],\"histogram2d\":[{\"colorbar\":{\"outlinewidth\":0,\"ticks\":\"\"},\"colorscale\":[[0.0,\"#0d0887\"],[0.1111111111111111,\"#46039f\"],[0.2222222222222222,\"#7201a8\"],[0.3333333333333333,\"#9c179e\"],[0.4444444444444444,\"#bd3786\"],[0.5555555555555556,\"#d8576b\"],[0.6666666666666666,\"#ed7953\"],[0.7777777777777778,\"#fb9f3a\"],[0.8888888888888888,\"#fdca26\"],[1.0,\"#f0f921\"]],\"type\":\"histogram2d\"}],\"histogram\":[{\"marker\":{\"pattern\":{\"fillmode\":\"overlay\",\"size\":10,\"solidity\":0.2}},\"type\":\"histogram\"}],\"mesh3d\":[{\"colorbar\":{\"outlinewidth\":0,\"ticks\":\"\"},\"type\":\"mesh3d\"}],\"parcoords\":[{\"line\":{\"colorbar\":{\"outlinewidth\":0,\"ticks\":\"\"}},\"type\":\"parcoords\"}],\"pie\":[{\"automargin\":true,\"type\":\"pie\"}],\"scatter3d\":[{\"line\":{\"colorbar\":{\"outlinewidth\":0,\"ticks\":\"\"}},\"marker\":{\"colorbar\":{\"outlinewidth\":0,\"ticks\":\"\"}},\"type\":\"scatter3d\"}],\"scattercarpet\":[{\"marker\":{\"colorbar\":{\"outlinewidth\":0,\"ticks\":\"\"}},\"type\":\"scattercarpet\"}],\"scattergeo\":[{\"marker\":{\"colorbar\":{\"outlinewidth\":0,\"ticks\":\"\"}},\"type\":\"scattergeo\"}],\"scattergl\":[{\"marker\":{\"colorbar\":{\"outlinewidth\":0,\"ticks\":\"\"}},\"type\":\"scattergl\"}],\"scattermapbox\":[{\"marker\":{\"colorbar\":{\"outlinewidth\":0,\"ticks\":\"\"}},\"type\":\"scattermapbox\"}],\"scatterpolargl\":[{\"marker\":{\"colorbar\":{\"outlinewidth\":0,\"ticks\":\"\"}},\"type\":\"scatterpolargl\"}],\"scatterpolar\":[{\"marker\":{\"colorbar\":{\"outlinewidth\":0,\"ticks\":\"\"}},\"type\":\"scatterpolar\"}],\"scatter\":[{\"fillpattern\":{\"fillmode\":\"overlay\",\"size\":10,\"solidity\":0.2},\"type\":\"scatter\"}],\"scatterternary\":[{\"marker\":{\"colorbar\":{\"outlinewidth\":0,\"ticks\":\"\"}},\"type\":\"scatterternary\"}],\"surface\":[{\"colorbar\":{\"outlinewidth\":0,\"ticks\":\"\"},\"colorscale\":[[0.0,\"#0d0887\"],[0.1111111111111111,\"#46039f\"],[0.2222222222222222,\"#7201a8\"],[0.3333333333333333,\"#9c179e\"],[0.4444444444444444,\"#bd3786\"],[0.5555555555555556,\"#d8576b\"],[0.6666666666666666,\"#ed7953\"],[0.7777777777777778,\"#fb9f3a\"],[0.8888888888888888,\"#fdca26\"],[1.0,\"#f0f921\"]],\"type\":\"surface\"}],\"table\":[{\"cells\":{\"fill\":{\"color\":\"#EBF0F8\"},\"line\":{\"color\":\"white\"}},\"header\":{\"fill\":{\"color\":\"#C8D4E3\"},\"line\":{\"color\":\"white\"}},\"type\":\"table\"}]},\"layout\":{\"annotationdefaults\":{\"arrowcolor\":\"#2a3f5f\",\"arrowhead\":0,\"arrowwidth\":1},\"autotypenumbers\":\"strict\",\"coloraxis\":{\"colorbar\":{\"outlinewidth\":0,\"ticks\":\"\"}},\"colorscale\":{\"diverging\":[[0,\"#8e0152\"],[0.1,\"#c51b7d\"],[0.2,\"#de77ae\"],[0.3,\"#f1b6da\"],[0.4,\"#fde0ef\"],[0.5,\"#f7f7f7\"],[0.6,\"#e6f5d0\"],[0.7,\"#b8e186\"],[0.8,\"#7fbc41\"],[0.9,\"#4d9221\"],[1,\"#276419\"]],\"sequential\":[[0.0,\"#0d0887\"],[0.1111111111111111,\"#46039f\"],[0.2222222222222222,\"#7201a8\"],[0.3333333333333333,\"#9c179e\"],[0.4444444444444444,\"#bd3786\"],[0.5555555555555556,\"#d8576b\"],[0.6666666666666666,\"#ed7953\"],[0.7777777777777778,\"#fb9f3a\"],[0.8888888888888888,\"#fdca26\"],[1.0,\"#f0f921\"]],\"sequentialminus\":[[0.0,\"#0d0887\"],[0.1111111111111111,\"#46039f\"],[0.2222222222222222,\"#7201a8\"],[0.3333333333333333,\"#9c179e\"],[0.4444444444444444,\"#bd3786\"],[0.5555555555555556,\"#d8576b\"],[0.6666666666666666,\"#ed7953\"],[0.7777777777777778,\"#fb9f3a\"],[0.8888888888888888,\"#fdca26\"],[1.0,\"#f0f921\"]]},\"colorway\":[\"#636efa\",\"#EF553B\",\"#00cc96\",\"#ab63fa\",\"#FFA15A\",\"#19d3f3\",\"#FF6692\",\"#B6E880\",\"#FF97FF\",\"#FECB52\"],\"font\":{\"color\":\"#2a3f5f\"},\"geo\":{\"bgcolor\":\"white\",\"lakecolor\":\"white\",\"landcolor\":\"white\",\"showlakes\":true,\"showland\":true,\"subunitcolor\":\"#C8D4E3\"},\"hoverlabel\":{\"align\":\"left\"},\"hovermode\":\"closest\",\"mapbox\":{\"style\":\"light\"},\"paper_bgcolor\":\"white\",\"plot_bgcolor\":\"white\",\"polar\":{\"angularaxis\":{\"gridcolor\":\"#EBF0F8\",\"linecolor\":\"#EBF0F8\",\"ticks\":\"\"},\"bgcolor\":\"white\",\"radialaxis\":{\"gridcolor\":\"#EBF0F8\",\"linecolor\":\"#EBF0F8\",\"ticks\":\"\"}},\"scene\":{\"xaxis\":{\"backgroundcolor\":\"white\",\"gridcolor\":\"#DFE8F3\",\"gridwidth\":2,\"linecolor\":\"#EBF0F8\",\"showbackground\":true,\"ticks\":\"\",\"zerolinecolor\":\"#EBF0F8\"},\"yaxis\":{\"backgroundcolor\":\"white\",\"gridcolor\":\"#DFE8F3\",\"gridwidth\":2,\"linecolor\":\"#EBF0F8\",\"showbackground\":true,\"ticks\":\"\",\"zerolinecolor\":\"#EBF0F8\"},\"zaxis\":{\"backgroundcolor\":\"white\",\"gridcolor\":\"#DFE8F3\",\"gridwidth\":2,\"linecolor\":\"#EBF0F8\",\"showbackground\":true,\"ticks\":\"\",\"zerolinecolor\":\"#EBF0F8\"}},\"shapedefaults\":{\"line\":{\"color\":\"#2a3f5f\"}},\"ternary\":{\"aaxis\":{\"gridcolor\":\"#DFE8F3\",\"linecolor\":\"#A2B1C6\",\"ticks\":\"\"},\"baxis\":{\"gridcolor\":\"#DFE8F3\",\"linecolor\":\"#A2B1C6\",\"ticks\":\"\"},\"bgcolor\":\"white\",\"caxis\":{\"gridcolor\":\"#DFE8F3\",\"linecolor\":\"#A2B1C6\",\"ticks\":\"\"}},\"title\":{\"x\":0.05},\"xaxis\":{\"automargin\":true,\"gridcolor\":\"#EBF0F8\",\"linecolor\":\"#EBF0F8\",\"ticks\":\"\",\"title\":{\"standoff\":15},\"zerolinecolor\":\"#EBF0F8\",\"zerolinewidth\":2},\"yaxis\":{\"automargin\":true,\"gridcolor\":\"#EBF0F8\",\"linecolor\":\"#EBF0F8\",\"ticks\":\"\",\"title\":{\"standoff\":15},\"zerolinecolor\":\"#EBF0F8\",\"zerolinewidth\":2}}},\"geo\":{\"domain\":{\"x\":[0.0,1.0],\"y\":[0.0,1.0]},\"center\":{}},\"coloraxis\":{\"colorbar\":{\"title\":{\"text\":\"color\"}},\"colorscale\":[[0.0,\"rgb(230, 240, 240)\"],[0.09090909090909091,\"rgb(191, 221, 229)\"],[0.18181818181818182,\"rgb(156, 201, 226)\"],[0.2727272727272727,\"rgb(129, 180, 227)\"],[0.36363636363636365,\"rgb(115, 154, 228)\"],[0.45454545454545453,\"rgb(117, 127, 221)\"],[0.5454545454545454,\"rgb(120, 100, 202)\"],[0.6363636363636364,\"rgb(119, 74, 175)\"],[0.7272727272727273,\"rgb(113, 50, 141)\"],[0.8181818181818182,\"rgb(100, 31, 104)\"],[0.9090909090909091,\"rgb(80, 20, 66)\"],[1.0,\"rgb(54, 14, 36)\"]]},\"legend\":{\"tracegroupgap\":0},\"title\":{\"text\":\"Distribution of film production by countries\"},\"font\":{\"size\":17,\"family\":\"Franklin Gothic\"}},                        {\"responsive\": true}                    ).then(function(){\n",
       "                            \n",
       "var gd = document.getElementById('46d88273-fd5b-4f18-a068-6decfb1cb0c2');\n",
       "var x = new MutationObserver(function (mutations, observer) {{\n",
       "        var display = window.getComputedStyle(gd).display;\n",
       "        if (!display || display === 'none') {{\n",
       "            console.log([gd, 'removed!']);\n",
       "            Plotly.purge(gd);\n",
       "            observer.disconnect();\n",
       "        }}\n",
       "}});\n",
       "\n",
       "// Listen for the removal of the full notebook cells\n",
       "var notebookContainer = gd.closest('#notebook-container');\n",
       "if (notebookContainer) {{\n",
       "    x.observe(notebookContainer, {childList: true});\n",
       "}}\n",
       "\n",
       "// Listen for the clearing of the current output cell\n",
       "var outputEl = gd.closest('.output');\n",
       "if (outputEl) {{\n",
       "    x.observe(outputEl, {childList: true});\n",
       "}}\n",
       "\n",
       "                        })                };                });            </script>        </div>"
      ]
>>>>>>> ae2281c98dcff017c6e084b225d71bd004473d45
     },
     "metadata": {},
     "output_type": "display_data"
    }
   ],
   "source": [
    "fig=px.choropleth(locations=country.index,\n",
    "                  color=country.values,\n",
    "                  color_continuous_scale=px.colors.sequential.dense,\n",
    "                  template='plotly_white',\n",
    "                  title='Distribution of film production by countries')\n",
    "\n",
    "fig.update_layout(font=dict(size=17, family=\"Franklin Gothic\"))\n",
    "fig.show()"
   ]
  },
  {
   "attachments": {},
   "cell_type": "markdown",
   "metadata": {},
   "source": [
    "*From the map:* \n",
    "The production country of movies and TV shows on Netflix is mostly in the United States. <br>\n",
    "Because the United States has the most production companies in the world and the entertainment commerce is the most important industry in the United States. <br>\n",
    "In US, there are many famous production companies such as: Netflix, Disney, Warner Bros, Paramount Pictures, Sony Pictures, Universal Pictures, 20th Century Fox, ... <br>\n",
    "So, it is not surprising that the production country of movies and TV shows on Netflix is mostly in the United States. <br>\n",
    "The next countries that have the most production companies is India which is popular for Bollywood movies and TV shows. Moreover, India is famous for long-running TV shows such as: Mahabharat, Ramayan, ... <br>\n"
   ]
  },
  {
   "attachments": {},
   "cell_type": "markdown",
   "metadata": {},
   "source": [
    "# <b> 7. Reflection <a class=\"anchor\" id=\"7\"></a>"
   ]
  },
  {
   "attachments": {},
   "cell_type": "markdown",
   "metadata": {},
   "source": [
    "## Lê Nguyễn Nhật Phú \n",
    "### MSSV: 20127275"
   ]
  },
  {
   "attachments": {},
   "cell_type": "markdown",
   "metadata": {},
   "source": [
    "\n",
    "* What difficulties have you encountered?\n",
    "<br/> There are many difficulties for me in this project like which data to choose, learning how to use matplotlib and seaborn library to visualize the data or how to preprocess the data.\n",
    "* What have you learned?\n",
    "<br/> I have learned how to use matplotlib and seaborn library to visualize the data. Moreover, I have learned how to use pandas to preprocess and analyze the data. And also, I have learned how to use git and github to collaborate with my teammates.\n",
    "* If you had more time, what would you do?\n",
    "<br/> If I had more time, I'd have use more libraries to visualize the data and make the notebook more beautiful. "
   ]
  },
  {
   "attachments": {},
   "cell_type": "markdown",
   "metadata": {},
   "source": [
    "## Nguyễn Thiên Phúc\n",
    "### MSSV: 20127681"
   ]
  },
  {
   "attachments": {},
   "cell_type": "markdown",
   "metadata": {},
   "source": [
    "* What difficulties have you encountered?\n",
    "<br/> In the preprocessing step, I had to deal with the data that has many missing values. I had to find a way to fill the missing values. I also had to deal with the data that has many columns. I had to find a way to extract the information that I need from the data.\n",
    "* What have you learned?\n",
    "<br/> I have learned more methods to preprocess the data in pandas libray. I also know more about the logic in data analysis.\n",
    "* If you had more time, what would you do?\n",
    "<br/> If I had more time, I would have applied machine learning algorithms to the data to predict the missing values and Nan. I would have also applied more methods to visualize the data."
   ]
  },
  {
   "attachments": {},
   "cell_type": "markdown",
   "metadata": {},
   "source": [
    "# <b> 8. References <a class=\"anchor\" id=\"8\"></a>"
   ]
  },
  {
   "attachments": {},
   "cell_type": "markdown",
   "metadata": {},
   "source": [
    "[1. Kaggle](https://www.kaggle.com/datasets/victorsoeiro/netflix-tv-shows-and-movies?select=credits.csv) \\\n",
    "[2. Mattplotlib](https://matplotlib.org/) \\\n",
    "[3. Seaborn](https://seaborn.pydata.org/) \\\n",
    "[4. Plotly](https://plotly.com/python/) \\\n",
    "[5. Pandas](https://pandas.pydata.org/) "
   ]
  }
 ],
 "metadata": {
  "kernelspec": {
   "display_name": "Python 3",
   "language": "python",
   "name": "python3"
  },
  "language_info": {
   "codemirror_mode": {
    "name": "ipython",
    "version": 3
   },
   "file_extension": ".py",
   "mimetype": "text/x-python",
   "name": "python",
   "nbconvert_exporter": "python",
   "pygments_lexer": "ipython3",
   "version": "3.10.4"
  },
  "orig_nbformat": 4,
  "vscode": {
   "interpreter": {
<<<<<<< HEAD
    "hash": "b030d41fcbb3283539ae19cff4af54be756dad4883c730ee47897827c9982579"
=======
    "hash": "490007576caec611db8bba55271708dff6d4b8311d3b4443a8e2690ac0c6843b"
>>>>>>> ae2281c98dcff017c6e084b225d71bd004473d45
   }
  }
 },
 "nbformat": 4,
 "nbformat_minor": 2
}
